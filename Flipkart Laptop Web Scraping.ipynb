{
 "cells": [
  {
   "cell_type": "code",
   "execution_count": 205,
   "id": "2e2c77bc",
   "metadata": {},
   "outputs": [],
   "source": [
    "import numpy as np\n",
    "import pandas as pd\n",
    "import matplotlib.pyplot as plt\n",
    "import seaborn as sns\n",
    "import requests\n",
    "from bs4 import BeautifulSoup\n",
    "import warnings\n",
    "warnings.filterwarnings('ignore')"
   ]
  },
  {
   "cell_type": "code",
   "execution_count": 206,
   "id": "643fe773",
   "metadata": {},
   "outputs": [],
   "source": [
    "url = 'https://www.flipkart.com/search?q=laptop&otracker=search&otracker1=search&marketplace=FLIPKART&as-show=on&as=off'"
   ]
  },
  {
   "cell_type": "code",
   "execution_count": 207,
   "id": "c6913d23",
   "metadata": {},
   "outputs": [],
   "source": [
    "# headers = {\"User-Agent\" : \"Mozilla/5.0 (Windows NT 10.0; Win64; x64; rv:99.0) Gecko/20100101 Firefox/99.0\"}"
   ]
  },
  {
   "cell_type": "code",
   "execution_count": 208,
   "id": "ca2b1937",
   "metadata": {},
   "outputs": [
    {
     "name": "stdout",
     "output_type": "stream",
     "text": [
      "<Response [200]>\n"
     ]
    }
   ],
   "source": [
    "res = requests.get(url)\n",
    "print(res)"
   ]
  },
  {
   "cell_type": "code",
   "execution_count": null,
   "id": "67591908",
   "metadata": {},
   "outputs": [],
   "source": []
  },
  {
   "cell_type": "code",
   "execution_count": 209,
   "id": "89b0ec61",
   "metadata": {},
   "outputs": [
    {
     "data": {
      "text/plain": [
       "<!DOCTYPE html>\n",
       "<html lang=\"en\"><head><link href=\"https://rukminim2.flixcart.com\" rel=\"preconnect\"/><link href=\"//static-assets-web.flixcart.com/fk-p-linchpin-web/fk-cp-zion/css/app_modules.chunk.905c37.css\" rel=\"stylesheet\"/><link href=\"//static-assets-web.flixcart.com/fk-p-linchpin-web/fk-cp-zion/css/app.chunk.615ed9.css\" rel=\"stylesheet\"/><meta content=\"text/html; charset=utf-8\" http-equiv=\"Content-type\"/><meta content=\"IE=Edge\" http-equiv=\"X-UA-Compatible\"/><meta content=\"102988293558\" property=\"fb:page_id\"/><meta content=\"658873552,624500995,100000233612389\" property=\"fb:admins\"/><meta content=\"noodp\" name=\"robots\"/><link href=\"https:///www/promos/new/20150528-140547-favicon-retina.ico\" rel=\"shortcut icon\"/><link href=\"/osdd.xml?v=2\" rel=\"search\" type=\"application/opensearchdescription+xml\"/><meta content=\"website\" property=\"og:type\"/><meta content=\"Flipkart.com\" name=\"og_site_name\" property=\"og:site_name\"/><link href=\"/apple-touch-icon-57x57.png\" rel=\"apple-touch-icon\" sizes=\"57x57\"/><link href=\"/apple-touch-icon-72x72.png\" rel=\"apple-touch-icon\" sizes=\"72x72\"/><link href=\"/apple-touch-icon-114x114.png\" rel=\"apple-touch-icon\" sizes=\"114x114\"/><link href=\"/apple-touch-icon-144x144.png\" rel=\"apple-touch-icon\" sizes=\"144x144\"/><link href=\"/apple-touch-icon-57x57.png\" rel=\"apple-touch-icon\"/><meta content=\"app\" name=\"twitter:card\"/><meta content=\"@flipkart\" name=\"twitter:site\"/><meta content=\"@flipkart\" name=\"twitter:creator\"/><meta content=\"Laptop- Buy Products Online at Best Price in India - All Categories | Flipkart.com\" name=\"twitter:title\"/><meta content=\"Shop for electronics, apparels &amp; more using our Flipkart app Free shipping &amp; COD.\" name=\"twitter:description\"/><meta content=\"in\" name=\"twitter:app:country\"/><meta content=\"Flipkart\" name=\"al:ios:app_name\"/><meta content=\"742044692\" name=\"al:ios:app_store_id\"/><meta content=\"Flipkart\" name=\"twitter:app:name:iphone\"/><meta content=\"742044692\" name=\"twitter:app:id:iphone\"/><meta content=\"http://dl.flipkart.com/dl/home?\" name=\"twitter:app:url:iphone\"/><meta content=\"Flipkart\" name=\"twitter:app:name:ipad\"/><meta content=\"742044692\" name=\"twitter:app:id:ipad\"/><meta content=\"http://dl.flipkart.com/dl/home?\" name=\"twitter:app:url:ipad\"/><meta content=\"Flipkart\" name=\"twitter:app:name:googleplay\"/><meta content=\"com.flipkart.android\" name=\"twitter:app:id:googleplay\"/><meta content=\"http://dl.flipkart.com/dl/home?\" name=\"twitter:app:url:googleplay\"/><style>#container {\n",
       "\t\t\theight: 100%;\n",
       "\t\t}</style> <link href=\"///fk-cp-zion/css/Browse.chunk.b2aeab.css\" rel=\"stylesheet\"/><title>Laptop- Buy Products Online at Best Price in India - All Categories | Flipkart.com</title><meta content=\"Laptop- Buy Products Online at Best Price in India - All Categories | Flipkart.com\" name=\"og_title\" property=\"og:title\"/><meta content=\"Laptop\" name=\"Keywords\"/> <meta content=\"Laptop- Buy Products Online at Best Price in India. India's Leading E-commerce Company - Free Home Delivery - All Categories | Flipkart.com\" name=\"Description\"/><meta content=\"Laptop- Buy Products Online at Best Price in India. India's Leading E-commerce Company - Free Home Delivery - All Categories | Flipkart.com\" property=\"og:description\"/> <meta content=\"noindex\" name=\"robots\"/> <meta content=\"F4EEB3A0AFFDD385992A06E6920C0AC3\" name=\"msvalidate.01\"/> <!--[if IE 9 ]>\n",
       "\t<script nonce=\"3330201420295177327\">\n",
       "\t\twindow.browserVersion = 'IE9';\n",
       "\t\tdocument.documentElement.className += ' ie9';\n",
       "\t</script>\n",
       "\t<![endif]--><!--[if !IE]><!--><script nonce=\"3330201420295177327\">if (/*@cc_on!@*/false) {\n",
       "\t\t\twindow.browserVersion = 'IE10';\n",
       "\t\t\tdocument.documentElement.className += ' ie10';\n",
       "\t\t}</script><!--<![endif]--> <link href=\"https://www.flipkart.com/search?q=laptop&amp;otracker=search&amp;otracker1=search&amp;marketplace=FLIPKART&amp;as-show=on&amp;as=off&amp;page=2\" id=\"next-page-link-tag\" rel=\"next\"/><script nonce=\"3330201420295177327\">!function(){if(\"PerformancePaintTiming\" in window){var e=window.__perf={e:[]};e.o=new PerformanceObserver(function(n){e.e=e.e.concat(n.getEntries())});try{e.o.observe({entryTypes:[\"paint\"]})}catch(e){}}}();\n",
       "\n",
       "\t\tif (requestAnimationFrame && performance && performance.mark) {\n",
       "\t\t\trequestAnimationFrame(function () {\n",
       "\t\t\t\twindow.first_paint = performance.now();\n",
       "\t\t\t\tperformance.mark(\"first_paint\");\n",
       "\t\t\t});\n",
       "\t\t}\n",
       "\n",
       "        // web-vitals polyfill for FID\n",
       "        !function(n,e){var t,o,i,c=[],f={passive:!0,capture:!0},r=new Date,a=\"pointerup\",u=\"pointercancel\";function p(n,c){t||(t=c,o=n,i=new Date,w(e),s())}function s(){o>=0&&o<i-r&&(c.forEach(function(n){n(o,t)}),c=[])}function l(t){if(t.cancelable){var o=(t.timeStamp>1e12?new Date:performance.now())-t.timeStamp;\"pointerdown\"==t.type?function(t,o){function i(){p(t,o),r()}function c(){r()}function r(){e(a,i,f),e(u,c,f)}n(a,i,f),n(u,c,f)}(o,t):p(o,t)}}function w(n){[\"click\",\"mousedown\",\"keydown\",\"touchstart\",\"pointerdown\"].forEach(function(e){n(e,l,f)})}w(n),self.perfMetrics=self.perfMetrics||{},self.perfMetrics.onFirstInputDelay=function(n){c.push(n),s()}}(addEventListener,removeEventListener);</script><script async=\"\" src=\"https://www.googletagmanager.com/gtag/js?id=AW-594691041\"></script><script nonce=\"3330201420295177327\">window.dataLayer = window.dataLayer || [];\n",
       "\t\tfunction gtag(){dataLayer.push(arguments)};\n",
       "\t\tgtag('js', new Date());</script></head><body><div id=\"container\"><div><div class=\"_1kfTjk\"><div class=\"_1rH5Jn\"><div class=\"_1TmfNK\"></div><div class=\"_2Xfa2_\"><div class=\"_3_C9Hx\"><div class=\"_3qX0zy\"><a href=\"/\"><img alt=\"Flipkart\" class=\"_2xm1JU\" src=\"//static-assets-web.flixcart.com/fk-p-linchpin-web/fk-cp-zion/img/flipkart-plus_8d85f4.png\" title=\"Flipkart\" width=\"75\"/></a><a class=\"_21ljIi\" href=\"/plus\">Explore<!-- --> <span class=\"_2FVHGh\">Plus</span><img src=\"//static-assets-web.flixcart.com/fk-p-linchpin-web/fk-cp-zion/img/plus_aef861.png\" width=\"10\"/></a></div></div><div class=\"_1cmsER\"><form action=\"/search\" class=\"_2M8cLY header-form-search\" method=\"GET\"><div class=\"col-12-12 _2oO9oE\"><div class=\"_3OO5Xc\"><input autocomplete=\"off\" class=\"_3704LK\" name=\"q\" placeholder=\"Search for products, brands and more\" title=\"Search for products, brands and more\" type=\"text\" value=\"laptop\"/></div><button class=\"L0Z3Pu\" type=\"submit\"><svg class=\"\" height=\"20\" viewbox=\"0 0 17 18\" width=\"20\" xmlns=\"http://www.w3.org/2000/svg\"><g fill=\"#2874F1\" fill-rule=\"evenodd\"><path class=\"_34RNph\" d=\"m11.618 9.897l4.225 4.212c.092.092.101.232.02.313l-1.465 1.46c-.081.081-.221.072-.314-.02l-4.216-4.203\"></path><path class=\"_34RNph\" d=\"m6.486 10.901c-2.42 0-4.381-1.956-4.381-4.368 0-2.413 1.961-4.369 4.381-4.369 2.42 0 4.381 1.956 4.381 4.369 0 2.413-1.961 4.368-4.381 4.368m0-10.835c-3.582 0-6.486 2.895-6.486 6.467 0 3.572 2.904 6.467 6.486 6.467 3.582 0 6.486-2.895 6.486-6.467 0-3.572-2.904-6.467-6.486-6.467\"></path></g></svg></button><input name=\"otracker\" type=\"hidden\" value=\"search\"/><input name=\"otracker1\" type=\"hidden\" value=\"search\"/><input name=\"marketplace\" type=\"hidden\" value=\"FLIPKART\"/><input name=\"as-show\" type=\"hidden\" value=\"off\"/><input name=\"as\" type=\"hidden\" value=\"off\"/></div><ul class=\"col-12-12 _1MRYA1\"></ul></form></div><div class=\"go_DOp _2errNR\"><div class=\"_28p97w\"><div class=\"_1psGvi _3BvnxG\"><div><a class=\"_1_3w1N\" href=\"/account/login?ret=/search%3Fq%3Dlaptop%26otracker%3Dsearch%26otracker1%3Dsearch%26marketplace%3DFLIPKART%26as-show%3Don%26as%3Doff\">Login</a></div></div></div></div><div class=\"go_DOp\"><a class=\"_3-PJz-\" href=\"https://seller.flipkart.com/sell-online/?utm_source=fkwebsite&amp;utm_medium=websitedirect\"><span>Become a Seller</span></a></div><div class=\"go_DOp\"><div class=\"_28p97w\"><div class=\"_1psGvi _3BvnxG\"><div><div class=\"exehdJ\"> <!-- -->More<!-- --> </div></div></div><svg class=\"zZ3yfL\" height=\"8\" viewbox=\"0 0 16 27\" width=\"4.7\" xmlns=\"http://www.w3.org/2000/svg\"><path class=\"_2gTTdy\" d=\"M16 23.207L6.11 13.161 16 3.093 12.955 0 0 13.161l12.955 13.161z\" fill=\"#fff\"></path></svg></div></div><div class=\"go_DOp\"><div class=\"_1psGvi\"><div class=\"YUhWwv\"><a class=\"_3SkBxJ\" href=\"/viewcart?exploreMode=true&amp;preference=FLIPKART\"><svg class=\"V3C5bO\" height=\"14\" viewbox=\"0 0 16 16\" width=\"14\" xmlns=\"http://www.w3.org/2000/svg\"><path class=\"_1bS9ic\" d=\"M15.32 2.405H4.887C3 2.405 2.46.805 2.46.805L2.257.21C2.208.085 2.083 0 1.946 0H.336C.1 0-.064.24.024.46l.644 1.945L3.11 9.767c.047.137.175.23.32.23h8.418l-.493 1.958H3.768l.002.003c-.017 0-.033-.003-.05-.003-1.06 0-1.92.86-1.92 1.92s.86 1.92 1.92 1.92c.99 0 1.805-.75 1.91-1.712l5.55.076c.12.922.91 1.636 1.867 1.636 1.04 0 1.885-.844 1.885-1.885 0-.866-.584-1.593-1.38-1.814l2.423-8.832c.12-.433-.206-.86-.655-.86\" fill=\"#fff\"></path></svg><span>Cart</span></a></div></div></div></div><div class=\"_1TmfNK\"></div></div><div class=\"_1mUdNz\"></div></div><div class=\"_331-kn\"></div><div class=\"_36fx1h _6t1WkM _3HqJxg\"><div class=\"_1YokD2 _2GoDe3\"><div class=\"_1YokD2 _3Mn1Gg col-2-12\" style=\"flex:0 0 280px;max-width:280px;padding:0px 10px 0px 0px\"><div class=\"_1YokD2 _3Mn1Gg col-12-12\"><div class=\"_1AtVbE col-12-12\"><div class=\"_1KOcBL\"><section class=\"JWMl0H _2hbLCH\"><div class=\"_2ssEMF\"><div class=\"_3V8rao\"><span>Filters</span></div></div></section><div class=\"_2q_g77\"><section class=\"_2aDURW\"><div class=\"_2lfNTw\"><span>CATEGORIES</span></div><div><div class=\"TB_InB\"><span><svg class=\"_2Iqv73\" height=\"10\" viewbox=\"0 0 16 27\" width=\"10\" xmlns=\"http://www.w3.org/2000/svg\"><path class=\"_3zK8He\" d=\"M16 23.207L6.11 13.161 16 3.093 12.955 0 0 13.161l12.955 13.161z\" fill=\"#fff\"></path></svg></span><a class=\"_2qvBBJ _2Mji8F\" href=\"/computers/pr?sid=6bo&amp;q=laptop&amp;otracker=categorytree\" title=\"Computers\">Computers</a></div></div><div><div class=\"TB_InB\"><span><svg class=\"_2Iqv73\" height=\"10\" viewbox=\"0 0 16 27\" width=\"10\" xmlns=\"http://www.w3.org/2000/svg\"><path class=\"\" d=\"M16 23.207L6.11 13.161 16 3.093 12.955 0 0 13.161l12.955 13.161z\" fill=\"#fff\"></path></svg></span><a class=\"_1jJQdf _2Mji8F\" href=\"/laptops/pr?sid=6bo,b5g&amp;q=laptop&amp;otracker=categorytree\" title=\"Laptops\">Laptops</a></div></div></section></div><section class=\"_2yz7eI _2hbLCH\"><div class=\"_3KxRU6 _2ssEMF\"><div class=\"UR1L2I _3V8rao\"><span>Price</span></div></div><div class=\"_2NBiOm\"><div class=\"_1nneZ0\"><div class=\"_2TbXIJ\" style=\"height:0;width:0\"></div><div class=\"_2TbXIJ\" style=\"height:0;width:0\"></div><div class=\"_2TbXIJ\" style=\"height:0;width:0\"></div><div class=\"_2TbXIJ\" style=\"height:0;width:0\"></div><div class=\"_2TbXIJ\" style=\"height:0;width:0\"></div><div class=\"_2TbXIJ\" style=\"height:0;width:0\"></div></div></div><div class=\"_2r34SG\"><div class=\"_12FhcQ\"><div class=\"_31Kbhn _28DFQy\"><div class=\"_3FdLqY\"></div></div><div class=\"_31Kbhn WC_zGJ\"><div class=\"_3FdLqY\"></div></div><div class=\"_2IN3-t\"></div><div class=\"_2IN3-t _1mRwrD\"></div></div><div class=\"_15GU70\"><div class=\"_1ftpgI\" style=\"width:undefinedpx\">.</div><div class=\"_1ftpgI\" style=\"width:undefinedpx\">.</div><div class=\"_1ftpgI\" style=\"width:undefinedpx\">.</div><div class=\"_1ftpgI\" style=\"width:undefinedpx\">.</div><div class=\"_1ftpgI\" style=\"width:undefinedpx\">.</div><div class=\"_1ftpgI\" style=\"width:undefinedpx\">.</div><div class=\"_1ftpgI\" style=\"width:0px\">.</div></div></div><div class=\"_2b0bUo\"><div class=\"_1YAKP4\"><select class=\"_2YxCDZ\"><option class=\"_3AsjWR\" selected=\"\" value=\"Min\">Min</option><option class=\"_3AsjWR\" value=\"20000\">₹20000</option><option class=\"_3AsjWR\" value=\"40000\">₹40000</option><option class=\"_3AsjWR\" value=\"50000\">₹50000</option><option class=\"_3AsjWR\" value=\"60000\">₹60000</option><option class=\"_3AsjWR\" value=\"75000\">₹75000</option></select></div><div class=\"_3zohzR\">to</div><div class=\"_3uDYxP\"><select class=\"_2YxCDZ\"><option class=\"_3AsjWR\" value=\"20000\">₹20000</option><option class=\"_3AsjWR\" value=\"40000\">₹40000</option><option class=\"_3AsjWR\" value=\"50000\">₹50000</option><option class=\"_3AsjWR\" value=\"60000\">₹60000</option><option class=\"_3AsjWR\" value=\"75000\">₹75000</option><option class=\"_3AsjWR\" selected=\"\" value=\"Max\">₹75000+</option></select></div></div></section><section class=\"_167Mu3 _2hbLCH\"><div class=\"_213eRC _2ssEMF\"><div class=\"_2gmUFU _3V8rao\">Brand</div><svg class=\"ttx38n\" height=\"27\" viewbox=\"0 0 16 27\" width=\"16\" xmlns=\"http://www.w3.org/2000/svg\"><path class=\"IIvmWM\" d=\"M16 23.207L6.11 13.161 16 3.093 12.955 0 0 13.161l12.955 13.161z\" fill=\"#fff\"></path></svg></div></section><section class=\"_167Mu3 _2hbLCH\"><div class=\"_213eRC _2ssEMF\"><div class=\"_2gmUFU _3V8rao\">Type</div><svg class=\"ttx38n\" height=\"27\" viewbox=\"0 0 16 27\" width=\"16\" xmlns=\"http://www.w3.org/2000/svg\"><path class=\"IIvmWM\" d=\"M16 23.207L6.11 13.161 16 3.093 12.955 0 0 13.161l12.955 13.161z\" fill=\"#fff\"></path></svg></div></section><section class=\"_167Mu3 _2hbLCH\"><div class=\"_213eRC _2ssEMF\"><div class=\"_2gmUFU _3V8rao\">Processor</div><svg class=\"ttx38n _3DyGEM\" height=\"27\" viewbox=\"0 0 16 27\" width=\"16\" xmlns=\"http://www.w3.org/2000/svg\"><path class=\"IIvmWM\" d=\"M16 23.207L6.11 13.161 16 3.093 12.955 0 0 13.161l12.955 13.161z\" fill=\"#fff\"></path></svg></div><div class=\"_3FPh42\"><div class=\"_2d0we9\"><div class=\"_2pBqj6\"><svg class=\"_3WAvPc\" height=\"20\" viewbox=\"0 0 17 18\" width=\"20\" xmlns=\"http://www.w3.org/2000/svg\"><g fill=\"#2874F1\" fill-rule=\"evenodd\"><path class=\"-OwdlC\" d=\"m11.618 9.897l4.225 4.212c.092.092.101.232.02.313l-1.465 1.46c-.081.081-.221.072-.314-.02l-4.216-4.203\"></path><path class=\"-OwdlC\" d=\"m6.486 10.901c-2.42 0-4.381-1.956-4.381-4.368 0-2.413 1.961-4.369 4.381-4.369 2.42 0 4.381 1.956 4.381 4.369 0 2.413-1.961 4.368-4.381 4.368m0-10.835c-3.582 0-6.486 2.895-6.486 6.467 0 3.572 2.904 6.467 6.486 6.467 3.582 0 6.486-2.895 6.486-6.467 0-3.572-2.904-6.467-6.486-6.467\"></path></g></svg><input class=\"_34uFYj\" placeholder=\"Search Processor\" type=\"text\" value=\"\"/></div><div class=\"_4921Z t0pPfW\" title=\"Core i5\"><div class=\"_1Y4Vhm _4FO7b6\"><label class=\"_2iDkf8 t0pPfW\"><input class=\"_30VH1S\" readonly=\"\" type=\"checkbox\"/><div class=\"_24_Dny\"></div><div class=\"_3879cV\">Core i5</div></label></div></div><div class=\"_4921Z t0pPfW\" title=\"Core i3\"><div class=\"_1Y4Vhm _4FO7b6\"><label class=\"_2iDkf8 t0pPfW\"><input class=\"_30VH1S\" readonly=\"\" type=\"checkbox\"/><div class=\"_24_Dny\"></div><div class=\"_3879cV\">Core i3</div></label></div></div><div class=\"_4921Z t0pPfW\" title=\"Core i7\"><div class=\"_1Y4Vhm _4FO7b6\"><label class=\"_2iDkf8 t0pPfW\"><input class=\"_30VH1S\" readonly=\"\" type=\"checkbox\"/><div class=\"_24_Dny\"></div><div class=\"_3879cV\">Core i7</div></label></div></div><div class=\"_4921Z t0pPfW\" title=\"Ryzen 7 Quad Core\"><div class=\"_1Y4Vhm _4FO7b6\"><label class=\"_2iDkf8 t0pPfW\"><input class=\"_30VH1S\" readonly=\"\" type=\"checkbox\"/><div class=\"_24_Dny\"></div><div class=\"_3879cV\">Ryzen 7 Quad Core</div></label></div></div><div class=\"_4921Z t0pPfW\" title=\"Ryzen 5 Quad Core\"><div class=\"_1Y4Vhm _4FO7b6\"><label class=\"_2iDkf8 t0pPfW\"><input class=\"_30VH1S\" readonly=\"\" type=\"checkbox\"/><div class=\"_24_Dny\"></div><div class=\"_3879cV\">Ryzen 5 Quad Core</div></label></div></div><div class=\"_4921Z t0pPfW\" title=\"Core i9\"><div class=\"_1Y4Vhm _4FO7b6\"><label class=\"_2iDkf8 t0pPfW\"><input class=\"_30VH1S\" readonly=\"\" type=\"checkbox\"/><div class=\"_24_Dny\"></div><div class=\"_3879cV\">Core i9</div></label></div></div></div><div class=\"QvtND5 _2w_U27\"><span>33 MORE</span></div></div></section><section class=\"_167Mu3 _2hbLCH\"><div class=\"_213eRC _2ssEMF\"><div class=\"_2gmUFU _3V8rao\">Processor Generation</div><svg class=\"ttx38n\" height=\"27\" viewbox=\"0 0 16 27\" width=\"16\" xmlns=\"http://www.w3.org/2000/svg\"><path class=\"IIvmWM\" d=\"M16 23.207L6.11 13.161 16 3.093 12.955 0 0 13.161l12.955 13.161z\" fill=\"#fff\"></path></svg></div></section><section class=\"_167Mu3 _2hbLCH\"><div class=\"_213eRC _2ssEMF\"><div class=\"_2gmUFU _3V8rao\">RAM Capacity</div><svg class=\"ttx38n\" height=\"27\" viewbox=\"0 0 16 27\" width=\"16\" xmlns=\"http://www.w3.org/2000/svg\"><path class=\"IIvmWM\" d=\"M16 23.207L6.11 13.161 16 3.093 12.955 0 0 13.161l12.955 13.161z\" fill=\"#fff\"></path></svg></div></section><section class=\"_167Mu3 _2hbLCH\"><div class=\"_213eRC _2ssEMF\"><div class=\"_2gmUFU _3V8rao\">SSD Capacity</div><svg class=\"ttx38n\" height=\"27\" viewbox=\"0 0 16 27\" width=\"16\" xmlns=\"http://www.w3.org/2000/svg\"><path class=\"IIvmWM\" d=\"M16 23.207L6.11 13.161 16 3.093 12.955 0 0 13.161l12.955 13.161z\" fill=\"#fff\"></path></svg></div></section><section class=\"_167Mu3 _2hbLCH\"><div class=\"_213eRC _2ssEMF\"><div class=\"_2gmUFU _3V8rao\">Graphic Processor Series</div><svg class=\"ttx38n\" height=\"27\" viewbox=\"0 0 16 27\" width=\"16\" xmlns=\"http://www.w3.org/2000/svg\"><path class=\"IIvmWM\" d=\"M16 23.207L6.11 13.161 16 3.093 12.955 0 0 13.161l12.955 13.161z\" fill=\"#fff\"></path></svg></div></section><section class=\"_167Mu3 _2hbLCH\"><div class=\"_213eRC _2ssEMF\"><div class=\"_2gmUFU _3V8rao\">Screen Size</div><svg class=\"ttx38n\" height=\"27\" viewbox=\"0 0 16 27\" width=\"16\" xmlns=\"http://www.w3.org/2000/svg\"><path class=\"IIvmWM\" d=\"M16 23.207L6.11 13.161 16 3.093 12.955 0 0 13.161l12.955 13.161z\" fill=\"#fff\"></path></svg></div></section><section class=\"_167Mu3 _2hbLCH\"><div class=\"_213eRC _2ssEMF\"><div class=\"_2gmUFU _3V8rao\">Operating System</div><svg class=\"ttx38n\" height=\"27\" viewbox=\"0 0 16 27\" width=\"16\" xmlns=\"http://www.w3.org/2000/svg\"><path class=\"IIvmWM\" d=\"M16 23.207L6.11 13.161 16 3.093 12.955 0 0 13.161l12.955 13.161z\" fill=\"#fff\"></path></svg></div></section><section class=\"_167Mu3 _2hbLCH\"><div class=\"_213eRC _2ssEMF\"><div class=\"_2gmUFU _3V8rao\">LifeStyle</div><svg class=\"ttx38n\" height=\"27\" viewbox=\"0 0 16 27\" width=\"16\" xmlns=\"http://www.w3.org/2000/svg\"><path class=\"IIvmWM\" d=\"M16 23.207L6.11 13.161 16 3.093 12.955 0 0 13.161l12.955 13.161z\" fill=\"#fff\"></path></svg></div></section><section class=\"_167Mu3 _2hbLCH\"><div class=\"_213eRC _2ssEMF\"><div class=\"_2gmUFU _3V8rao\">Weight</div><svg class=\"ttx38n\" height=\"27\" viewbox=\"0 0 16 27\" width=\"16\" xmlns=\"http://www.w3.org/2000/svg\"><path class=\"IIvmWM\" d=\"M16 23.207L6.11 13.161 16 3.093 12.955 0 0 13.161l12.955 13.161z\" fill=\"#fff\"></path></svg></div></section><section class=\"_167Mu3 _2hbLCH\"><div class=\"_213eRC _2ssEMF\"><div class=\"_2gmUFU _3V8rao\">Touch Screen</div><svg class=\"ttx38n\" height=\"27\" viewbox=\"0 0 16 27\" width=\"16\" xmlns=\"http://www.w3.org/2000/svg\"><path class=\"IIvmWM\" d=\"M16 23.207L6.11 13.161 16 3.093 12.955 0 0 13.161l12.955 13.161z\" fill=\"#fff\"></path></svg></div></section><section class=\"_167Mu3 _2hbLCH\"><div class=\"_213eRC _2ssEMF\"><div class=\"_2gmUFU _3V8rao\">Processor Brand</div><svg class=\"ttx38n\" height=\"27\" viewbox=\"0 0 16 27\" width=\"16\" xmlns=\"http://www.w3.org/2000/svg\"><path class=\"IIvmWM\" d=\"M16 23.207L6.11 13.161 16 3.093 12.955 0 0 13.161l12.955 13.161z\" fill=\"#fff\"></path></svg></div></section><section class=\"_167Mu3 _2hbLCH\"><div class=\"_213eRC _2ssEMF\"><div class=\"_2gmUFU _3V8rao\">Usage</div><svg class=\"ttx38n\" height=\"27\" viewbox=\"0 0 16 27\" width=\"16\" xmlns=\"http://www.w3.org/2000/svg\"><path class=\"IIvmWM\" d=\"M16 23.207L6.11 13.161 16 3.093 12.955 0 0 13.161l12.955 13.161z\" fill=\"#fff\"></path></svg></div></section><section class=\"_167Mu3 _2hbLCH\"><div class=\"_213eRC _2ssEMF\"><div class=\"_2gmUFU _3V8rao\">Dedicated Graphics Memory</div><svg class=\"ttx38n\" height=\"27\" viewbox=\"0 0 16 27\" width=\"16\" xmlns=\"http://www.w3.org/2000/svg\"><path class=\"IIvmWM\" d=\"M16 23.207L6.11 13.161 16 3.093 12.955 0 0 13.161l12.955 13.161z\" fill=\"#fff\"></path></svg></div></section><section class=\"_167Mu3 _2hbLCH\"><div class=\"_213eRC _2ssEMF\"><div class=\"_2gmUFU _3V8rao\">Features</div><svg class=\"ttx38n\" height=\"27\" viewbox=\"0 0 16 27\" width=\"16\" xmlns=\"http://www.w3.org/2000/svg\"><path class=\"IIvmWM\" d=\"M16 23.207L6.11 13.161 16 3.093 12.955 0 0 13.161l12.955 13.161z\" fill=\"#fff\"></path></svg></div></section><section class=\"_167Mu3 _2hbLCH\"><div class=\"_213eRC _2ssEMF\"><div class=\"_2gmUFU _3V8rao\">Storage Type</div><svg class=\"ttx38n\" height=\"27\" viewbox=\"0 0 16 27\" width=\"16\" xmlns=\"http://www.w3.org/2000/svg\"><path class=\"IIvmWM\" d=\"M16 23.207L6.11 13.161 16 3.093 12.955 0 0 13.161l12.955 13.161z\" fill=\"#fff\"></path></svg></div></section><section class=\"_167Mu3 _2hbLCH\"><div class=\"_213eRC _2ssEMF\"><div class=\"_2gmUFU _3V8rao\">Graphics Memory Type</div><svg class=\"ttx38n\" height=\"27\" viewbox=\"0 0 16 27\" width=\"16\" xmlns=\"http://www.w3.org/2000/svg\"><path class=\"IIvmWM\" d=\"M16 23.207L6.11 13.161 16 3.093 12.955 0 0 13.161l12.955 13.161z\" fill=\"#fff\"></path></svg></div></section><section class=\"_167Mu3 _2hbLCH\"><div class=\"_213eRC _2ssEMF\"><div class=\"_2gmUFU _3V8rao\">Graphic Processor Name</div><svg class=\"ttx38n\" height=\"27\" viewbox=\"0 0 16 27\" width=\"16\" xmlns=\"http://www.w3.org/2000/svg\"><path class=\"IIvmWM\" d=\"M16 23.207L6.11 13.161 16 3.093 12.955 0 0 13.161l12.955 13.161z\" fill=\"#fff\"></path></svg></div></section><section class=\"_167Mu3 _2hbLCH\"><div class=\"_213eRC _2ssEMF\"><div class=\"_2gmUFU _3V8rao\">Hard Disk Capacity</div><svg class=\"ttx38n\" height=\"27\" viewbox=\"0 0 16 27\" width=\"16\" xmlns=\"http://www.w3.org/2000/svg\"><path class=\"IIvmWM\" d=\"M16 23.207L6.11 13.161 16 3.093 12.955 0 0 13.161l12.955 13.161z\" fill=\"#fff\"></path></svg></div></section><section class=\"_167Mu3 _2hbLCH\"><div class=\"_213eRC _2ssEMF\"><div class=\"_2gmUFU _3V8rao\">Ram Type</div><svg class=\"ttx38n\" height=\"27\" viewbox=\"0 0 16 27\" width=\"16\" xmlns=\"http://www.w3.org/2000/svg\"><path class=\"IIvmWM\" d=\"M16 23.207L6.11 13.161 16 3.093 12.955 0 0 13.161l12.955 13.161z\" fill=\"#fff\"></path></svg></div></section><section class=\"_167Mu3 _2hbLCH\"><div class=\"_213eRC _2ssEMF\"><div class=\"_2gmUFU _3V8rao\">Availability</div><svg class=\"ttx38n\" height=\"27\" viewbox=\"0 0 16 27\" width=\"16\" xmlns=\"http://www.w3.org/2000/svg\"><path class=\"IIvmWM\" d=\"M16 23.207L6.11 13.161 16 3.093 12.955 0 0 13.161l12.955 13.161z\" fill=\"#fff\"></path></svg></div></section><section class=\"_167Mu3 _2hbLCH\"><div class=\"_213eRC _2ssEMF\"><div class=\"_2gmUFU _3V8rao\">Discount</div><svg class=\"ttx38n\" height=\"27\" viewbox=\"0 0 16 27\" width=\"16\" xmlns=\"http://www.w3.org/2000/svg\"><path class=\"IIvmWM\" d=\"M16 23.207L6.11 13.161 16 3.093 12.955 0 0 13.161l12.955 13.161z\" fill=\"#fff\"></path></svg></div></section><section class=\"_167Mu3 _2hbLCH\"><div class=\"_213eRC _2ssEMF\"><div class=\"_2gmUFU _3V8rao\">Customer Ratings</div><svg class=\"ttx38n _3DyGEM\" height=\"27\" viewbox=\"0 0 16 27\" width=\"16\" xmlns=\"http://www.w3.org/2000/svg\"><path class=\"IIvmWM\" d=\"M16 23.207L6.11 13.161 16 3.093 12.955 0 0 13.161l12.955 13.161z\" fill=\"#fff\"></path></svg></div><div class=\"_3FPh42\"><div class=\"_2d0we9\"><div class=\"_4921Z t0pPfW\" title=\"4★ &amp; above\"><div class=\"_1Y4Vhm _4FO7b6\"><label class=\"_2iDkf8 t0pPfW\"><input class=\"_30VH1S\" readonly=\"\" type=\"checkbox\"/><div class=\"_24_Dny\"></div><div class=\"_3879cV\">4★ &amp; above</div></label></div></div><div class=\"_4921Z t0pPfW\" title=\"3★ &amp; above\"><div class=\"_1Y4Vhm _4FO7b6\"><label class=\"_2iDkf8 t0pPfW\"><input class=\"_30VH1S\" readonly=\"\" type=\"checkbox\"/><div class=\"_24_Dny\"></div><div class=\"_3879cV\">3★ &amp; above</div></label></div></div><div class=\"_4921Z t0pPfW\" title=\"2★ &amp; above\"><div class=\"_1Y4Vhm _4FO7b6\"><label class=\"_2iDkf8 t0pPfW\"><input class=\"_30VH1S\" readonly=\"\" type=\"checkbox\"/><div class=\"_24_Dny\"></div><div class=\"_3879cV\">2★ &amp; above</div></label></div></div><div class=\"_4921Z t0pPfW\" title=\"1★ &amp; above\"><div class=\"_1Y4Vhm _4FO7b6\"><label class=\"_2iDkf8 t0pPfW\"><input class=\"_30VH1S\" readonly=\"\" type=\"checkbox\"/><div class=\"_24_Dny\"></div><div class=\"_3879cV\">1★ &amp; above</div></label></div></div></div></div></section><section class=\"_167Mu3 _2hbLCH\"><div class=\"_213eRC _2ssEMF\"><div class=\"_2gmUFU _3V8rao\">Usage</div><svg class=\"ttx38n\" height=\"27\" viewbox=\"0 0 16 27\" width=\"16\" xmlns=\"http://www.w3.org/2000/svg\"><path class=\"IIvmWM\" d=\"M16 23.207L6.11 13.161 16 3.093 12.955 0 0 13.161l12.955 13.161z\" fill=\"#fff\"></path></svg></div></section><section class=\"_2hbLCH _24gLJx\"><label class=\"_2iDkf8 shbqsL\"><input class=\"_30VH1S\" readonly=\"\" type=\"checkbox\"/><div class=\"_24_Dny _3tCU7L\"></div><div class=\"_3879cV\"><div class=\"_3U-Vxu\"><img class=\"_3U-Vxu\" height=\"21\" src=\"//static-assets-web.flixcart.com/fk-p-linchpin-web/fk-cp-zion/img/fa_62673a.png\"/></div></div></label><div class=\"Bv11UC\"><span class=\"question\">?</span></div></section><section class=\"_167Mu3 _2hbLCH\"><div class=\"_213eRC _2ssEMF\"><div class=\"_2gmUFU _3V8rao\">GST Invoice Available</div><svg class=\"ttx38n\" height=\"27\" viewbox=\"0 0 16 27\" width=\"16\" xmlns=\"http://www.w3.org/2000/svg\"><path class=\"IIvmWM\" d=\"M16 23.207L6.11 13.161 16 3.093 12.955 0 0 13.161l12.955 13.161z\" fill=\"#fff\"></path></svg></div></section><section class=\"_167Mu3 _2hbLCH\"><div class=\"_213eRC _2ssEMF\"><div class=\"_2gmUFU _3V8rao\">Offers</div><svg class=\"ttx38n _3DyGEM\" height=\"27\" viewbox=\"0 0 16 27\" width=\"16\" xmlns=\"http://www.w3.org/2000/svg\"><path class=\"IIvmWM\" d=\"M16 23.207L6.11 13.161 16 3.093 12.955 0 0 13.161l12.955 13.161z\" fill=\"#fff\"></path></svg></div><div class=\"_3FPh42\"><div class=\"_2d0we9\"><div class=\"_4921Z t0pPfW\" title=\"No Cost EMI\"><div class=\"_1Y4Vhm _4FO7b6\"><label class=\"_2iDkf8 t0pPfW\"><input class=\"_30VH1S\" readonly=\"\" type=\"checkbox\"/><div class=\"_24_Dny\"></div><div class=\"_3879cV\">No Cost EMI</div></label></div></div><div class=\"_4921Z t0pPfW\" title=\"Special Price\"><div class=\"_1Y4Vhm _4FO7b6\"><label class=\"_2iDkf8 t0pPfW\"><input class=\"_30VH1S\" readonly=\"\" type=\"checkbox\"/><div class=\"_24_Dny\"></div><div class=\"_3879cV\">Special Price</div></label></div></div></div></div></section><section class=\"_167Mu3 _2hbLCH\"><div class=\"_213eRC _2ssEMF\"><div class=\"_2gmUFU _3V8rao\">RAM Capacity</div><svg class=\"ttx38n\" height=\"27\" viewbox=\"0 0 16 27\" width=\"16\" xmlns=\"http://www.w3.org/2000/svg\"><path class=\"IIvmWM\" d=\"M16 23.207L6.11 13.161 16 3.093 12.955 0 0 13.161l12.955 13.161z\" fill=\"#fff\"></path></svg></div></section></div></div><div class=\"_1AtVbE col-12-12\"><a class=\"_1nY1tt\" href=\"/buying-guide/laptops?sid=6bo,b5g&amp;otracker=bg_from_browse_lhs\" title=\"Buying Guide\"><div><span>Need help?</span></div><div class=\"_1mVNvF\"><span>Help me decide</span><svg class=\"ViewtL\" height=\"27\" viewbox=\"0 0 16 27\" width=\"16\" xmlns=\"http://www.w3.org/2000/svg\"><path class=\"_2Zt1Py\" d=\"M16 23.207L6.11 13.161 16 3.093 12.955 0 0 13.161l12.955 13.161z\" fill=\"#fff\"></path></svg></div><img alt=\"Buying Guide\" src=\"//static-assets-web.flixcart.com/fk-p-linchpin-web/fk-cp-zion/img/buying-guide-illustration_4dd325.png\"/></a></div></div></div><div class=\"_1YokD2 _3Mn1Gg\" style=\"flex-grow:1;overflow:auto\"><div class=\"_1YokD2 _2GoDe3 col-12-12\" style=\"background-color:#ffffff;align-items:flex-end\"><div class=\"_1AtVbE\" style=\"flex-grow:1;overflow:auto\"><div class=\"W_R1IA\"><div class=\"_1MR4o5\"><div class=\"_3GIHBu\"><a class=\"_2whKao\" href=\"/\">Home</a><svg class=\"_39X-Og\" height=\"27\" viewbox=\"0 0 16 27\" width=\"16\" xmlns=\"http://www.w3.org/2000/svg\"><path class=\"DpXnhQ\" d=\"M16 23.207L6.11 13.161 16 3.093 12.955 0 0 13.161l12.955 13.161z\" fill=\"#fff\"></path></svg></div><div class=\"_3GIHBu\"><a class=\"_2whKao\" href=\"/computers/pr?sid=6bo&amp;marketplace=FLIPKART\">Computers</a><svg class=\"_39X-Og\" height=\"27\" viewbox=\"0 0 16 27\" width=\"16\" xmlns=\"http://www.w3.org/2000/svg\"><path class=\"DpXnhQ\" d=\"M16 23.207L6.11 13.161 16 3.093 12.955 0 0 13.161l12.955 13.161z\" fill=\"#fff\"></path></svg></div><div class=\"_3GIHBu\"><a class=\"_2whKao\" href=\"/laptops/pr?sid=6bo,b5g&amp;marketplace=FLIPKART\">Laptops</a><svg class=\"_39X-Og\" height=\"27\" viewbox=\"0 0 16 27\" width=\"16\" xmlns=\"http://www.w3.org/2000/svg\"><path class=\"DpXnhQ\" d=\"M16 23.207L6.11 13.161 16 3.093 12.955 0 0 13.161l12.955 13.161z\" fill=\"#fff\"></path></svg></div></div><span class=\"_10Ermr\">Showing 1 – 24 of 1,887 results for \"<span>laptop</span>\"</span><div class=\"_5THWM1\"><span class=\"_2i7N3j\">Sort By</span><div class=\"_10UF8M _3LsR0e\">Relevance</div><div class=\"_10UF8M\">Popularity</div><div class=\"_10UF8M\">Price -- Low to High</div><div class=\"_10UF8M\">Price -- High to Low</div><div class=\"_10UF8M\">Newest First</div></div></div></div></div><div class=\"_1AtVbE col-12-12\"><div class=\"_13oc-S\"><div data-id=\"COMGRDC8SWJGGTZC\" style=\"width:100%\"><div class=\"_2kHMtA\"><a class=\"_1fQZEK\" href=\"/msi-gf63-intel-core-i5-11th-gen-11260h-8-gb-512-gb-ssd-windows-11-home-4-graphics-nvidia-geforce-gtx-1650-60-hz-thin-11sc-1494in-gaming-laptop/p/itm99c03c748e149?pid=COMGRDC8SWJGGTZC&amp;lid=LSTCOMGRDC8SWJGGTZCDYO4OJ&amp;marketplace=FLIPKART&amp;q=laptop&amp;store=6bo%2Fb5g&amp;srno=s_1_1&amp;otracker=search&amp;otracker1=search&amp;fm=organic&amp;iid=en_mviFbTLHjngwB8An8Mnh92PvvrALiZPbI7nqXBeIXhVYhwpXohhFJgDF36vCEuipzLeiIJJhWKf6-UgxmS6tDA%3D%3D&amp;ppt=None&amp;ppn=None&amp;ssid=l4naneugu80000001704164791461&amp;qH=312f91285e048e09\" rel=\"noopener noreferrer\" target=\"_blank\"><div class=\"MIXNux\"><div class=\"_2QcLo-\"><div><div class=\"CXW8mj\" style=\"height:200px;width:200px\"><img alt=\"MSI GF63 Intel Core i5 11th Gen 11260H - (8 GB/512 GB SSD/Windows 11 Home/4 GB Graphics/NVIDIA GeForce...\" class=\"_396cs4\" loading=\"eager\" src=\"https://rukminim2.flixcart.com/image/312/312/xif0q/computer/b/r/k/-original-imagsz5x5x3vkt8c.jpeg?q=70\"/></div></div></div><div class=\"_3wLduG\"><div class=\"_3PzNI-\"><span class=\"f3A4_V\"><label class=\"_2iDkf8\"><input class=\"_30VH1S\" readonly=\"\" type=\"checkbox\"/><div class=\"_24_Dny\"></div></label></span><label class=\"_6Up2sF\"><span>Add to Compare</span></label></div></div><div class=\"_2hVSre _3nq8ih\"><div class=\"_36FSn5\"><svg class=\"_1l0elc\" height=\"16\" viewbox=\"0 0 20 16\" width=\"16\" xmlns=\"http://www.w3.org/2000/svg\"><path class=\"eX72wL\" d=\"M8.695 16.682C4.06 12.382 1 9.536 1 6.065 1 3.219 3.178 1 5.95 1c1.566 0 3.069.746 4.05 1.915C10.981 1.745 12.484 1 14.05 1 16.822 1 19 3.22 19 6.065c0 3.471-3.06 6.316-7.695 10.617L10 17.897l-1.305-1.215z\" fill=\"#2874F0\" fill-rule=\"evenodd\" opacity=\".9\" stroke=\"#FFF\"></path></svg></div></div></div><div class=\"_3pLy-c row\"><div class=\"col col-7-12\"><div class=\"_2tfzpE\"><span>Sponsored</span></div><div class=\"_4rR01T\">MSI GF63 Intel Core i5 11th Gen 11260H - (8 GB/512 GB SSD/Windows 11 Home/4 GB Graphics/NVIDIA GeForce...</div><div class=\"gUuXy-\"><span class=\"_1lRcqv\" id=\"productRating_LSTCOMGRDC8SWJGGTZCDYO4OJ_COMGRDC8SWJGGTZC_\"><div class=\"_3LWZlK\">4.3<img class=\"_1wB99o\" src=\"data:image/svg+xml;base64,PHN2ZyB4bWxucz0iaHR0cDovL3d3dy53My5vcmcvMjAwMC9zdmciIHdpZHRoPSIxMyIgaGVpZ2h0PSIxMiI+PHBhdGggZmlsbD0iI0ZGRiIgZD0iTTYuNSA5LjQzOWwtMy42NzQgMi4yMy45NC00LjI2LTMuMjEtMi44ODMgNC4yNTQtLjQwNEw2LjUuMTEybDEuNjkgNC4wMSA0LjI1NC40MDQtMy4yMSAyLjg4Mi45NCA0LjI2eiIvPjwvc3ZnPg==\"/></div></span><span class=\"_2_R_DZ\"><span><span>490 Ratings </span><span class=\"_13vcmD\">&amp;</span><span> 45 Reviews</span></span></span></div><div class=\"fMghEO\"><ul class=\"_1xgFaf\"><li class=\"rgWa7D\">Intel Core i5 Processor (11th Gen)</li><li class=\"rgWa7D\">8 GB DDR4 RAM</li><li class=\"rgWa7D\">Windows 11 Operating System</li><li class=\"rgWa7D\">512 GB SSD</li><li class=\"rgWa7D\">39.62 cm (15.6 Inch) Display</li><li class=\"rgWa7D\">2 Year Carry-in Warranty</li></ul></div></div><div class=\"col col-5-12 nlI3QM\"><div class=\"_3tbKJL\"><div class=\"_25b18c\"><div class=\"_30jeq3 _1_WHN1\">₹46,990</div><div class=\"_3I9_wc _27UcVY\">₹<!-- -->67,990</div><div class=\"_3Ay6Sb\"><span>30% off</span></div></div></div><div class=\"_13J9qT\"><img height=\"21\" src=\"//static-assets-web.flixcart.com/fk-p-linchpin-web/fk-cp-zion/img/fa_62673a.png\"/></div></div></div></a></div></div></div></div><div class=\"_1AtVbE col-12-12\"><div class=\"_13oc-S\"><div data-id=\"COMGRDC8Q23CZMYJ\" style=\"width:100%\"><div class=\"_2kHMtA\"><a class=\"_1fQZEK\" href=\"/msi-gf63-intel-core-i7-12th-gen-12650h-16-gb-512-gb-ssd-windows-11-home-8-graphics-nvidia-geforce-rtx-4060-144-hz-thin-12vf-663in-gaming-laptop/p/itm4fd4fe57a6f71?pid=COMGRDC8Q23CZMYJ&amp;lid=LSTCOMGRDC8Q23CZMYJ8XC6NL&amp;marketplace=FLIPKART&amp;q=laptop&amp;store=6bo%2Fb5g&amp;srno=s_1_2&amp;otracker=search&amp;otracker1=search&amp;fm=organic&amp;iid=en_mviFbTLHjngwB8An8Mnh92PvvrALiZPbI7nqXBeIXhWJf5e728-ikjzMipnZIIX72Wi6KSvqdBSU3_ENPLNDog%3D%3D&amp;ppt=None&amp;ppn=None&amp;ssid=l4naneugu80000001704164791461&amp;qH=312f91285e048e09\" rel=\"noopener noreferrer\" target=\"_blank\"><div class=\"MIXNux\"><div class=\"_2QcLo-\"><div><div class=\"CXW8mj\" style=\"height:200px;width:200px\"><img alt=\"MSI GF63 Intel Core i7 12th Gen 12650H - (16 GB/512 GB SSD/Windows 11 Home/8 GB Graphics/NVIDIA GeForc...\" class=\"_396cs4\" loading=\"eager\" src=\"https://rukminim2.flixcart.com/image/312/312/xif0q/computer/7/0/l/-original-imagtfd2ms63gywa.jpeg?q=70\"/></div></div></div><div class=\"_3wLduG\"><div class=\"_3PzNI-\"><span class=\"f3A4_V\"><label class=\"_2iDkf8\"><input class=\"_30VH1S\" readonly=\"\" type=\"checkbox\"/><div class=\"_24_Dny\"></div></label></span><label class=\"_6Up2sF\"><span>Add to Compare</span></label></div></div><div class=\"_2hVSre _3nq8ih\"><div class=\"_36FSn5\"><svg class=\"_1l0elc\" height=\"16\" viewbox=\"0 0 20 16\" width=\"16\" xmlns=\"http://www.w3.org/2000/svg\"><path class=\"eX72wL\" d=\"M8.695 16.682C4.06 12.382 1 9.536 1 6.065 1 3.219 3.178 1 5.95 1c1.566 0 3.069.746 4.05 1.915C10.981 1.745 12.484 1 14.05 1 16.822 1 19 3.22 19 6.065c0 3.471-3.06 6.316-7.695 10.617L10 17.897l-1.305-1.215z\" fill=\"#2874F0\" fill-rule=\"evenodd\" opacity=\".9\" stroke=\"#FFF\"></path></svg></div></div></div><div class=\"_3pLy-c row\"><div class=\"col col-7-12\"><div class=\"_2tfzpE\"><span>Sponsored</span></div><div class=\"_4rR01T\">MSI GF63 Intel Core i7 12th Gen 12650H - (16 GB/512 GB SSD/Windows 11 Home/8 GB Graphics/NVIDIA GeForc...</div><div class=\"gUuXy-\"><span class=\"_1lRcqv\" id=\"productRating_LSTCOMGRDC8Q23CZMYJ8XC6NL_COMGRDC8Q23CZMYJ_\"><div class=\"_3LWZlK\">3.9<img class=\"_1wB99o\" src=\"data:image/svg+xml;base64,PHN2ZyB4bWxucz0iaHR0cDovL3d3dy53My5vcmcvMjAwMC9zdmciIHdpZHRoPSIxMyIgaGVpZ2h0PSIxMiI+PHBhdGggZmlsbD0iI0ZGRiIgZD0iTTYuNSA5LjQzOWwtMy42NzQgMi4yMy45NC00LjI2LTMuMjEtMi44ODMgNC4yNTQtLjQwNEw2LjUuMTEybDEuNjkgNC4wMSA0LjI1NC40MDQtMy4yMSAyLjg4Mi45NCA0LjI2eiIvPjwvc3ZnPg==\"/></div></span><span class=\"_2_R_DZ\"><span><span>7 Ratings </span><span class=\"_13vcmD\">&amp;</span><span> 0 Reviews</span></span></span></div><div class=\"fMghEO\"><ul class=\"_1xgFaf\"><li class=\"rgWa7D\">Intel Core i7 Processor (12th Gen)</li><li class=\"rgWa7D\">16 GB DDR4 RAM</li><li class=\"rgWa7D\">Windows 11 Operating System</li><li class=\"rgWa7D\">512 GB SSD</li><li class=\"rgWa7D\">39.62 cm (15.6 Inch) Display</li><li class=\"rgWa7D\">2 Year Carry-in Warranty</li></ul></div></div><div class=\"col col-5-12 nlI3QM\"><div class=\"_3tbKJL\"><div class=\"_25b18c\"><div class=\"_30jeq3 _1_WHN1\">₹97,990</div><div class=\"_3I9_wc _27UcVY\">₹<!-- -->1,11,990</div><div class=\"_3Ay6Sb\"><span>12% off</span></div></div></div><div class=\"_13J9qT\"><img height=\"21\" src=\"//static-assets-web.flixcart.com/fk-p-linchpin-web/fk-cp-zion/img/fa_62673a.png\"/></div></div></div></a></div></div></div></div><div class=\"_1AtVbE col-12-12\"><div class=\"_13oc-S\"><div data-id=\"COMGG63H9BFFUYVY\" style=\"width:100%\"><div class=\"_2kHMtA\"><a class=\"_1fQZEK\" href=\"/hp-intel-core-i3-11th-gen-1115g4-8-gb-256-gb-ssd-windows-11-home-14s-dy2507tu-thin-light-laptop/p/itm3c618978e7a4d?pid=COMGG63H9BFFUYVY&amp;lid=LSTCOMGG63H9BFFUYVYFHH552&amp;marketplace=FLIPKART&amp;q=laptop&amp;store=6bo%2Fb5g&amp;srno=s_1_3&amp;otracker=search&amp;otracker1=search&amp;fm=organic&amp;iid=fcaf6c3c-b989-4e56-81b9-ec38dd9a8317.COMGG63H9BFFUYVY.SEARCH&amp;ppt=None&amp;ppn=None&amp;ssid=l4naneugu80000001704164791461&amp;qH=312f91285e048e09\" rel=\"noopener noreferrer\" target=\"_blank\"><div class=\"MIXNux\"><div class=\"_2QcLo-\"><div><div class=\"CXW8mj\" style=\"height:200px;width:200px\"><img alt=\"HP Intel Intel Core i3 11th Gen 1115G4 - (8 GB/256 GB SSD/Windows 11 Home) 14s - dy2507TU Thin and Lig...\" class=\"_396cs4\" loading=\"eager\" src=\"https://rukminim2.flixcart.com/image/312/312/xif0q/computer/d/d/w/-original-imagwy8e5kagmeaa.jpeg?q=70\"/></div></div></div><div class=\"_3wLduG\"><div class=\"_3PzNI-\"><span class=\"f3A4_V\"><label class=\"_2iDkf8\"><input class=\"_30VH1S\" readonly=\"\" type=\"checkbox\"/><div class=\"_24_Dny\"></div></label></span><label class=\"_6Up2sF\"><span>Add to Compare</span></label></div></div><div class=\"_2hVSre _3nq8ih\"><div class=\"_36FSn5\"><svg class=\"_1l0elc\" height=\"16\" viewbox=\"0 0 20 16\" width=\"16\" xmlns=\"http://www.w3.org/2000/svg\"><path class=\"eX72wL\" d=\"M8.695 16.682C4.06 12.382 1 9.536 1 6.065 1 3.219 3.178 1 5.95 1c1.566 0 3.069.746 4.05 1.915C10.981 1.745 12.484 1 14.05 1 16.822 1 19 3.22 19 6.065c0 3.471-3.06 6.316-7.695 10.617L10 17.897l-1.305-1.215z\" fill=\"#2874F0\" fill-rule=\"evenodd\" opacity=\".9\" stroke=\"#FFF\"></path></svg></div></div></div><div class=\"_3pLy-c row\"><div class=\"col col-7-12\"><div class=\"_4rR01T\">HP Intel Intel Core i3 11th Gen 1115G4 - (8 GB/256 GB SSD/Windows 11 Home) 14s - dy2507TU Thin and Lig...</div><div class=\"gUuXy-\"><span class=\"_1lRcqv\" id=\"productRating_LSTCOMGG63H9BFFUYVYFHH552_COMGG63H9BFFUYVY_\"><div class=\"_3LWZlK\">4.3<img class=\"_1wB99o\" src=\"data:image/svg+xml;base64,PHN2ZyB4bWxucz0iaHR0cDovL3d3dy53My5vcmcvMjAwMC9zdmciIHdpZHRoPSIxMyIgaGVpZ2h0PSIxMiI+PHBhdGggZmlsbD0iI0ZGRiIgZD0iTTYuNSA5LjQzOWwtMy42NzQgMi4yMy45NC00LjI2LTMuMjEtMi44ODMgNC4yNTQtLjQwNEw2LjUuMTEybDEuNjkgNC4wMSA0LjI1NC40MDQtMy4yMSAyLjg4Mi45NCA0LjI2eiIvPjwvc3ZnPg==\"/></div></span><span class=\"_2_R_DZ\"><span><span>11,242 Ratings </span><span class=\"_13vcmD\">&amp;</span><span> 886 Reviews</span></span></span></div><div class=\"fMghEO\"><ul class=\"_1xgFaf\"><li class=\"rgWa7D\">Intel Core i3 Processor (11th Gen)</li><li class=\"rgWa7D\">8 GB DDR4 RAM</li><li class=\"rgWa7D\">64 bit Windows 11 Operating System</li><li class=\"rgWa7D\">256 GB SSD</li><li class=\"rgWa7D\">35.56 cm (14 inch) Display</li><li class=\"rgWa7D\">1 Year Onsite Warranty</li></ul></div></div><div class=\"col col-5-12 nlI3QM\"><div class=\"_3tbKJL\"><div class=\"_25b18c\"><div class=\"_30jeq3 _1_WHN1\">₹31,990</div><div class=\"_3I9_wc _27UcVY\">₹<!-- -->47,279</div><div class=\"_3Ay6Sb\"><span>32% off</span></div></div></div><div class=\"_13J9qT\"><img height=\"21\" src=\"//static-assets-web.flixcart.com/fk-p-linchpin-web/fk-cp-zion/img/fa_62673a.png\"/></div></div></div></a></div></div></div></div><div class=\"_1AtVbE col-12-12\"><div class=\"_13oc-S\"><div data-id=\"COMGJ75HCCFJS8AE\" style=\"width:100%\"><div class=\"_2kHMtA\"><a class=\"_1fQZEK\" href=\"/dell-intel-core-i3-12th-gen-1215u-8-gb-512-gb-ssd-windows-11-home-new-inspiron-15-laptop-thin-light/p/itm06ea674a3bd5b?pid=COMGJ75HCCFJS8AE&amp;lid=LSTCOMGJ75HCCFJS8AELVN77K&amp;marketplace=FLIPKART&amp;q=laptop&amp;store=6bo%2Fb5g&amp;srno=s_1_4&amp;otracker=search&amp;otracker1=search&amp;fm=organic&amp;iid=fcaf6c3c-b989-4e56-81b9-ec38dd9a8317.COMGJ75HCCFJS8AE.SEARCH&amp;ppt=None&amp;ppn=None&amp;ssid=l4naneugu80000001704164791461&amp;qH=312f91285e048e09\" rel=\"noopener noreferrer\" target=\"_blank\"><div class=\"MIXNux\"><div class=\"_2QcLo-\"><div><div class=\"CXW8mj\" style=\"height:200px;width:200px\"><img alt=\"DELL Intel Core i3 12th Gen 1215U - (8 GB/512 GB SSD/Windows 11 Home) New Inspiron 15 Laptop Thin and ...\" class=\"_396cs4\" loading=\"eager\" src=\"https://rukminim2.flixcart.com/image/312/312/xif0q/computer/n/o/s/-original-imaghzah9mjvukjz.jpeg?q=70\"/></div></div></div><div class=\"_3wLduG\"><div class=\"_3PzNI-\"><span class=\"f3A4_V\"><label class=\"_2iDkf8\"><input class=\"_30VH1S\" readonly=\"\" type=\"checkbox\"/><div class=\"_24_Dny\"></div></label></span><label class=\"_6Up2sF\"><span>Add to Compare</span></label></div></div><div class=\"_2hVSre _3nq8ih\"><div class=\"_36FSn5\"><svg class=\"_1l0elc\" height=\"16\" viewbox=\"0 0 20 16\" width=\"16\" xmlns=\"http://www.w3.org/2000/svg\"><path class=\"eX72wL\" d=\"M8.695 16.682C4.06 12.382 1 9.536 1 6.065 1 3.219 3.178 1 5.95 1c1.566 0 3.069.746 4.05 1.915C10.981 1.745 12.484 1 14.05 1 16.822 1 19 3.22 19 6.065c0 3.471-3.06 6.316-7.695 10.617L10 17.897l-1.305-1.215z\" fill=\"#2874F0\" fill-rule=\"evenodd\" opacity=\".9\" stroke=\"#FFF\"></path></svg></div></div></div><div class=\"_3pLy-c row\"><div class=\"col col-7-12\"><div class=\"_4rR01T\">DELL Intel Core i3 12th Gen 1215U - (8 GB/512 GB SSD/Windows 11 Home) New Inspiron 15 Laptop Thin and ...</div><div class=\"gUuXy-\"><span class=\"_1lRcqv\" id=\"productRating_LSTCOMGJ75HCCFJS8AELVN77K_COMGJ75HCCFJS8AE_\"><div class=\"_3LWZlK\">4.2<img class=\"_1wB99o\" src=\"data:image/svg+xml;base64,PHN2ZyB4bWxucz0iaHR0cDovL3d3dy53My5vcmcvMjAwMC9zdmciIHdpZHRoPSIxMyIgaGVpZ2h0PSIxMiI+PHBhdGggZmlsbD0iI0ZGRiIgZD0iTTYuNSA5LjQzOWwtMy42NzQgMi4yMy45NC00LjI2LTMuMjEtMi44ODMgNC4yNTQtLjQwNEw2LjUuMTEybDEuNjkgNC4wMSA0LjI1NC40MDQtMy4yMSAyLjg4Mi45NCA0LjI2eiIvPjwvc3ZnPg==\"/></div></span><span class=\"_2_R_DZ\"><span><span>879 Ratings </span><span class=\"_13vcmD\">&amp;</span><span> 109 Reviews</span></span></span></div><div class=\"fMghEO\"><ul class=\"_1xgFaf\"><li class=\"rgWa7D\">Processor: Intel i3-1215U (Base- 0.9 GHz &amp; Turbo up to 4.40 GHz) 6 Cores</li><li class=\"rgWa7D\">RAM &amp; Storage: 8GB DDR4 &amp; 512GB SSD</li><li class=\"rgWa7D\">Graphics &amp; Keyboard: Integrated &amp; Standard Keyboard</li><li class=\"rgWa7D\">Display: 15.6\" FHD WVA AG 120Hz 250 nits Narrow Border</li><li class=\"rgWa7D\">Intel Core i3 Processor (12th Gen)</li><li class=\"rgWa7D\">8 GB DDR4 RAM</li><li class=\"rgWa7D\">64 bit Windows 11 Operating System</li><li class=\"rgWa7D\">512 GB SSD</li><li class=\"rgWa7D\">96.52 cm (38 cm) Display</li><li class=\"rgWa7D\">1 Year Onsite Hardware Service</li></ul></div></div><div class=\"col col-5-12 nlI3QM\"><div class=\"_3tbKJL\"><div class=\"_25b18c\"><div class=\"_30jeq3 _1_WHN1\">₹36,990</div><div class=\"_3I9_wc _27UcVY\">₹<!-- -->61,431</div><div class=\"_3Ay6Sb\"><span>39% off</span></div></div></div><div class=\"_13J9qT\"><img height=\"21\" src=\"//static-assets-web.flixcart.com/fk-p-linchpin-web/fk-cp-zion/img/fa_62673a.png\"/></div></div></div></a></div></div></div></div><div class=\"_1AtVbE col-12-12\"><div class=\"_13oc-S\"><div data-id=\"COMG9WH98ZNYXWYH\" style=\"width:100%\"><div class=\"_2kHMtA\"><a class=\"_1fQZEK\" href=\"/asus-vivobook-15-intel-core-i3-11th-gen-1115g4-8-gb-256-gb-ssd-windows-11-home-x515ea-ej312w-thin-light-laptop/p/itm7aa1836156b37?pid=COMG9WH98ZNYXWYH&amp;lid=LSTCOMG9WH98ZNYXWYHARCWA8&amp;marketplace=FLIPKART&amp;q=laptop&amp;store=6bo%2Fb5g&amp;srno=s_1_5&amp;otracker=search&amp;otracker1=search&amp;fm=organic&amp;iid=fcaf6c3c-b989-4e56-81b9-ec38dd9a8317.COMG9WH98ZNYXWYH.SEARCH&amp;ppt=None&amp;ppn=None&amp;ssid=l4naneugu80000001704164791461&amp;qH=312f91285e048e09\" rel=\"noopener noreferrer\" target=\"_blank\"><div class=\"MIXNux\"><div class=\"_2QcLo-\"><div><div class=\"CXW8mj\" style=\"height:200px;width:200px\"><img alt=\"ASUS Vivobook 15 Intel Core i3 11th Gen 1115G4 - (8 GB/256 GB SSD/Windows 11 Home) X515EA-EJ312W Thin ...\" class=\"_396cs4\" loading=\"eager\" src=\"https://rukminim2.flixcart.com/image/312/312/xif0q/computer/r/e/f/-original-imagrgprbhchwgve.jpeg?q=70\"/></div></div></div><div class=\"_3wLduG\"><div class=\"_3PzNI-\"><span class=\"f3A4_V\"><label class=\"_2iDkf8\"><input class=\"_30VH1S\" readonly=\"\" type=\"checkbox\"/><div class=\"_24_Dny\"></div></label></span><label class=\"_6Up2sF\"><span>Add to Compare</span></label></div></div><div class=\"_2hVSre _3nq8ih\"><div class=\"_36FSn5\"><svg class=\"_1l0elc\" height=\"16\" viewbox=\"0 0 20 16\" width=\"16\" xmlns=\"http://www.w3.org/2000/svg\"><path class=\"eX72wL\" d=\"M8.695 16.682C4.06 12.382 1 9.536 1 6.065 1 3.219 3.178 1 5.95 1c1.566 0 3.069.746 4.05 1.915C10.981 1.745 12.484 1 14.05 1 16.822 1 19 3.22 19 6.065c0 3.471-3.06 6.316-7.695 10.617L10 17.897l-1.305-1.215z\" fill=\"#2874F0\" fill-rule=\"evenodd\" opacity=\".9\" stroke=\"#FFF\"></path></svg></div></div></div><div class=\"_3pLy-c row\"><div class=\"col col-7-12\"><div class=\"_4rR01T\">ASUS Vivobook 15 Intel Core i3 11th Gen 1115G4 - (8 GB/256 GB SSD/Windows 11 Home) X515EA-EJ312W Thin ...</div><div class=\"gUuXy-\"><span class=\"_1lRcqv\" id=\"productRating_LSTCOMG9WH98ZNYXWYHARCWA8_COMG9WH98ZNYXWYH_\"><div class=\"_3LWZlK\">4.3<img class=\"_1wB99o\" src=\"data:image/svg+xml;base64,PHN2ZyB4bWxucz0iaHR0cDovL3d3dy53My5vcmcvMjAwMC9zdmciIHdpZHRoPSIxMyIgaGVpZ2h0PSIxMiI+PHBhdGggZmlsbD0iI0ZGRiIgZD0iTTYuNSA5LjQzOWwtMy42NzQgMi4yMy45NC00LjI2LTMuMjEtMi44ODMgNC4yNTQtLjQwNEw2LjUuMTEybDEuNjkgNC4wMSA0LjI1NC40MDQtMy4yMSAyLjg4Mi45NCA0LjI2eiIvPjwvc3ZnPg==\"/></div></span><span class=\"_2_R_DZ\"><span><span>11,615 Ratings </span><span class=\"_13vcmD\">&amp;</span><span> 1,051 Reviews</span></span></span></div><div class=\"fMghEO\"><ul class=\"_1xgFaf\"><li class=\"rgWa7D\">Intel Core i3 Processor (11th Gen)</li><li class=\"rgWa7D\">8 GB DDR4 RAM</li><li class=\"rgWa7D\">64 bit Windows 11 Operating System</li><li class=\"rgWa7D\">256 GB SSD</li><li class=\"rgWa7D\">39.62 cm (15.6 Inch) Display</li><li class=\"rgWa7D\">Not Applicable</li><li class=\"rgWa7D\">1 Year Onsite Warranty</li></ul></div></div><div class=\"col col-5-12 nlI3QM\"><div class=\"_3tbKJL\"><div class=\"_25b18c\"><div class=\"_30jeq3 _1_WHN1\">₹29,990</div><div class=\"_3I9_wc _27UcVY\">₹<!-- -->44,990</div><div class=\"_3Ay6Sb\"><span>33% off</span></div></div></div><div class=\"_13J9qT\"><img height=\"21\" src=\"//static-assets-web.flixcart.com/fk-p-linchpin-web/fk-cp-zion/img/fa_62673a.png\"/></div></div></div></a></div></div></div></div><div class=\"_1AtVbE col-12-12\"><div class=\"_13oc-S\"><div data-id=\"COMGMSV94PZCFZSB\" style=\"width:100%\"><div class=\"_2kHMtA\"><a class=\"_1fQZEK\" href=\"/acer-extensa-intel-core-i3-n305-8-gb-512-gb-ssd-windows-11-home-ex215-33-notebook/p/itm3ff7533eed60f?pid=COMGMSV94PZCFZSB&amp;lid=LSTCOMGMSV94PZCFZSBNIGUCG&amp;marketplace=FLIPKART&amp;q=laptop&amp;store=6bo%2Fb5g&amp;srno=s_1_6&amp;otracker=search&amp;otracker1=search&amp;fm=organic&amp;iid=fcaf6c3c-b989-4e56-81b9-ec38dd9a8317.COMGMSV94PZCFZSB.SEARCH&amp;ppt=None&amp;ppn=None&amp;ssid=l4naneugu80000001704164791461&amp;qH=312f91285e048e09\" rel=\"noopener noreferrer\" target=\"_blank\"><div class=\"MIXNux\"><div class=\"_2QcLo-\"><div><div class=\"CXW8mj\" style=\"height:200px;width:200px\"><img alt=\"Acer Extensa Intel Core i3 N305 - (8 GB/512 GB SSD/Windows 11 Home) EX215-33 Notebook\" class=\"_396cs4\" loading=\"eager\" src=\"https://rukminim2.flixcart.com/image/312/312/xif0q/computer/7/o/r/-original-imagnc38zedzfnw6.jpeg?q=70\"/></div></div></div><div class=\"_3wLduG\"><div class=\"_3PzNI-\"><span class=\"f3A4_V\"><label class=\"_2iDkf8\"><input class=\"_30VH1S\" readonly=\"\" type=\"checkbox\"/><div class=\"_24_Dny\"></div></label></span><label class=\"_6Up2sF\"><span>Add to Compare</span></label></div></div><div class=\"_2hVSre _3nq8ih\"><div class=\"_36FSn5\"><svg class=\"_1l0elc\" height=\"16\" viewbox=\"0 0 20 16\" width=\"16\" xmlns=\"http://www.w3.org/2000/svg\"><path class=\"eX72wL\" d=\"M8.695 16.682C4.06 12.382 1 9.536 1 6.065 1 3.219 3.178 1 5.95 1c1.566 0 3.069.746 4.05 1.915C10.981 1.745 12.484 1 14.05 1 16.822 1 19 3.22 19 6.065c0 3.471-3.06 6.316-7.695 10.617L10 17.897l-1.305-1.215z\" fill=\"#2874F0\" fill-rule=\"evenodd\" opacity=\".9\" stroke=\"#FFF\"></path></svg></div></div></div><div class=\"_3pLy-c row\"><div class=\"col col-7-12\"><div class=\"_4rR01T\">Acer Extensa Intel Core i3 N305 - (8 GB/512 GB SSD/Windows 11 Home) EX215-33 Notebook</div><div class=\"gUuXy-\"><span class=\"_1lRcqv\" id=\"productRating_LSTCOMGMSV94PZCFZSBNIGUCG_COMGMSV94PZCFZSB_\"><div class=\"_3LWZlK\">4.2<img class=\"_1wB99o\" src=\"data:image/svg+xml;base64,PHN2ZyB4bWxucz0iaHR0cDovL3d3dy53My5vcmcvMjAwMC9zdmciIHdpZHRoPSIxMyIgaGVpZ2h0PSIxMiI+PHBhdGggZmlsbD0iI0ZGRiIgZD0iTTYuNSA5LjQzOWwtMy42NzQgMi4yMy45NC00LjI2LTMuMjEtMi44ODMgNC4yNTQtLjQwNEw2LjUuMTEybDEuNjkgNC4wMSA0LjI1NC40MDQtMy4yMSAyLjg4Mi45NCA0LjI2eiIvPjwvc3ZnPg==\"/></div></span><span class=\"_2_R_DZ\"><span><span>328 Ratings </span><span class=\"_13vcmD\">&amp;</span><span> 48 Reviews</span></span></span></div><div class=\"fMghEO\"><ul class=\"_1xgFaf\"><li class=\"rgWa7D\">Intel Core i3 Processor</li><li class=\"rgWa7D\">8 GB LPDDR5 RAM</li><li class=\"rgWa7D\">64 bit Windows 11 Operating System</li><li class=\"rgWa7D\">512 GB SSD</li><li class=\"rgWa7D\">39.62 cm (15.6 Inch) Display</li><li class=\"rgWa7D\">1 Year International Travelers Warranty</li></ul></div></div><div class=\"col col-5-12 nlI3QM\"><div class=\"_3tbKJL\"><div class=\"_25b18c\"><div class=\"_30jeq3 _1_WHN1\">₹28,990</div><div class=\"_3I9_wc _27UcVY\">₹<!-- -->43,999</div><div class=\"_3Ay6Sb\"><span>34% off</span></div></div></div><div class=\"_13J9qT\"><img height=\"21\" src=\"//static-assets-web.flixcart.com/fk-p-linchpin-web/fk-cp-zion/img/fa_62673a.png\"/></div></div></div></a></div></div></div></div><div class=\"_1AtVbE col-12-12\"><div class=\"_13oc-S\"><div data-id=\"COMGMV6V2AGHSSDM\" style=\"width:100%\"><div class=\"_2kHMtA\"><a class=\"_1fQZEK\" href=\"/msi-modern-14-intel-core-i3-11th-gen-1115g4-8-gb-512-gb-ssd-windows-11-home-c11m-031in-thin-light-laptop/p/itm6ca276c474059?pid=COMGMV6V2AGHSSDM&amp;lid=LSTCOMGMV6V2AGHSSDMORMXTI&amp;marketplace=FLIPKART&amp;q=laptop&amp;store=6bo%2Fb5g&amp;srno=s_1_7&amp;otracker=search&amp;otracker1=search&amp;fm=organic&amp;iid=fcaf6c3c-b989-4e56-81b9-ec38dd9a8317.COMGMV6V2AGHSSDM.SEARCH&amp;ppt=None&amp;ppn=None&amp;ssid=l4naneugu80000001704164791461&amp;qH=312f91285e048e09\" rel=\"noopener noreferrer\" target=\"_blank\"><div class=\"MIXNux\"><div class=\"_2QcLo-\"><div><div class=\"CXW8mj\" style=\"height:200px;width:200px\"><img alt=\"MSI Modern 14 Intel Core i3 11th Gen 1115G4 - (8 GB/512 GB SSD/Windows 11 Home) Modern 14 C11M-031IN T...\" class=\"_396cs4\" loading=\"eager\" src=\"https://rukminim2.flixcart.com/image/312/312/xif0q/computer/6/x/x/-original-imagvyw9fpffzgzu.jpeg?q=70\"/></div></div></div><div class=\"_3wLduG\"><div class=\"_3PzNI-\"><span class=\"f3A4_V\"><label class=\"_2iDkf8\"><input class=\"_30VH1S\" readonly=\"\" type=\"checkbox\"/><div class=\"_24_Dny\"></div></label></span><label class=\"_6Up2sF\"><span>Add to Compare</span></label></div></div><div class=\"_2hVSre _3nq8ih\"><div class=\"_36FSn5\"><svg class=\"_1l0elc\" height=\"16\" viewbox=\"0 0 20 16\" width=\"16\" xmlns=\"http://www.w3.org/2000/svg\"><path class=\"eX72wL\" d=\"M8.695 16.682C4.06 12.382 1 9.536 1 6.065 1 3.219 3.178 1 5.95 1c1.566 0 3.069.746 4.05 1.915C10.981 1.745 12.484 1 14.05 1 16.822 1 19 3.22 19 6.065c0 3.471-3.06 6.316-7.695 10.617L10 17.897l-1.305-1.215z\" fill=\"#2874F0\" fill-rule=\"evenodd\" opacity=\".9\" stroke=\"#FFF\"></path></svg></div></div></div><div class=\"_3pLy-c row\"><div class=\"col col-7-12\"><div class=\"_4rR01T\">MSI Modern 14 Intel Core i3 11th Gen 1115G4 - (8 GB/512 GB SSD/Windows 11 Home) Modern 14 C11M-031IN T...</div><div class=\"gUuXy-\"><span class=\"_1lRcqv\" id=\"productRating_LSTCOMGMV6V2AGHSSDMORMXTI_COMGMV6V2AGHSSDM_\"><div class=\"_3LWZlK\">4.3<img class=\"_1wB99o\" src=\"data:image/svg+xml;base64,PHN2ZyB4bWxucz0iaHR0cDovL3d3dy53My5vcmcvMjAwMC9zdmciIHdpZHRoPSIxMyIgaGVpZ2h0PSIxMiI+PHBhdGggZmlsbD0iI0ZGRiIgZD0iTTYuNSA5LjQzOWwtMy42NzQgMi4yMy45NC00LjI2LTMuMjEtMi44ODMgNC4yNTQtLjQwNEw2LjUuMTEybDEuNjkgNC4wMSA0LjI1NC40MDQtMy4yMSAyLjg4Mi45NCA0LjI2eiIvPjwvc3ZnPg==\"/></div></span><span class=\"_2_R_DZ\"><span><span>2,112 Ratings </span><span class=\"_13vcmD\">&amp;</span><span> 258 Reviews</span></span></span></div><div class=\"fMghEO\"><ul class=\"_1xgFaf\"><li class=\"rgWa7D\">Intel Core i3 Processor (11th Gen)</li><li class=\"rgWa7D\">8 GB DDR4 RAM</li><li class=\"rgWa7D\">Windows 11 Operating System</li><li class=\"rgWa7D\">512 GB SSD</li><li class=\"rgWa7D\">35.56 cm (14 Inch) Display</li><li class=\"rgWa7D\">1 Year Carry-in Warranty</li></ul></div></div><div class=\"col col-5-12 nlI3QM\"><div class=\"_3tbKJL\"><div class=\"_25b18c\"><div class=\"_30jeq3 _1_WHN1\">₹28,990</div><div class=\"_3I9_wc _27UcVY\">₹<!-- -->52,990</div><div class=\"_3Ay6Sb\"><span>45% off</span></div></div></div><div class=\"_13J9qT\"><img height=\"21\" src=\"//static-assets-web.flixcart.com/fk-p-linchpin-web/fk-cp-zion/img/fa_62673a.png\"/></div></div></div></a></div></div></div></div><div class=\"_1AtVbE col-12-12\"><div class=\"_13oc-S\"><div data-id=\"COMGRDC8M7XP6FV5\" style=\"width:100%\"><div class=\"_2kHMtA\"><a class=\"_1fQZEK\" href=\"/msi-katana-17-intel-core-i7-12th-gen-12650h-16-gb-1-tb-ssd-windows-11-home-8-gb-graphics-nvidia-geforce-rtx-4060-240-hz-b12vfk-673in-gaming-laptop/p/itm9f5e6b12f51c6?pid=COMGRDC8M7XP6FV5&amp;lid=LSTCOMGRDC8M7XP6FV53H1M2B&amp;marketplace=FLIPKART&amp;q=laptop&amp;store=6bo%2Fb5g&amp;srno=s_1_8&amp;otracker=search&amp;otracker1=search&amp;fm=organic&amp;iid=en_mviFbTLHjngwB8An8Mnh92PvvrALiZPbI7nqXBeIXhXVpvL-7RUiyBeHb18xIRHRMUpe8_Vslev9DnALSCGbxg%3D%3D&amp;ppt=None&amp;ppn=None&amp;ssid=l4naneugu80000001704164791461&amp;qH=312f91285e048e09\" rel=\"noopener noreferrer\" target=\"_blank\"><div class=\"MIXNux\"><div class=\"_2QcLo-\"><div><div class=\"CXW8mj\" style=\"height:200px;width:200px\"><img alt=\"MSI Katana 17 Intel Core i7 12th Gen 12650H - (16 GB/1 TB SSD/Windows 11 Home/8 GB Graphics/NVIDIA GeF...\" class=\"_396cs4\" loading=\"eager\" src=\"https://rukminim2.flixcart.com/image/312/312/xif0q/computer/j/k/x/-original-imagtfzmyxguhhjh.jpeg?q=70\"/></div></div></div><div class=\"_3wLduG\"><div class=\"_3PzNI-\"><span class=\"f3A4_V\"><label class=\"_2iDkf8\"><input class=\"_30VH1S\" readonly=\"\" type=\"checkbox\"/><div class=\"_24_Dny\"></div></label></span><label class=\"_6Up2sF\"><span>Add to Compare</span></label></div></div><div class=\"_2hVSre _3nq8ih\"><div class=\"_36FSn5\"><svg class=\"_1l0elc\" height=\"16\" viewbox=\"0 0 20 16\" width=\"16\" xmlns=\"http://www.w3.org/2000/svg\"><path class=\"eX72wL\" d=\"M8.695 16.682C4.06 12.382 1 9.536 1 6.065 1 3.219 3.178 1 5.95 1c1.566 0 3.069.746 4.05 1.915C10.981 1.745 12.484 1 14.05 1 16.822 1 19 3.22 19 6.065c0 3.471-3.06 6.316-7.695 10.617L10 17.897l-1.305-1.215z\" fill=\"#2874F0\" fill-rule=\"evenodd\" opacity=\".9\" stroke=\"#FFF\"></path></svg></div></div></div><div class=\"_3pLy-c row\"><div class=\"col col-7-12\"><div class=\"_2tfzpE\"><span>Sponsored</span></div><div class=\"_4rR01T\">MSI Katana 17 Intel Core i7 12th Gen 12650H - (16 GB/1 TB SSD/Windows 11 Home/8 GB Graphics/NVIDIA GeF...</div><div class=\"gUuXy-\"><span class=\"_1lRcqv\" id=\"productRating_LSTCOMGRDC8M7XP6FV53H1M2B_COMGRDC8M7XP6FV5_\"><div class=\"_3LWZlK\">5<img class=\"_1wB99o\" src=\"data:image/svg+xml;base64,PHN2ZyB4bWxucz0iaHR0cDovL3d3dy53My5vcmcvMjAwMC9zdmciIHdpZHRoPSIxMyIgaGVpZ2h0PSIxMiI+PHBhdGggZmlsbD0iI0ZGRiIgZD0iTTYuNSA5LjQzOWwtMy42NzQgMi4yMy45NC00LjI2LTMuMjEtMi44ODMgNC4yNTQtLjQwNEw2LjUuMTEybDEuNjkgNC4wMSA0LjI1NC40MDQtMy4yMSAyLjg4Mi45NCA0LjI2eiIvPjwvc3ZnPg==\"/></div></span><span class=\"_2_R_DZ\"><span><span>13 Ratings </span><span class=\"_13vcmD\">&amp;</span><span> 5 Reviews</span></span></span></div><div class=\"fMghEO\"><ul class=\"_1xgFaf\"><li class=\"rgWa7D\">Intel Core i7 Processor (12th Gen)</li><li class=\"rgWa7D\">16 GB DDR5 RAM</li><li class=\"rgWa7D\">Windows 11 Operating System</li><li class=\"rgWa7D\">1 TB SSD</li><li class=\"rgWa7D\">43.94 cm (17.3 Inch) Display</li><li class=\"rgWa7D\">2 Year Carry-in Warranty</li></ul></div></div><div class=\"col col-5-12 nlI3QM\"><div class=\"_3tbKJL\"><div class=\"_25b18c\"><div class=\"_30jeq3 _1_WHN1\">₹1,10,990</div><div class=\"_3I9_wc _27UcVY\">₹<!-- -->1,49,990</div><div class=\"_3Ay6Sb\"><span>26% off</span></div></div></div><div class=\"_13J9qT\"><img height=\"21\" src=\"//static-assets-web.flixcart.com/fk-p-linchpin-web/fk-cp-zion/img/fa_62673a.png\"/></div></div></div></a></div></div></div></div><div class=\"_1AtVbE col-12-12\"><div class=\"_13oc-S\"><div data-id=\"COMGQHRQZSPVRDZE\" style=\"width:100%\"><div class=\"_2kHMtA\"><a class=\"_1fQZEK\" href=\"/chuwi-intel-core-i3-10th-gen-1005g1-8-gb-512-gb-ssd-windows-11-home-corebook-x-grey-laptop/p/itm60983f1093f2d?pid=COMGQHRQZSPVRDZE&amp;lid=LSTCOMGQHRQZSPVRDZEQTPAAX&amp;marketplace=FLIPKART&amp;q=laptop&amp;store=6bo%2Fb5g&amp;srno=s_1_9&amp;otracker=search&amp;otracker1=search&amp;fm=organic&amp;iid=fcaf6c3c-b989-4e56-81b9-ec38dd9a8317.COMGQHRQZSPVRDZE.SEARCH&amp;ppt=None&amp;ppn=None&amp;ssid=l4naneugu80000001704164791461&amp;qH=312f91285e048e09\" rel=\"noopener noreferrer\" target=\"_blank\"><div class=\"MIXNux\"><div class=\"_2QcLo-\"><div><div class=\"CXW8mj\" style=\"height:200px;width:200px\"><img alt=\"CHUWI Intel Core i3 10th Gen 1005G1 - (8 GB/512 GB SSD/Windows 11 Home) CoreBook X Grey Laptop\" class=\"_396cs4\" loading=\"eager\" src=\"https://rukminim2.flixcart.com/image/312/312/xif0q/computer/n/b/l/corebook-x-laptop-chuwi-original-imagwkfspzdtns4j.jpeg?q=70\"/></div></div></div><div class=\"_3wLduG\"><div class=\"_3PzNI-\"><span class=\"f3A4_V\"><label class=\"_2iDkf8\"><input class=\"_30VH1S\" readonly=\"\" type=\"checkbox\"/><div class=\"_24_Dny\"></div></label></span><label class=\"_6Up2sF\"><span>Add to Compare</span></label></div></div><div class=\"_2hVSre _3nq8ih\"><div class=\"_36FSn5\"><svg class=\"_1l0elc\" height=\"16\" viewbox=\"0 0 20 16\" width=\"16\" xmlns=\"http://www.w3.org/2000/svg\"><path class=\"eX72wL\" d=\"M8.695 16.682C4.06 12.382 1 9.536 1 6.065 1 3.219 3.178 1 5.95 1c1.566 0 3.069.746 4.05 1.915C10.981 1.745 12.484 1 14.05 1 16.822 1 19 3.22 19 6.065c0 3.471-3.06 6.316-7.695 10.617L10 17.897l-1.305-1.215z\" fill=\"#2874F0\" fill-rule=\"evenodd\" opacity=\".9\" stroke=\"#FFF\"></path></svg></div></div></div><div class=\"_3pLy-c row\"><div class=\"col col-7-12\"><div class=\"_4rR01T\">CHUWI Intel Core i3 10th Gen 1005G1 - (8 GB/512 GB SSD/Windows 11 Home) CoreBook X Grey Laptop</div><div class=\"gUuXy-\"><span class=\"_1lRcqv\" id=\"productRating_LSTCOMGQHRQZSPVRDZEQTPAAX_COMGQHRQZSPVRDZE_\"><div class=\"_3LWZlK\">4.1<img class=\"_1wB99o\" src=\"data:image/svg+xml;base64,PHN2ZyB4bWxucz0iaHR0cDovL3d3dy53My5vcmcvMjAwMC9zdmciIHdpZHRoPSIxMyIgaGVpZ2h0PSIxMiI+PHBhdGggZmlsbD0iI0ZGRiIgZD0iTTYuNSA5LjQzOWwtMy42NzQgMi4yMy45NC00LjI2LTMuMjEtMi44ODMgNC4yNTQtLjQwNEw2LjUuMTEybDEuNjkgNC4wMSA0LjI1NC40MDQtMy4yMSAyLjg4Mi45NCA0LjI2eiIvPjwvc3ZnPg==\"/></div></span><span class=\"_2_R_DZ\"><span><span>803 Ratings </span><span class=\"_13vcmD\">&amp;</span><span> 146 Reviews</span></span></span></div><div class=\"fMghEO\"><ul class=\"_1xgFaf\"><li class=\"rgWa7D\">Stylish, Thin and Portable Light Weight Laptop\n",
       "Processor: Intel Core i3-1005G1 (Base 1.20 GHz &amp; Turbo upto 3.40 GHz) 2 Cores\n",
       "RAM/Storage: 8GB DDR4, 512GB SSD\n",
       "Display: 14.0\" FHD 280 nits\n",
       "Touchpad: Larger Touchpad with easy control\n",
       "Keyboard: Chiclet keyboard keys</li><li class=\"rgWa7D\">Intel Core i3 Processor (10th Gen)</li><li class=\"rgWa7D\">8 GB DDR4 RAM</li><li class=\"rgWa7D\">64 bit Windows 11 Operating System</li><li class=\"rgWa7D\">512 GB SSD</li><li class=\"rgWa7D\">35.56 cm (14 inch) Display</li><li class=\"rgWa7D\">WPS Office, Operating System Software</li><li class=\"rgWa7D\">1 Year Onsite Warranty</li></ul></div></div><div class=\"col col-5-12 nlI3QM\"><div class=\"_3tbKJL\"><div class=\"_25b18c\"><div class=\"_30jeq3 _1_WHN1\">₹24,990</div><div class=\"_3I9_wc _27UcVY\">₹<!-- -->49,990</div><div class=\"_3Ay6Sb\"><span>50% off</span></div></div></div><div class=\"_13J9qT\"><img height=\"21\" src=\"//static-assets-web.flixcart.com/fk-p-linchpin-web/fk-cp-zion/img/fa_62673a.png\"/></div></div></div></a></div></div></div></div><div class=\"_1AtVbE col-12-12\"><div class=\"_13oc-S\"><div data-id=\"COMGTVXCHXKNHYY2\" style=\"width:100%\"><div class=\"_2kHMtA\"><a class=\"_1fQZEK\" href=\"/lenovo-intel-core-i7-12th-gen-1255u-16-gb-512-gb-ssd-windows-11-home-v15-g3-iap-thin-light-laptop/p/itm930d2b10f8362?pid=COMGTVXCHXKNHYY2&amp;lid=LSTCOMGTVXCHXKNHYY2MXPCVF&amp;marketplace=FLIPKART&amp;q=laptop&amp;store=6bo%2Fb5g&amp;srno=s_1_10&amp;otracker=search&amp;otracker1=search&amp;fm=organic&amp;iid=fcaf6c3c-b989-4e56-81b9-ec38dd9a8317.COMGTVXCHXKNHYY2.SEARCH&amp;ppt=None&amp;ppn=None&amp;ssid=l4naneugu80000001704164791461&amp;qH=312f91285e048e09\" rel=\"noopener noreferrer\" target=\"_blank\"><div class=\"MIXNux\"><div class=\"_2QcLo-\"><div><div class=\"CXW8mj\" style=\"height:200px;width:200px\"><img alt=\"Lenovo Intel Core i7 12th Gen 1255U - (16 GB/512 GB SSD/Windows 11 Home) V15 G3 IAP Thin and Light Lap...\" class=\"_396cs4\" loading=\"eager\" src=\"https://rukminim2.flixcart.com/image/312/312/xif0q/computer/d/t/c/v15-g2-alc-laptop-lenovo-original-imaghq2ffspmtfuh.jpeg?q=70\"/></div></div></div><div class=\"_3wLduG\"><div class=\"_3PzNI-\"><span class=\"f3A4_V\"><label class=\"_2iDkf8\"><input class=\"_30VH1S\" readonly=\"\" type=\"checkbox\"/><div class=\"_24_Dny\"></div></label></span><label class=\"_6Up2sF\"><span>Add to Compare</span></label></div></div><div class=\"_2hVSre _3nq8ih\"><div class=\"_36FSn5\"><svg class=\"_1l0elc\" height=\"16\" viewbox=\"0 0 20 16\" width=\"16\" xmlns=\"http://www.w3.org/2000/svg\"><path class=\"eX72wL\" d=\"M8.695 16.682C4.06 12.382 1 9.536 1 6.065 1 3.219 3.178 1 5.95 1c1.566 0 3.069.746 4.05 1.915C10.981 1.745 12.484 1 14.05 1 16.822 1 19 3.22 19 6.065c0 3.471-3.06 6.316-7.695 10.617L10 17.897l-1.305-1.215z\" fill=\"#2874F0\" fill-rule=\"evenodd\" opacity=\".9\" stroke=\"#FFF\"></path></svg></div></div></div><div class=\"_3pLy-c row\"><div class=\"col col-7-12\"><div class=\"_4rR01T\">Lenovo Intel Core i7 12th Gen 1255U - (16 GB/512 GB SSD/Windows 11 Home) V15 G3 IAP Thin and Light Lap...</div><div class=\"gUuXy-\"><span class=\"_1lRcqv\" id=\"productRating_LSTCOMGTVXCHXKNHYY2MXPCVF_COMGTVXCHXKNHYY2_\"><div class=\"_3LWZlK\">4<img class=\"_1wB99o\" src=\"data:image/svg+xml;base64,PHN2ZyB4bWxucz0iaHR0cDovL3d3dy53My5vcmcvMjAwMC9zdmciIHdpZHRoPSIxMyIgaGVpZ2h0PSIxMiI+PHBhdGggZmlsbD0iI0ZGRiIgZD0iTTYuNSA5LjQzOWwtMy42NzQgMi4yMy45NC00LjI2LTMuMjEtMi44ODMgNC4yNTQtLjQwNEw2LjUuMTEybDEuNjkgNC4wMSA0LjI1NC40MDQtMy4yMSAyLjg4Mi45NCA0LjI2eiIvPjwvc3ZnPg==\"/></div></span><span class=\"_2_R_DZ\"><span><span>708 Ratings </span><span class=\"_13vcmD\">&amp;</span><span> 60 Reviews</span></span></span></div><div class=\"fMghEO\"><ul class=\"_1xgFaf\"><li class=\"rgWa7D\">Intel Core i7 Processor (12th Gen)</li><li class=\"rgWa7D\">16 GB DDR4 RAM</li><li class=\"rgWa7D\">Windows 11 Operating System</li><li class=\"rgWa7D\">512 GB SSD</li><li class=\"rgWa7D\">39.62 cm (15.6 Inch) Display</li><li class=\"rgWa7D\">1 Year Onsite Warranty</li></ul></div></div><div class=\"col col-5-12 nlI3QM\"><div class=\"_3tbKJL\"><div class=\"_25b18c\"><div class=\"_30jeq3 _1_WHN1\">₹49,990</div><div class=\"_3I9_wc _27UcVY\">₹<!-- -->90,000</div><div class=\"_3Ay6Sb\"><span>44% off</span></div></div></div><div class=\"_13J9qT\"><img height=\"21\" src=\"//static-assets-web.flixcart.com/fk-p-linchpin-web/fk-cp-zion/img/fa_62673a.png\"/></div></div></div></a></div></div></div></div><div class=\"_1AtVbE col-12-12\"><div class=\"_13oc-S\"><div data-id=\"COMGZ4PNC67EXXDH\" style=\"width:100%\"><div class=\"_2kHMtA\"><a class=\"_1fQZEK\" href=\"/msi-gf63-intel-core-i7-11th-gen-11800h-16-gb-1-tb-hdd-256-gb-ssd-windows-11-home-4-graphics-nvidia-geforce-rtx-3050-144-hz-thin-11uc-1294in-gaming-laptop/p/itm1692c348d09ef?pid=COMGZ4PNC67EXXDH&amp;lid=LSTCOMGZ4PNC67EXXDHUDP6RF&amp;marketplace=FLIPKART&amp;q=laptop&amp;store=6bo%2Fb5g&amp;srno=s_1_11&amp;otracker=search&amp;otracker1=search&amp;fm=organic&amp;iid=en_mviFbTLHjngwB8An8Mnh92PvvrALiZPbI7nqXBeIXhWYogH1QsfInwX8GweP11HI6tg5RUeP4Wn2s_9t_d7wQw%3D%3D&amp;ppt=None&amp;ppn=None&amp;ssid=l4naneugu80000001704164791461&amp;qH=312f91285e048e09\" rel=\"noopener noreferrer\" target=\"_blank\"><div class=\"MIXNux\"><div class=\"_2QcLo-\"><div><div class=\"CXW8mj\" style=\"height:200px;width:200px\"><img alt=\"MSI GF63 Intel Core i7 11th Gen 11800H - (16 GB/1 TB HDD/256 GB SSD/Windows 11 Home/4 GB Graphics/NVID...\" class=\"_396cs4\" loading=\"eager\" src=\"https://rukminim2.flixcart.com/image/312/312/xif0q/computer/z/i/f/-original-imagt8bb7ruggfgm.jpeg?q=70\"/></div></div></div><div class=\"_3wLduG\"><div class=\"_3PzNI-\"><span class=\"f3A4_V\"><label class=\"_2iDkf8\"><input class=\"_30VH1S\" readonly=\"\" type=\"checkbox\"/><div class=\"_24_Dny\"></div></label></span><label class=\"_6Up2sF\"><span>Add to Compare</span></label></div></div><div class=\"_2hVSre _3nq8ih\"><div class=\"_36FSn5\"><svg class=\"_1l0elc\" height=\"16\" viewbox=\"0 0 20 16\" width=\"16\" xmlns=\"http://www.w3.org/2000/svg\"><path class=\"eX72wL\" d=\"M8.695 16.682C4.06 12.382 1 9.536 1 6.065 1 3.219 3.178 1 5.95 1c1.566 0 3.069.746 4.05 1.915C10.981 1.745 12.484 1 14.05 1 16.822 1 19 3.22 19 6.065c0 3.471-3.06 6.316-7.695 10.617L10 17.897l-1.305-1.215z\" fill=\"#2874F0\" fill-rule=\"evenodd\" opacity=\".9\" stroke=\"#FFF\"></path></svg></div></div></div><div class=\"_3pLy-c row\"><div class=\"col col-7-12\"><div class=\"_2tfzpE\"><span>Sponsored</span></div><div class=\"_4rR01T\">MSI GF63 Intel Core i7 11th Gen 11800H - (16 GB/1 TB HDD/256 GB SSD/Windows 11 Home/4 GB Graphics/NVID...</div><div class=\"gUuXy-\"><span class=\"_1lRcqv\" id=\"productRating_LSTCOMGZ4PNC67EXXDHUDP6RF_COMGZ4PNC67EXXDH_\"><div class=\"_3LWZlK\">4.3<img class=\"_1wB99o\" src=\"data:image/svg+xml;base64,PHN2ZyB4bWxucz0iaHR0cDovL3d3dy53My5vcmcvMjAwMC9zdmciIHdpZHRoPSIxMyIgaGVpZ2h0PSIxMiI+PHBhdGggZmlsbD0iI0ZGRiIgZD0iTTYuNSA5LjQzOWwtMy42NzQgMi4yMy45NC00LjI2LTMuMjEtMi44ODMgNC4yNTQtLjQwNEw2LjUuMTEybDEuNjkgNC4wMSA0LjI1NC40MDQtMy4yMSAyLjg4Mi45NCA0LjI2eiIvPjwvc3ZnPg==\"/></div></span><span class=\"_2_R_DZ\"><span><span>842 Ratings </span><span class=\"_13vcmD\">&amp;</span><span> 91 Reviews</span></span></span></div><div class=\"fMghEO\"><ul class=\"_1xgFaf\"><li class=\"rgWa7D\">Intel Core i7 Processor (11th Gen)</li><li class=\"rgWa7D\">16 GB DDR4 RAM</li><li class=\"rgWa7D\">Windows 11 Operating System</li><li class=\"rgWa7D\">1 TB HDD|256 GB SSD</li><li class=\"rgWa7D\">39.62 cm (15.6 Inch) Display</li><li class=\"rgWa7D\">2 Year Carry-in Warranty</li></ul></div></div><div class=\"col col-5-12 nlI3QM\"><div class=\"_3tbKJL\"><div class=\"_25b18c\"><div class=\"_30jeq3 _1_WHN1\">₹66,890</div><div class=\"_3I9_wc _27UcVY\">₹<!-- -->82,990</div><div class=\"_3Ay6Sb\"><span>19% off</span></div></div></div><div class=\"_13J9qT\"><img height=\"21\" src=\"//static-assets-web.flixcart.com/fk-p-linchpin-web/fk-cp-zion/img/fa_62673a.png\"/></div></div></div></a></div></div></div></div><div class=\"_1AtVbE col-12-12\"><div class=\"_13oc-S\"><div data-id=\"COMGMGSJZQGQXKGZ\" style=\"width:100%\"><div class=\"_2kHMtA\"><a class=\"_1fQZEK\" href=\"/msi-gf63-intel-core-i7-12th-gen-12650h-16-gb-512-gb-ssd-windows-11-home-6-graphics-nvidia-geforce-rtx-4050-144-hz-thin-12ve-070in-gaming-laptop/p/itm7346c57244c67?pid=COMGMGSJZQGQXKGZ&amp;lid=LSTCOMGMGSJZQGQXKGZ0MPXHR&amp;marketplace=FLIPKART&amp;q=laptop&amp;store=6bo%2Fb5g&amp;srno=s_1_12&amp;otracker=search&amp;otracker1=search&amp;fm=organic&amp;iid=en_mviFbTLHjngwB8An8Mnh92PvvrALiZPbI7nqXBeIXhWLWEpXQY0K_rXnUSzaCGxqkTdSpliXQvbd7W9RU1lw-A%3D%3D&amp;ppt=None&amp;ppn=None&amp;ssid=l4naneugu80000001704164791461&amp;qH=312f91285e048e09\" rel=\"noopener noreferrer\" target=\"_blank\"><div class=\"MIXNux\"><div class=\"_2QcLo-\"><div><div class=\"CXW8mj\" style=\"height:200px;width:200px\"><img alt=\"MSI GF63 Intel Core i7 12th Gen 12650H - (16 GB/512 GB SSD/Windows 11 Home/6 GB Graphics/NVIDIA GeForc...\" class=\"_396cs4\" loading=\"eager\" src=\"https://rukminim2.flixcart.com/image/312/312/xif0q/computer/7/0/l/-original-imagtfd2ms63gywa.jpeg?q=70\"/></div></div></div><div class=\"_3wLduG\"><div class=\"_3PzNI-\"><span class=\"f3A4_V\"><label class=\"_2iDkf8\"><input class=\"_30VH1S\" readonly=\"\" type=\"checkbox\"/><div class=\"_24_Dny\"></div></label></span><label class=\"_6Up2sF\"><span>Add to Compare</span></label></div></div><div class=\"_2hVSre _3nq8ih\"><div class=\"_36FSn5\"><svg class=\"_1l0elc\" height=\"16\" viewbox=\"0 0 20 16\" width=\"16\" xmlns=\"http://www.w3.org/2000/svg\"><path class=\"eX72wL\" d=\"M8.695 16.682C4.06 12.382 1 9.536 1 6.065 1 3.219 3.178 1 5.95 1c1.566 0 3.069.746 4.05 1.915C10.981 1.745 12.484 1 14.05 1 16.822 1 19 3.22 19 6.065c0 3.471-3.06 6.316-7.695 10.617L10 17.897l-1.305-1.215z\" fill=\"#2874F0\" fill-rule=\"evenodd\" opacity=\".9\" stroke=\"#FFF\"></path></svg></div></div></div><div class=\"_3pLy-c row\"><div class=\"col col-7-12\"><div class=\"_2tfzpE\"><span>Sponsored</span></div><div class=\"_4rR01T\">MSI GF63 Intel Core i7 12th Gen 12650H - (16 GB/512 GB SSD/Windows 11 Home/6 GB Graphics/NVIDIA GeForc...</div><div class=\"gUuXy-\"><span class=\"_1lRcqv\" id=\"productRating_LSTCOMGMGSJZQGQXKGZ0MPXHR_COMGMGSJZQGQXKGZ_\"><div class=\"_3LWZlK\">4.3<img class=\"_1wB99o\" src=\"data:image/svg+xml;base64,PHN2ZyB4bWxucz0iaHR0cDovL3d3dy53My5vcmcvMjAwMC9zdmciIHdpZHRoPSIxMyIgaGVpZ2h0PSIxMiI+PHBhdGggZmlsbD0iI0ZGRiIgZD0iTTYuNSA5LjQzOWwtMy42NzQgMi4yMy45NC00LjI2LTMuMjEtMi44ODMgNC4yNTQtLjQwNEw2LjUuMTEybDEuNjkgNC4wMSA0LjI1NC40MDQtMy4yMSAyLjg4Mi45NCA0LjI2eiIvPjwvc3ZnPg==\"/></div></span><span class=\"_2_R_DZ\"><span><span>52 Ratings </span><span class=\"_13vcmD\">&amp;</span><span> 3 Reviews</span></span></span></div><div class=\"fMghEO\"><ul class=\"_1xgFaf\"><li class=\"rgWa7D\">Intel Core i7 Processor (12th Gen)</li><li class=\"rgWa7D\">16 GB DDR4 RAM</li><li class=\"rgWa7D\">Windows 11 Operating System</li><li class=\"rgWa7D\">512 GB SSD</li><li class=\"rgWa7D\">39.62 cm (15.6 Inch) Display</li><li class=\"rgWa7D\">2 Year Carry-in Warranty</li></ul></div></div><div class=\"col col-5-12 nlI3QM\"><div class=\"_3tbKJL\"><div class=\"_25b18c\"><div class=\"_30jeq3 _1_WHN1\">₹87,990</div><div class=\"_3I9_wc _27UcVY\">₹<!-- -->1,15,990</div><div class=\"_3Ay6Sb\"><span>24% off</span></div></div></div></div></div></a></div></div></div></div><div class=\"_1AtVbE col-12-12\"><div class=\"_13oc-S\"><div data-id=\"COMGH3V3G7MPXF4U\" style=\"width:100%\"><div class=\"_2kHMtA\"><a class=\"_1fQZEK\" href=\"/samsung-galaxy-book-2-intel-core-i5-12th-gen-1235u-16-gb-512-gb-ssd-windows-11-home-np550-thin-light-laptop/p/itm1d69d93bcb045?pid=COMGH3V3G7MPXF4U&amp;lid=LSTCOMGH3V3G7MPXF4UQEHUF5&amp;marketplace=FLIPKART&amp;q=laptop&amp;store=6bo%2Fb5g&amp;srno=s_1_13&amp;otracker=search&amp;otracker1=search&amp;fm=organic&amp;iid=fcaf6c3c-b989-4e56-81b9-ec38dd9a8317.COMGH3V3G7MPXF4U.SEARCH&amp;ppt=None&amp;ppn=None&amp;ssid=l4naneugu80000001704164791461&amp;qH=312f91285e048e09\" rel=\"noopener noreferrer\" target=\"_blank\"><div class=\"MIXNux\"><div class=\"_2QcLo-\"><div><div class=\"CXW8mj\" style=\"height:200px;width:200px\"><img alt=\"SAMSUNG Galaxy Book 2 Intel Core i5 12th Gen 1235U - (16 GB/512 GB SSD/Windows 11 Home) NP550 Thin and...\" class=\"_396cs4\" loading=\"eager\" src=\"https://rukminim2.flixcart.com/image/312/312/xif0q/computer/r/r/5/-original-imagupz9vdcgzvnf.jpeg?q=70\"/></div></div></div><div class=\"_3wLduG\"><div class=\"_3PzNI-\"><span class=\"f3A4_V\"><label class=\"_2iDkf8\"><input class=\"_30VH1S\" readonly=\"\" type=\"checkbox\"/><div class=\"_24_Dny\"></div></label></span><label class=\"_6Up2sF\"><span>Add to Compare</span></label></div></div><div class=\"_2hVSre _3nq8ih\"><div class=\"_36FSn5\"><svg class=\"_1l0elc\" height=\"16\" viewbox=\"0 0 20 16\" width=\"16\" xmlns=\"http://www.w3.org/2000/svg\"><path class=\"eX72wL\" d=\"M8.695 16.682C4.06 12.382 1 9.536 1 6.065 1 3.219 3.178 1 5.95 1c1.566 0 3.069.746 4.05 1.915C10.981 1.745 12.484 1 14.05 1 16.822 1 19 3.22 19 6.065c0 3.471-3.06 6.316-7.695 10.617L10 17.897l-1.305-1.215z\" fill=\"#2874F0\" fill-rule=\"evenodd\" opacity=\".9\" stroke=\"#FFF\"></path></svg></div></div></div><div class=\"_3pLy-c row\"><div class=\"col col-7-12\"><div class=\"_4rR01T\">SAMSUNG Galaxy Book 2 Intel Core i5 12th Gen 1235U - (16 GB/512 GB SSD/Windows 11 Home) NP550 Thin and...</div><div class=\"gUuXy-\"><span class=\"_1lRcqv\" id=\"productRating_LSTCOMGH3V3G7MPXF4UQEHUF5_COMGH3V3G7MPXF4U_\"><div class=\"_3LWZlK\">4.3<img class=\"_1wB99o\" src=\"data:image/svg+xml;base64,PHN2ZyB4bWxucz0iaHR0cDovL3d3dy53My5vcmcvMjAwMC9zdmciIHdpZHRoPSIxMyIgaGVpZ2h0PSIxMiI+PHBhdGggZmlsbD0iI0ZGRiIgZD0iTTYuNSA5LjQzOWwtMy42NzQgMi4yMy45NC00LjI2LTMuMjEtMi44ODMgNC4yNTQtLjQwNEw2LjUuMTEybDEuNjkgNC4wMSA0LjI1NC40MDQtMy4yMSAyLjg4Mi45NCA0LjI2eiIvPjwvc3ZnPg==\"/></div></span><span class=\"_2_R_DZ\"><span><span>1,677 Ratings </span><span class=\"_13vcmD\">&amp;</span><span> 168 Reviews</span></span></span></div><div class=\"fMghEO\"><ul class=\"_1xgFaf\"><li class=\"rgWa7D\">Intel Core i5 Processor (12th Gen)</li><li class=\"rgWa7D\">16 GB DDR4 RAM</li><li class=\"rgWa7D\">Windows 11 Operating System</li><li class=\"rgWa7D\">512 GB SSD</li><li class=\"rgWa7D\">39.62 cm (15.6 Inch) Display</li><li class=\"rgWa7D\">1 Year Onsite Warranty</li></ul></div></div><div class=\"col col-5-12 nlI3QM\"><div class=\"_3tbKJL\"><div class=\"_25b18c\"><div class=\"_30jeq3 _1_WHN1\">₹48,990</div><div class=\"_3I9_wc _27UcVY\">₹<!-- -->85,990</div><div class=\"_3Ay6Sb\"><span>43% off</span></div></div></div><div class=\"_13J9qT\"><img height=\"21\" src=\"//static-assets-web.flixcart.com/fk-p-linchpin-web/fk-cp-zion/img/fa_62673a.png\"/></div></div></div></a></div></div></div></div><div class=\"_1AtVbE col-12-12\"><div class=\"_13oc-S\"><div data-id=\"COMGH3V3UUGM46BQ\" style=\"width:100%\"><div class=\"_2kHMtA\"><a class=\"_1fQZEK\" href=\"/samsung-galaxy-book-2-intel-core-i5-12th-gen-1235u-8-gb-512-gb-ssd-windows-11-home-np550-thin-light-laptop/p/itmcb89499a3c4e4?pid=COMGH3V3UUGM46BQ&amp;lid=LSTCOMGH3V3UUGM46BQZAGUN0&amp;marketplace=FLIPKART&amp;q=laptop&amp;store=6bo%2Fb5g&amp;srno=s_1_14&amp;otracker=search&amp;otracker1=search&amp;fm=organic&amp;iid=fcaf6c3c-b989-4e56-81b9-ec38dd9a8317.COMGH3V3UUGM46BQ.SEARCH&amp;ppt=None&amp;ppn=None&amp;ssid=l4naneugu80000001704164791461&amp;qH=312f91285e048e09\" rel=\"noopener noreferrer\" target=\"_blank\"><div class=\"MIXNux\"><div class=\"_2QcLo-\"><div><div class=\"CXW8mj\" style=\"height:200px;width:200px\"><img alt=\"SAMSUNG Galaxy Book 2 Intel Core i5 12th Gen 1235U - (8 GB/512 GB SSD/Windows 11 Home) NP550 Thin and ...\" class=\"_396cs4\" loading=\"eager\" src=\"https://rukminim2.flixcart.com/image/312/312/xif0q/computer/r/r/5/-original-imagupz9vdcgzvnf.jpeg?q=70\"/></div></div></div><div class=\"_3wLduG\"><div class=\"_3PzNI-\"><span class=\"f3A4_V\"><label class=\"_2iDkf8\"><input class=\"_30VH1S\" readonly=\"\" type=\"checkbox\"/><div class=\"_24_Dny\"></div></label></span><label class=\"_6Up2sF\"><span>Add to Compare</span></label></div></div><div class=\"_2hVSre _3nq8ih\"><div class=\"_36FSn5\"><svg class=\"_1l0elc\" height=\"16\" viewbox=\"0 0 20 16\" width=\"16\" xmlns=\"http://www.w3.org/2000/svg\"><path class=\"eX72wL\" d=\"M8.695 16.682C4.06 12.382 1 9.536 1 6.065 1 3.219 3.178 1 5.95 1c1.566 0 3.069.746 4.05 1.915C10.981 1.745 12.484 1 14.05 1 16.822 1 19 3.22 19 6.065c0 3.471-3.06 6.316-7.695 10.617L10 17.897l-1.305-1.215z\" fill=\"#2874F0\" fill-rule=\"evenodd\" opacity=\".9\" stroke=\"#FFF\"></path></svg></div></div></div><div class=\"_3pLy-c row\"><div class=\"col col-7-12\"><div class=\"_4rR01T\">SAMSUNG Galaxy Book 2 Intel Core i5 12th Gen 1235U - (8 GB/512 GB SSD/Windows 11 Home) NP550 Thin and ...</div><div class=\"gUuXy-\"><span class=\"_1lRcqv\" id=\"productRating_LSTCOMGH3V3UUGM46BQZAGUN0_COMGH3V3UUGM46BQ_\"><div class=\"_3LWZlK\">4.3<img class=\"_1wB99o\" src=\"data:image/svg+xml;base64,PHN2ZyB4bWxucz0iaHR0cDovL3d3dy53My5vcmcvMjAwMC9zdmciIHdpZHRoPSIxMyIgaGVpZ2h0PSIxMiI+PHBhdGggZmlsbD0iI0ZGRiIgZD0iTTYuNSA5LjQzOWwtMy42NzQgMi4yMy45NC00LjI2LTMuMjEtMi44ODMgNC4yNTQtLjQwNEw2LjUuMTEybDEuNjkgNC4wMSA0LjI1NC40MDQtMy4yMSAyLjg4Mi45NCA0LjI2eiIvPjwvc3ZnPg==\"/></div></span><span class=\"_2_R_DZ\"><span><span>1,677 Ratings </span><span class=\"_13vcmD\">&amp;</span><span> 168 Reviews</span></span></span></div><div class=\"fMghEO\"><ul class=\"_1xgFaf\"><li class=\"rgWa7D\">Intel Core i5 Processor (12th Gen)</li><li class=\"rgWa7D\">8 GB DDR4 RAM</li><li class=\"rgWa7D\">Windows 11 Operating System</li><li class=\"rgWa7D\">512 GB SSD</li><li class=\"rgWa7D\">39.62 cm (15.6 Inch) Display</li><li class=\"rgWa7D\">1 Year Onsite Warranty</li></ul></div></div><div class=\"col col-5-12 nlI3QM\"><div class=\"_3tbKJL\"><div class=\"_25b18c\"><div class=\"_30jeq3 _1_WHN1\">₹44,990</div><div class=\"_3I9_wc _27UcVY\">₹<!-- -->82,990</div><div class=\"_3Ay6Sb\"><span>45% off</span></div></div></div><div class=\"_13J9qT\"><img height=\"21\" src=\"//static-assets-web.flixcart.com/fk-p-linchpin-web/fk-cp-zion/img/fa_62673a.png\"/></div></div></div></a></div></div></div></div><div class=\"_1AtVbE col-12-12\"><div class=\"_13oc-S\"><div data-id=\"COMGZ3SPQHTUNRKG\" style=\"width:100%\"><div class=\"_2kHMtA\"><a class=\"_1fQZEK\" href=\"/lenovo-v15-intel-core-i3-12th-gen-1215u-8-gb-512-gb-ssd-windows-11-home-g3-iap-thin-light-laptop/p/itmf6172499e1c65?pid=COMGZ3SPQHTUNRKG&amp;lid=LSTCOMGZ3SPQHTUNRKGUS5YJT&amp;marketplace=FLIPKART&amp;q=laptop&amp;store=6bo%2Fb5g&amp;srno=s_1_15&amp;otracker=search&amp;otracker1=search&amp;fm=organic&amp;iid=fcaf6c3c-b989-4e56-81b9-ec38dd9a8317.COMGZ3SPQHTUNRKG.SEARCH&amp;ppt=None&amp;ppn=None&amp;ssid=l4naneugu80000001704164791461&amp;qH=312f91285e048e09\" rel=\"noopener noreferrer\" target=\"_blank\"><div class=\"MIXNux\"><div class=\"_2QcLo-\"><div><div class=\"CXW8mj\" style=\"height:200px;width:200px\"><img alt=\"Lenovo V15 Intel Intel Core i3 12th Gen 1215U - (8 GB/512 GB SSD/Windows 11 Home) V15 G3 IAP Thin and ...\" class=\"_396cs4\" loading=\"eager\" src=\"https://rukminim2.flixcart.com/image/312/312/xif0q/computer/d/t/c/v15-g2-alc-laptop-lenovo-original-imaghq2ffspmtfuh.jpeg?q=70\"/></div></div></div><div class=\"_3wLduG\"><div class=\"_3PzNI-\"><span class=\"f3A4_V\"><label class=\"_2iDkf8\"><input class=\"_30VH1S\" readonly=\"\" type=\"checkbox\"/><div class=\"_24_Dny\"></div></label></span><label class=\"_6Up2sF\"><span>Add to Compare</span></label></div></div><div class=\"_2hVSre _3nq8ih\"><div class=\"_36FSn5\"><svg class=\"_1l0elc\" height=\"16\" viewbox=\"0 0 20 16\" width=\"16\" xmlns=\"http://www.w3.org/2000/svg\"><path class=\"eX72wL\" d=\"M8.695 16.682C4.06 12.382 1 9.536 1 6.065 1 3.219 3.178 1 5.95 1c1.566 0 3.069.746 4.05 1.915C10.981 1.745 12.484 1 14.05 1 16.822 1 19 3.22 19 6.065c0 3.471-3.06 6.316-7.695 10.617L10 17.897l-1.305-1.215z\" fill=\"#2874F0\" fill-rule=\"evenodd\" opacity=\".9\" stroke=\"#FFF\"></path></svg></div></div></div><div class=\"_3pLy-c row\"><div class=\"col col-7-12\"><div class=\"_4rR01T\">Lenovo V15 Intel Intel Core i3 12th Gen 1215U - (8 GB/512 GB SSD/Windows 11 Home) V15 G3 IAP Thin and ...</div><div class=\"gUuXy-\"><span class=\"_1lRcqv\" id=\"productRating_LSTCOMGZ3SPQHTUNRKGUS5YJT_COMGZ3SPQHTUNRKG_\"><div class=\"_3LWZlK\">4.2<img class=\"_1wB99o\" src=\"data:image/svg+xml;base64,PHN2ZyB4bWxucz0iaHR0cDovL3d3dy53My5vcmcvMjAwMC9zdmciIHdpZHRoPSIxMyIgaGVpZ2h0PSIxMiI+PHBhdGggZmlsbD0iI0ZGRiIgZD0iTTYuNSA5LjQzOWwtMy42NzQgMi4yMy45NC00LjI2LTMuMjEtMi44ODMgNC4yNTQtLjQwNEw2LjUuMTEybDEuNjkgNC4wMSA0LjI1NC40MDQtMy4yMSAyLjg4Mi45NCA0LjI2eiIvPjwvc3ZnPg==\"/></div></span><span class=\"_2_R_DZ\"><span><span>101 Ratings </span><span class=\"_13vcmD\">&amp;</span><span> 5 Reviews</span></span></span></div><div class=\"fMghEO\"><ul class=\"_1xgFaf\"><li class=\"rgWa7D\">Intel Core i3 Processor (12th Gen)</li><li class=\"rgWa7D\">8 GB DDR4 RAM</li><li class=\"rgWa7D\">Windows 11 Operating System</li><li class=\"rgWa7D\">512 GB SSD</li><li class=\"rgWa7D\">39.62 cm (15.6 Inch) Display</li><li class=\"rgWa7D\">1 Year Onsite Warranty</li></ul></div></div><div class=\"col col-5-12 nlI3QM\"><div class=\"_3tbKJL\"><div class=\"_25b18c\"><div class=\"_30jeq3 _1_WHN1\">₹34,500</div><div class=\"_3I9_wc _27UcVY\">₹<!-- -->59,000</div><div class=\"_3Ay6Sb\"><span>41% off</span></div></div></div><div class=\"_13J9qT\"><img height=\"21\" src=\"//static-assets-web.flixcart.com/fk-p-linchpin-web/fk-cp-zion/img/fa_62673a.png\"/></div></div></div></a></div></div></div></div><div class=\"_1AtVbE col-12-12\"><div class=\"_13oc-S\"><div data-id=\"COMGNFU7CYNXJ9GG\" style=\"width:100%\"><div class=\"_2kHMtA\"><a class=\"_1fQZEK\" href=\"/hp-amd-ryzen-5-quad-core-r5-5500-8-gb-512-gb-ssd-windows-11-home-245-g8-business-laptop/p/itm9d380af867f61?pid=COMGNFU7CYNXJ9GG&amp;lid=LSTCOMGNFU7CYNXJ9GGATQV6M&amp;marketplace=FLIPKART&amp;q=laptop&amp;store=6bo%2Fb5g&amp;srno=s_1_16&amp;otracker=search&amp;otracker1=search&amp;fm=organic&amp;iid=fcaf6c3c-b989-4e56-81b9-ec38dd9a8317.COMGNFU7CYNXJ9GG.SEARCH&amp;ppt=None&amp;ppn=None&amp;ssid=l4naneugu80000001704164791461&amp;qH=312f91285e048e09\" rel=\"noopener noreferrer\" target=\"_blank\"><div class=\"MIXNux\"><div class=\"_2QcLo-\"><div><div class=\"CXW8mj\" style=\"height:200px;width:200px\"><img alt=\"HP AMD Ryzen 5 Quad Core R5 5500 - (8 GB/512 GB SSD/Windows 11 Home) 245 G8 Business Laptop\" class=\"_396cs4\" loading=\"eager\" src=\"https://rukminim2.flixcart.com/image/312/312/xif0q/computer/9/v/w/245-g8-business-laptop-hp-original-imagn4bctguugysg.jpeg?q=70\"/></div></div></div><div class=\"_3wLduG\"><div class=\"_3PzNI-\"><span class=\"f3A4_V\"><label class=\"_2iDkf8\"><input class=\"_30VH1S\" readonly=\"\" type=\"checkbox\"/><div class=\"_24_Dny\"></div></label></span><label class=\"_6Up2sF\"><span>Add to Compare</span></label></div></div><div class=\"_2hVSre _3nq8ih\"><div class=\"_36FSn5\"><svg class=\"_1l0elc\" height=\"16\" viewbox=\"0 0 20 16\" width=\"16\" xmlns=\"http://www.w3.org/2000/svg\"><path class=\"eX72wL\" d=\"M8.695 16.682C4.06 12.382 1 9.536 1 6.065 1 3.219 3.178 1 5.95 1c1.566 0 3.069.746 4.05 1.915C10.981 1.745 12.484 1 14.05 1 16.822 1 19 3.22 19 6.065c0 3.471-3.06 6.316-7.695 10.617L10 17.897l-1.305-1.215z\" fill=\"#2874F0\" fill-rule=\"evenodd\" opacity=\".9\" stroke=\"#FFF\"></path></svg></div></div></div><div class=\"_3pLy-c row\"><div class=\"col col-7-12\"><div class=\"_4rR01T\">HP AMD Ryzen 5 Quad Core R5 5500 - (8 GB/512 GB SSD/Windows 11 Home) 245 G8 Business Laptop</div><div class=\"gUuXy-\"><span class=\"_1lRcqv\" id=\"productRating_LSTCOMGNFU7CYNXJ9GGATQV6M_COMGNFU7CYNXJ9GG_\"><div class=\"_3LWZlK\">3.3<img class=\"_1wB99o\" src=\"data:image/svg+xml;base64,PHN2ZyB4bWxucz0iaHR0cDovL3d3dy53My5vcmcvMjAwMC9zdmciIHdpZHRoPSIxMyIgaGVpZ2h0PSIxMiI+PHBhdGggZmlsbD0iI0ZGRiIgZD0iTTYuNSA5LjQzOWwtMy42NzQgMi4yMy45NC00LjI2LTMuMjEtMi44ODMgNC4yNTQtLjQwNEw2LjUuMTEybDEuNjkgNC4wMSA0LjI1NC40MDQtMy4yMSAyLjg4Mi45NCA0LjI2eiIvPjwvc3ZnPg==\"/></div></span><span class=\"_2_R_DZ\"><span><span>15 Ratings </span><span class=\"_13vcmD\">&amp;</span><span> 1 Reviews</span></span></span></div><div class=\"fMghEO\"><ul class=\"_1xgFaf\"><li class=\"rgWa7D\">AMD Ryzen 5 Quad Core Processor</li><li class=\"rgWa7D\">8 GB DDR4 RAM</li><li class=\"rgWa7D\">Windows 11 Operating System</li><li class=\"rgWa7D\">512 GB SSD</li><li class=\"rgWa7D\">35.56 cm (14 Inch) Display</li><li class=\"rgWa7D\">1 Year Onsite warranty by OEM</li></ul></div></div><div class=\"col col-5-12 nlI3QM\"><div class=\"_3tbKJL\"><div class=\"_25b18c\"><div class=\"_30jeq3 _1_WHN1\">₹28,990</div><div class=\"_3I9_wc _27UcVY\">₹<!-- -->48,146</div><div class=\"_3Ay6Sb\"><span>39% off</span></div></div></div><div class=\"_13J9qT\"><img height=\"21\" src=\"//static-assets-web.flixcart.com/fk-p-linchpin-web/fk-cp-zion/img/fa_62673a.png\"/></div></div></div></a></div></div></div></div><div class=\"_1AtVbE col-12-12\"><div class=\"_13oc-S\"><div data-id=\"COMGZ4PN7CGG6SUD\" style=\"width:100%\"><div class=\"_2kHMtA\"><a class=\"_1fQZEK\" href=\"/msi-gf63-intel-core-i7-11th-gen-11800h-16-gb-1-tb-hdd-256-gb-ssd-windows-11-home-4-graphics-nvidia-geforce-gtx-1650-60-hz-thin-11sc-1298in-gaming-laptop/p/itmaae8f004c8e86?pid=COMGZ4PN7CGG6SUD&amp;lid=LSTCOMGZ4PN7CGG6SUDYTMTTB&amp;marketplace=FLIPKART&amp;q=laptop&amp;store=6bo%2Fb5g&amp;srno=s_1_17&amp;otracker=search&amp;otracker1=search&amp;fm=organic&amp;iid=en_mviFbTLHjngwB8An8Mnh92PvvrALiZPbI7nqXBeIXhVXlBdgmRGIyNzSkH8yMv1DPxN3hthxhViiDR6BQx4W-g%3D%3D&amp;ppt=None&amp;ppn=None&amp;ssid=l4naneugu80000001704164791461&amp;qH=312f91285e048e09\" rel=\"noopener noreferrer\" target=\"_blank\"><div class=\"MIXNux\"><div class=\"_2QcLo-\"><div><div class=\"CXW8mj\" style=\"height:200px;width:200px\"><img alt=\"MSI GF63 Intel Core i7 11th Gen 11800H - (16 GB/1 TB HDD/256 GB SSD/Windows 11 Home/4 GB Graphics/NVID...\" class=\"_396cs4\" loading=\"eager\" src=\"https://rukminim2.flixcart.com/image/312/312/xif0q/computer/i/x/n/-original-imagt8bbf6qgeaha.jpeg?q=70\"/></div></div></div><div class=\"_3wLduG\"><div class=\"_3PzNI-\"><span class=\"f3A4_V\"><label class=\"_2iDkf8\"><input class=\"_30VH1S\" readonly=\"\" type=\"checkbox\"/><div class=\"_24_Dny\"></div></label></span><label class=\"_6Up2sF\"><span>Add to Compare</span></label></div></div><div class=\"_2hVSre _3nq8ih\"><div class=\"_36FSn5\"><svg class=\"_1l0elc\" height=\"16\" viewbox=\"0 0 20 16\" width=\"16\" xmlns=\"http://www.w3.org/2000/svg\"><path class=\"eX72wL\" d=\"M8.695 16.682C4.06 12.382 1 9.536 1 6.065 1 3.219 3.178 1 5.95 1c1.566 0 3.069.746 4.05 1.915C10.981 1.745 12.484 1 14.05 1 16.822 1 19 3.22 19 6.065c0 3.471-3.06 6.316-7.695 10.617L10 17.897l-1.305-1.215z\" fill=\"#2874F0\" fill-rule=\"evenodd\" opacity=\".9\" stroke=\"#FFF\"></path></svg></div></div></div><div class=\"_3pLy-c row\"><div class=\"col col-7-12\"><div class=\"_2tfzpE\"><span>Sponsored</span></div><div class=\"_4rR01T\">MSI GF63 Intel Core i7 11th Gen 11800H - (16 GB/1 TB HDD/256 GB SSD/Windows 11 Home/4 GB Graphics/NVID...</div><div class=\"gUuXy-\"><span class=\"_1lRcqv\" id=\"productRating_LSTCOMGZ4PN7CGG6SUDYTMTTB_COMGZ4PN7CGG6SUD_\"><div class=\"_3LWZlK\">4.3<img class=\"_1wB99o\" src=\"data:image/svg+xml;base64,PHN2ZyB4bWxucz0iaHR0cDovL3d3dy53My5vcmcvMjAwMC9zdmciIHdpZHRoPSIxMyIgaGVpZ2h0PSIxMiI+PHBhdGggZmlsbD0iI0ZGRiIgZD0iTTYuNSA5LjQzOWwtMy42NzQgMi4yMy45NC00LjI2LTMuMjEtMi44ODMgNC4yNTQtLjQwNEw2LjUuMTEybDEuNjkgNC4wMSA0LjI1NC40MDQtMy4yMSAyLjg4Mi45NCA0LjI2eiIvPjwvc3ZnPg==\"/></div></span><span class=\"_2_R_DZ\"><span><span>150 Ratings </span><span class=\"_13vcmD\">&amp;</span><span> 16 Reviews</span></span></span></div><div class=\"fMghEO\"><ul class=\"_1xgFaf\"><li class=\"rgWa7D\">Intel Core i7 Processor (11th Gen)</li><li class=\"rgWa7D\">16 GB DDR4 RAM</li><li class=\"rgWa7D\">Windows 11 Operating System</li><li class=\"rgWa7D\">1 TB HDD|256 GB SSD</li><li class=\"rgWa7D\">39.62 cm (15.6 Inch) Display</li><li class=\"rgWa7D\">2 Year Carry-in Warranty</li></ul></div></div><div class=\"col col-5-12 nlI3QM\"><div class=\"_3tbKJL\"><div class=\"_25b18c\"><div class=\"_30jeq3 _1_WHN1\">₹59,990</div><div class=\"_3I9_wc _27UcVY\">₹<!-- -->81,990</div><div class=\"_3Ay6Sb\"><span>26% off</span></div></div></div><div class=\"_13J9qT\"><img height=\"21\" src=\"//static-assets-web.flixcart.com/fk-p-linchpin-web/fk-cp-zion/img/fa_62673a.png\"/></div></div></div></a></div></div></div></div><div class=\"_1AtVbE col-12-12\"><div class=\"_13oc-S\"><div data-id=\"COMGRDC8JB73D8J7\" style=\"width:100%\"><div class=\"_2kHMtA\"><a class=\"_1fQZEK\" href=\"/msi-gf63-intel-core-i5-11th-gen-11260h-16-gb-1-tb-hdd-256-gb-ssd-windows-11-home-4-graphics-nvidia-geforce-rtx-3050-144-hz-thin-11uc-1490in-gaming-laptop/p/itm8109da49f5792?pid=COMGRDC8JB73D8J7&amp;lid=LSTCOMGRDC8JB73D8J7K9Z33D&amp;marketplace=FLIPKART&amp;q=laptop&amp;store=6bo%2Fb5g&amp;srno=s_1_18&amp;otracker=search&amp;otracker1=search&amp;fm=organic&amp;iid=en_mviFbTLHjngwB8An8Mnh92PvvrALiZPbI7nqXBeIXhXUQVswNv6MxFZEVVMpyGML192tdnZ3Q-IE54ysjmpZIw%3D%3D&amp;ppt=None&amp;ppn=None&amp;ssid=l4naneugu80000001704164791461&amp;qH=312f91285e048e09\" rel=\"noopener noreferrer\" target=\"_blank\"><div class=\"MIXNux\"><div class=\"_2QcLo-\"><div><div class=\"CXW8mj\" style=\"height:200px;width:200px\"><img alt=\"MSI GF63 Intel Core i5 11th Gen 11260H - (16 GB/1 TB HDD/256 GB SSD/Windows 11 Home/4 GB Graphics/NVID...\" class=\"_396cs4\" loading=\"eager\" src=\"https://rukminim2.flixcart.com/image/312/312/xif0q/computer/a/d/f/-original-imags9wbywnpfgbz.jpeg?q=70\"/></div></div></div><div class=\"_3wLduG\"><div class=\"_3PzNI-\"><span class=\"f3A4_V\"><label class=\"_2iDkf8\"><input class=\"_30VH1S\" readonly=\"\" type=\"checkbox\"/><div class=\"_24_Dny\"></div></label></span><label class=\"_6Up2sF\"><span>Add to Compare</span></label></div></div><div class=\"_2hVSre _3nq8ih\"><div class=\"_36FSn5\"><svg class=\"_1l0elc\" height=\"16\" viewbox=\"0 0 20 16\" width=\"16\" xmlns=\"http://www.w3.org/2000/svg\"><path class=\"eX72wL\" d=\"M8.695 16.682C4.06 12.382 1 9.536 1 6.065 1 3.219 3.178 1 5.95 1c1.566 0 3.069.746 4.05 1.915C10.981 1.745 12.484 1 14.05 1 16.822 1 19 3.22 19 6.065c0 3.471-3.06 6.316-7.695 10.617L10 17.897l-1.305-1.215z\" fill=\"#2874F0\" fill-rule=\"evenodd\" opacity=\".9\" stroke=\"#FFF\"></path></svg></div></div></div><div class=\"_3pLy-c row\"><div class=\"col col-7-12\"><div class=\"_2tfzpE\"><span>Sponsored</span></div><div class=\"_4rR01T\">MSI GF63 Intel Core i5 11th Gen 11260H - (16 GB/1 TB HDD/256 GB SSD/Windows 11 Home/4 GB Graphics/NVID...</div><div class=\"gUuXy-\"><span class=\"_1lRcqv\" id=\"productRating_LSTCOMGRDC8JB73D8J7K9Z33D_COMGRDC8JB73D8J7_\"><div class=\"_3LWZlK\">4.3<img class=\"_1wB99o\" src=\"data:image/svg+xml;base64,PHN2ZyB4bWxucz0iaHR0cDovL3d3dy53My5vcmcvMjAwMC9zdmciIHdpZHRoPSIxMyIgaGVpZ2h0PSIxMiI+PHBhdGggZmlsbD0iI0ZGRiIgZD0iTTYuNSA5LjQzOWwtMy42NzQgMi4yMy45NC00LjI2LTMuMjEtMi44ODMgNC4yNTQtLjQwNEw2LjUuMTEybDEuNjkgNC4wMSA0LjI1NC40MDQtMy4yMSAyLjg4Mi45NCA0LjI2eiIvPjwvc3ZnPg==\"/></div></span><span class=\"_2_R_DZ\"><span><span>273 Ratings </span><span class=\"_13vcmD\">&amp;</span><span> 32 Reviews</span></span></span></div><div class=\"fMghEO\"><ul class=\"_1xgFaf\"><li class=\"rgWa7D\">Intel Core i5 Processor (11th Gen)</li><li class=\"rgWa7D\">16 GB DDR4 RAM</li><li class=\"rgWa7D\">Windows 11 Operating System</li><li class=\"rgWa7D\">1 TB HDD|256 GB SSD</li><li class=\"rgWa7D\">39.62 cm (15.6 Inch) Display</li><li class=\"rgWa7D\">2 Year Carry-in Warranty</li></ul></div></div><div class=\"col col-5-12 nlI3QM\"><div class=\"_3tbKJL\"><div class=\"_25b18c\"><div class=\"_30jeq3 _1_WHN1\">₹57,990</div><div class=\"_3I9_wc _27UcVY\">₹<!-- -->84,990</div><div class=\"_3Ay6Sb\"><span>31% off</span></div></div></div><div class=\"_13J9qT\"><img height=\"21\" src=\"//static-assets-web.flixcart.com/fk-p-linchpin-web/fk-cp-zion/img/fa_62673a.png\"/></div></div></div></a></div></div></div></div><div class=\"_1AtVbE col-12-12\"><div class=\"_13oc-S\"><div data-id=\"COMGSV58NSJBF6JK\" style=\"width:100%\"><div class=\"_2kHMtA\"><a class=\"_1fQZEK\" href=\"/asus-vivobook-go-14-intel-celeron-dual-core-n4500-8-gb-256-gb-ssd-windows-11-home-e410ka-ek013w-thin-light-laptop/p/itmae536e3b5063e?pid=COMGSV58NSJBF6JK&amp;lid=LSTCOMGSV58NSJBF6JKUERG1Z&amp;marketplace=FLIPKART&amp;q=laptop&amp;store=6bo%2Fb5g&amp;srno=s_1_19&amp;otracker=search&amp;otracker1=search&amp;fm=organic&amp;iid=fcaf6c3c-b989-4e56-81b9-ec38dd9a8317.COMGSV58NSJBF6JK.SEARCH&amp;ppt=None&amp;ppn=None&amp;ssid=l4naneugu80000001704164791461&amp;qH=312f91285e048e09\" rel=\"noopener noreferrer\" target=\"_blank\"><div class=\"MIXNux\"><div class=\"_2QcLo-\"><div><div class=\"CXW8mj\" style=\"height:200px;width:200px\"><img alt=\"ASUS Vivobook Go 14 Intel Celeron Dual Core N4500 - (8 GB/256 GB SSD/Windows 11 Home) E410KA-EK013W Th...\" class=\"_396cs4\" loading=\"eager\" src=\"https://rukminim2.flixcart.com/image/312/312/xif0q/computer/t/w/i/-original-imagtvq2bmuazhsq.jpeg?q=70\"/></div></div></div><div class=\"_3wLduG\"><div class=\"_3PzNI-\"><span class=\"f3A4_V\"><label class=\"_2iDkf8\"><input class=\"_30VH1S\" readonly=\"\" type=\"checkbox\"/><div class=\"_24_Dny\"></div></label></span><label class=\"_6Up2sF\"><span>Add to Compare</span></label></div></div><div class=\"_2hVSre _3nq8ih\"><div class=\"_36FSn5\"><svg class=\"_1l0elc\" height=\"16\" viewbox=\"0 0 20 16\" width=\"16\" xmlns=\"http://www.w3.org/2000/svg\"><path class=\"eX72wL\" d=\"M8.695 16.682C4.06 12.382 1 9.536 1 6.065 1 3.219 3.178 1 5.95 1c1.566 0 3.069.746 4.05 1.915C10.981 1.745 12.484 1 14.05 1 16.822 1 19 3.22 19 6.065c0 3.471-3.06 6.316-7.695 10.617L10 17.897l-1.305-1.215z\" fill=\"#2874F0\" fill-rule=\"evenodd\" opacity=\".9\" stroke=\"#FFF\"></path></svg></div></div></div><div class=\"_3pLy-c row\"><div class=\"col col-7-12\"><div class=\"_4rR01T\">ASUS Vivobook Go 14 Intel Celeron Dual Core N4500 - (8 GB/256 GB SSD/Windows 11 Home) E410KA-EK013W Th...</div><div class=\"gUuXy-\"><span class=\"_1lRcqv\" id=\"productRating_LSTCOMGSV58NSJBF6JKUERG1Z_COMGSV58NSJBF6JK_\"><div class=\"_3LWZlK\">4.3<img class=\"_1wB99o\" src=\"data:image/svg+xml;base64,PHN2ZyB4bWxucz0iaHR0cDovL3d3dy53My5vcmcvMjAwMC9zdmciIHdpZHRoPSIxMyIgaGVpZ2h0PSIxMiI+PHBhdGggZmlsbD0iI0ZGRiIgZD0iTTYuNSA5LjQzOWwtMy42NzQgMi4yMy45NC00LjI2LTMuMjEtMi44ODMgNC4yNTQtLjQwNEw2LjUuMTEybDEuNjkgNC4wMSA0LjI1NC40MDQtMy4yMSAyLjg4Mi45NCA0LjI2eiIvPjwvc3ZnPg==\"/></div></span><span class=\"_2_R_DZ\"><span><span>75 Ratings </span><span class=\"_13vcmD\">&amp;</span><span> 2 Reviews</span></span></span></div><div class=\"fMghEO\"><ul class=\"_1xgFaf\"><li class=\"rgWa7D\">Intel Celeron Dual Core Processor</li><li class=\"rgWa7D\">8 GB DDR4 RAM</li><li class=\"rgWa7D\">Windows 11 Operating System</li><li class=\"rgWa7D\">256 GB SSD</li><li class=\"rgWa7D\">35.56 cm (14 inch) Display</li><li class=\"rgWa7D\">1 Year Onsite Warranty</li></ul></div></div><div class=\"col col-5-12 nlI3QM\"><div class=\"_3tbKJL\"><div class=\"_25b18c\"><div class=\"_30jeq3 _1_WHN1\">₹23,990</div><div class=\"_3I9_wc _27UcVY\">₹<!-- -->36,990</div><div class=\"_3Ay6Sb\"><span>35% off</span></div></div></div><div class=\"_13J9qT\"><img height=\"21\" src=\"//static-assets-web.flixcart.com/fk-p-linchpin-web/fk-cp-zion/img/fa_62673a.png\"/></div></div></div></a></div></div></div></div><div class=\"_1AtVbE col-12-12\"><div class=\"_13oc-S\"><div data-id=\"COMGJ75HJGFDJ6JN\" style=\"width:100%\"><div class=\"_2kHMtA\"><a class=\"_1fQZEK\" href=\"/dell-intel-core-i3-12th-gen-1215u-8-gb-512-gb-ssd-windows-11-home-new-inspiron-15-laptop-thin-light/p/itm2d6ee1804748f?pid=COMGJ75HJGFDJ6JN&amp;lid=LSTCOMGJ75HJGFDJ6JNT8WWSZ&amp;marketplace=FLIPKART&amp;q=laptop&amp;store=6bo%2Fb5g&amp;srno=s_1_20&amp;otracker=search&amp;otracker1=search&amp;fm=organic&amp;iid=fcaf6c3c-b989-4e56-81b9-ec38dd9a8317.COMGJ75HJGFDJ6JN.SEARCH&amp;ppt=None&amp;ppn=None&amp;ssid=l4naneugu80000001704164791461&amp;qH=312f91285e048e09\" rel=\"noopener noreferrer\" target=\"_blank\"><div class=\"MIXNux\"><div class=\"_2QcLo-\"><div><div class=\"CXW8mj\" style=\"height:200px;width:200px\"><img alt=\"DELL Intel Core i3 12th Gen 1215U - (8 GB/512 GB SSD/Windows 11 Home) New Inspiron 15 Laptop Thin and ...\" class=\"_396cs4\" loading=\"eager\" src=\"https://rukminim2.flixcart.com/image/312/312/l1fc0i80/computer/9/5/r/inspiron-3525-thin-and-light-laptop-dell-original-imagczzfezyd7tqs.jpeg?q=70\"/></div></div></div><div class=\"_3wLduG\"><div class=\"_3PzNI-\"><span class=\"f3A4_V\"><label class=\"_2iDkf8\"><input class=\"_30VH1S\" readonly=\"\" type=\"checkbox\"/><div class=\"_24_Dny\"></div></label></span><label class=\"_6Up2sF\"><span>Add to Compare</span></label></div></div><div class=\"_2hVSre _3nq8ih\"><div class=\"_36FSn5\"><svg class=\"_1l0elc\" height=\"16\" viewbox=\"0 0 20 16\" width=\"16\" xmlns=\"http://www.w3.org/2000/svg\"><path class=\"eX72wL\" d=\"M8.695 16.682C4.06 12.382 1 9.536 1 6.065 1 3.219 3.178 1 5.95 1c1.566 0 3.069.746 4.05 1.915C10.981 1.745 12.484 1 14.05 1 16.822 1 19 3.22 19 6.065c0 3.471-3.06 6.316-7.695 10.617L10 17.897l-1.305-1.215z\" fill=\"#2874F0\" fill-rule=\"evenodd\" opacity=\".9\" stroke=\"#FFF\"></path></svg></div></div></div><div class=\"_3pLy-c row\"><div class=\"col col-7-12\"><div class=\"_4rR01T\">DELL Intel Core i3 12th Gen 1215U - (8 GB/512 GB SSD/Windows 11 Home) New Inspiron 15 Laptop Thin and ...</div><div class=\"gUuXy-\"><span class=\"_1lRcqv\" id=\"productRating_LSTCOMGJ75HJGFDJ6JNT8WWSZ_COMGJ75HJGFDJ6JN_\"><div class=\"_3LWZlK\">4.2<img class=\"_1wB99o\" src=\"data:image/svg+xml;base64,PHN2ZyB4bWxucz0iaHR0cDovL3d3dy53My5vcmcvMjAwMC9zdmciIHdpZHRoPSIxMyIgaGVpZ2h0PSIxMiI+PHBhdGggZmlsbD0iI0ZGRiIgZD0iTTYuNSA5LjQzOWwtMy42NzQgMi4yMy45NC00LjI2LTMuMjEtMi44ODMgNC4yNTQtLjQwNEw2LjUuMTEybDEuNjkgNC4wMSA0LjI1NC40MDQtMy4yMSAyLjg4Mi45NCA0LjI2eiIvPjwvc3ZnPg==\"/></div></span><span class=\"_2_R_DZ\"><span><span>318 Ratings </span><span class=\"_13vcmD\">&amp;</span><span> 30 Reviews</span></span></span></div><div class=\"fMghEO\"><ul class=\"_1xgFaf\"><li class=\"rgWa7D\">Intel Core i3 Processor (12th Gen)</li><li class=\"rgWa7D\">8 GB DDR4 RAM</li><li class=\"rgWa7D\">64 bit Windows 11 Operating System</li><li class=\"rgWa7D\">512 GB SSD</li><li class=\"rgWa7D\">39.62 cm (15.6 Inch) Display</li><li class=\"rgWa7D\">1 Year Onsite Hardware Service</li></ul></div></div><div class=\"col col-5-12 nlI3QM\"><div class=\"_3tbKJL\"><div class=\"_25b18c\"><div class=\"_30jeq3 _1_WHN1\">₹38,480</div><div class=\"_3I9_wc _27UcVY\">₹<!-- -->62,561</div><div class=\"_3Ay6Sb\"><span>38% off</span></div></div></div><div class=\"_13J9qT\"><img height=\"21\" src=\"//static-assets-web.flixcart.com/fk-p-linchpin-web/fk-cp-zion/img/fa_62673a.png\"/></div></div></div></a></div></div></div></div><div class=\"_1AtVbE col-12-12\"><div class=\"_13oc-S\"><div data-id=\"COMGZ5F34DHNDHHF\" style=\"width:100%\"><div class=\"_2kHMtA\"><a class=\"_1fQZEK\" href=\"/msi-gf63-intel-core-i5-12th-gen-12450h-16-gb-1-tb-hdd-256-gb-ssd-windows-11-home-8-graphics-nvidia-geforce-rtx-4060-144-hz-thin-12vf-268in-gaming-laptop/p/itm94409e5003359?pid=COMGZ5F34DHNDHHF&amp;lid=LSTCOMGZ5F34DHNDHHFLMWZXW&amp;marketplace=FLIPKART&amp;q=laptop&amp;store=6bo%2Fb5g&amp;srno=s_1_21&amp;otracker=search&amp;otracker1=search&amp;fm=organic&amp;iid=en_mviFbTLHjngwB8An8Mnh92PvvrALiZPbI7nqXBeIXhWtlG3tXptBteTZy89ra3PJuN7pObcmPKcUMCrTlzyi-g%3D%3D&amp;ppt=None&amp;ppn=None&amp;ssid=l4naneugu80000001704164791461&amp;qH=312f91285e048e09\" rel=\"noopener noreferrer\" target=\"_blank\"><div class=\"MIXNux\"><div class=\"_2QcLo-\"><div><div class=\"CXW8mj\" style=\"height:200px;width:200px\"><img alt=\"MSI GF63 Intel Core i5 12th Gen 12450H - (16 GB/1 TB HDD/256 GB SSD/Windows 11 Home/8 GB Graphics/NVID...\" class=\"_396cs4\" loading=\"eager\" src=\"https://rukminim2.flixcart.com/image/312/312/xif0q/computer/5/k/g/-original-imags9waxpfd8nsc.jpeg?q=70\"/></div></div></div><div class=\"_3wLduG\"><div class=\"_3PzNI-\"><span class=\"f3A4_V\"><label class=\"_2iDkf8\"><input class=\"_30VH1S\" readonly=\"\" type=\"checkbox\"/><div class=\"_24_Dny\"></div></label></span><label class=\"_6Up2sF\"><span>Add to Compare</span></label></div></div><div class=\"_2hVSre _3nq8ih\"><div class=\"_36FSn5\"><svg class=\"_1l0elc\" height=\"16\" viewbox=\"0 0 20 16\" width=\"16\" xmlns=\"http://www.w3.org/2000/svg\"><path class=\"eX72wL\" d=\"M8.695 16.682C4.06 12.382 1 9.536 1 6.065 1 3.219 3.178 1 5.95 1c1.566 0 3.069.746 4.05 1.915C10.981 1.745 12.484 1 14.05 1 16.822 1 19 3.22 19 6.065c0 3.471-3.06 6.316-7.695 10.617L10 17.897l-1.305-1.215z\" fill=\"#2874F0\" fill-rule=\"evenodd\" opacity=\".9\" stroke=\"#FFF\"></path></svg></div></div></div><div class=\"_3pLy-c row\"><div class=\"col col-7-12\"><div class=\"_2tfzpE\"><span>Sponsored</span></div><div class=\"_4rR01T\">MSI GF63 Intel Core i5 12th Gen 12450H - (16 GB/1 TB HDD/256 GB SSD/Windows 11 Home/8 GB Graphics/NVID...</div><div class=\"gUuXy-\"><span class=\"_1lRcqv\" id=\"productRating_LSTCOMGZ5F34DHNDHHFLMWZXW_COMGZ5F34DHNDHHF_\"><div class=\"_3LWZlK\">4.3<img class=\"_1wB99o\" src=\"data:image/svg+xml;base64,PHN2ZyB4bWxucz0iaHR0cDovL3d3dy53My5vcmcvMjAwMC9zdmciIHdpZHRoPSIxMyIgaGVpZ2h0PSIxMiI+PHBhdGggZmlsbD0iI0ZGRiIgZD0iTTYuNSA5LjQzOWwtMy42NzQgMi4yMy45NC00LjI2LTMuMjEtMi44ODMgNC4yNTQtLjQwNEw2LjUuMTEybDEuNjkgNC4wMSA0LjI1NC40MDQtMy4yMSAyLjg4Mi45NCA0LjI2eiIvPjwvc3ZnPg==\"/></div></span><span class=\"_2_R_DZ\"><span><span>55 Ratings </span><span class=\"_13vcmD\">&amp;</span><span> 9 Reviews</span></span></span></div><div class=\"fMghEO\"><ul class=\"_1xgFaf\"><li class=\"rgWa7D\">Intel Core i5 Processor (12th Gen)</li><li class=\"rgWa7D\">16 GB DDR4 RAM</li><li class=\"rgWa7D\">Windows 11 Operating System</li><li class=\"rgWa7D\">1 TB HDD|256 GB SSD</li><li class=\"rgWa7D\">39.62 cm (15.6 Inch) Display</li><li class=\"rgWa7D\">2 Year Carry-in Warranty</li></ul></div></div><div class=\"col col-5-12 nlI3QM\"><div class=\"_3tbKJL\"><div class=\"_25b18c\"><div class=\"_30jeq3 _1_WHN1\">₹86,990</div><div class=\"_3I9_wc _27UcVY\">₹<!-- -->1,11,990</div><div class=\"_3Ay6Sb\"><span>22% off</span></div></div></div><div class=\"_13J9qT\"><img height=\"21\" src=\"//static-assets-web.flixcart.com/fk-p-linchpin-web/fk-cp-zion/img/fa_62673a.png\"/></div></div></div></a></div></div></div></div><div class=\"_1AtVbE col-12-12\"><div class=\"_13oc-S\"><div data-id=\"COMGTWHYTHH93XPZ\" style=\"width:100%\"><div class=\"_2kHMtA\"><a class=\"_1fQZEK\" href=\"/msi-intel-core-i5-12th-gen-12450h-16-gb-512-gb-ssd-windows-11-home-6-graphics-nvidia-geforce-rtx-4050-thin-gf63-12ve-071in-gaming-laptop/p/itme11f9b16d2c8d?pid=COMGTWHYTHH93XPZ&amp;lid=LSTCOMGTWHYTHH93XPZDFGQVD&amp;marketplace=FLIPKART&amp;q=laptop&amp;store=6bo%2Fb5g&amp;srno=s_1_22&amp;otracker=search&amp;otracker1=search&amp;fm=organic&amp;iid=en_mviFbTLHjngwB8An8Mnh92PvvrALiZPbI7nqXBeIXhXnUkCIEKqdlL2uyqGWBct6k2rWo3e5I0FlFNmKfQJ_lA%3D%3D&amp;ppt=None&amp;ppn=None&amp;ssid=l4naneugu80000001704164791461&amp;qH=312f91285e048e09\" rel=\"noopener noreferrer\" target=\"_blank\"><div class=\"MIXNux\"><div class=\"_2QcLo-\"><div><div class=\"CXW8mj\" style=\"height:200px;width:200px\"><img alt=\"MSI Intel Core i5 12th Gen 12450H - (16 GB/512 GB SSD/Windows 11 Home/6 GB Graphics/NVIDIA GeForce RTX...\" class=\"_396cs4\" loading=\"eager\" src=\"https://rukminim2.flixcart.com/image/312/312/xif0q/computer/5/k/g/-original-imags9waxpfd8nsc.jpeg?q=70\"/></div></div></div><div class=\"_3wLduG\"><div class=\"_3PzNI-\"><span class=\"f3A4_V\"><label class=\"_2iDkf8\"><input class=\"_30VH1S\" readonly=\"\" type=\"checkbox\"/><div class=\"_24_Dny\"></div></label></span><label class=\"_6Up2sF\"><span>Add to Compare</span></label></div></div><div class=\"_2hVSre _3nq8ih\"><div class=\"_36FSn5\"><svg class=\"_1l0elc\" height=\"16\" viewbox=\"0 0 20 16\" width=\"16\" xmlns=\"http://www.w3.org/2000/svg\"><path class=\"eX72wL\" d=\"M8.695 16.682C4.06 12.382 1 9.536 1 6.065 1 3.219 3.178 1 5.95 1c1.566 0 3.069.746 4.05 1.915C10.981 1.745 12.484 1 14.05 1 16.822 1 19 3.22 19 6.065c0 3.471-3.06 6.316-7.695 10.617L10 17.897l-1.305-1.215z\" fill=\"#2874F0\" fill-rule=\"evenodd\" opacity=\".9\" stroke=\"#FFF\"></path></svg></div></div></div><div class=\"_3pLy-c row\"><div class=\"col col-7-12\"><div class=\"_2tfzpE\"><span>Sponsored</span></div><div class=\"_4rR01T\">MSI Intel Core i5 12th Gen 12450H - (16 GB/512 GB SSD/Windows 11 Home/6 GB Graphics/NVIDIA GeForce RTX...</div><div class=\"gUuXy-\"><span class=\"_1lRcqv\" id=\"productRating_LSTCOMGTWHYTHH93XPZDFGQVD_COMGTWHYTHH93XPZ_\"><div class=\"_3LWZlK\">3.6<img class=\"_1wB99o\" src=\"data:image/svg+xml;base64,PHN2ZyB4bWxucz0iaHR0cDovL3d3dy53My5vcmcvMjAwMC9zdmciIHdpZHRoPSIxMyIgaGVpZ2h0PSIxMiI+PHBhdGggZmlsbD0iI0ZGRiIgZD0iTTYuNSA5LjQzOWwtMy42NzQgMi4yMy45NC00LjI2LTMuMjEtMi44ODMgNC4yNTQtLjQwNEw2LjUuMTEybDEuNjkgNC4wMSA0LjI1NC40MDQtMy4yMSAyLjg4Mi45NCA0LjI2eiIvPjwvc3ZnPg==\"/></div></span><span class=\"_2_R_DZ\"><span><span>5 Ratings </span><span class=\"_13vcmD\">&amp;</span><span> 1 Reviews</span></span></span></div><div class=\"fMghEO\"><ul class=\"_1xgFaf\"><li class=\"rgWa7D\">Intel Core i5 Processor (12th Gen)</li><li class=\"rgWa7D\">16 GB DDR4 RAM</li><li class=\"rgWa7D\">Windows 11 Operating System</li><li class=\"rgWa7D\">512 GB SSD</li><li class=\"rgWa7D\">39.62 cm (15.6 Inch) Display</li><li class=\"rgWa7D\">2 Year Carry-in Warranty</li></ul></div></div><div class=\"col col-5-12 nlI3QM\"><div class=\"_3tbKJL\"><div class=\"_25b18c\"><div class=\"_30jeq3 _1_WHN1\">₹69,990</div><div class=\"_3I9_wc _27UcVY\">₹<!-- -->1,14,990</div><div class=\"_3Ay6Sb\"><span>39% off</span></div></div></div></div></div></a></div></div></div></div><div class=\"_1AtVbE col-12-12\"><div class=\"_13oc-S\"><div data-id=\"COMGFRHGDB9G3Z9C\" style=\"width:100%\"><div class=\"_2kHMtA\"><a class=\"_1fQZEK\" href=\"/hp-amd-ryzen-5-hexa-core-5500u-16-gb-512-gb-ssd-windows-11-home-15s-eq2182au-thin-light-laptop/p/itm2f070129053ed?pid=COMGFRHGDB9G3Z9C&amp;lid=LSTCOMGFRHGDB9G3Z9C66OVH5&amp;marketplace=FLIPKART&amp;q=laptop&amp;store=6bo%2Fb5g&amp;srno=s_1_23&amp;otracker=search&amp;otracker1=search&amp;fm=organic&amp;iid=fcaf6c3c-b989-4e56-81b9-ec38dd9a8317.COMGFRHGDB9G3Z9C.SEARCH&amp;ppt=None&amp;ppn=None&amp;ssid=l4naneugu80000001704164791461&amp;qH=312f91285e048e09\" rel=\"noopener noreferrer\" target=\"_blank\"><div class=\"MIXNux\"><div class=\"_2QcLo-\"><div><div class=\"CXW8mj\" style=\"height:200px;width:200px\"><img alt=\"HP AMD Ryzen 5 Hexa Core 5500U - (16 GB/512 GB SSD/Windows 11 Home) 15s- eq2182AU Thin and Light Lapto...\" class=\"_396cs4\" loading=\"eager\" src=\"https://rukminim2.flixcart.com/image/312/312/xif0q/computer/n/t/2/-original-imagwy8dwfbsjzgu.jpeg?q=70\"/></div></div></div><div class=\"_3wLduG\"><div class=\"_3PzNI-\"><span class=\"f3A4_V\"><label class=\"_2iDkf8\"><input class=\"_30VH1S\" readonly=\"\" type=\"checkbox\"/><div class=\"_24_Dny\"></div></label></span><label class=\"_6Up2sF\"><span>Add to Compare</span></label></div></div><div class=\"_2hVSre _3nq8ih\"><div class=\"_36FSn5\"><svg class=\"_1l0elc\" height=\"16\" viewbox=\"0 0 20 16\" width=\"16\" xmlns=\"http://www.w3.org/2000/svg\"><path class=\"eX72wL\" d=\"M8.695 16.682C4.06 12.382 1 9.536 1 6.065 1 3.219 3.178 1 5.95 1c1.566 0 3.069.746 4.05 1.915C10.981 1.745 12.484 1 14.05 1 16.822 1 19 3.22 19 6.065c0 3.471-3.06 6.316-7.695 10.617L10 17.897l-1.305-1.215z\" fill=\"#2874F0\" fill-rule=\"evenodd\" opacity=\".9\" stroke=\"#FFF\"></path></svg></div></div></div><div class=\"_3pLy-c row\"><div class=\"col col-7-12\"><div class=\"_4rR01T\">HP AMD Ryzen 5 Hexa Core 5500U - (16 GB/512 GB SSD/Windows 11 Home) 15s- eq2182AU Thin and Light Lapto...</div><div class=\"gUuXy-\"><span class=\"_1lRcqv\" id=\"productRating_LSTCOMGFRHGDB9G3Z9C66OVH5_COMGFRHGDB9G3Z9C_\"><div class=\"_3LWZlK\">4.3<img class=\"_1wB99o\" src=\"data:image/svg+xml;base64,PHN2ZyB4bWxucz0iaHR0cDovL3d3dy53My5vcmcvMjAwMC9zdmciIHdpZHRoPSIxMyIgaGVpZ2h0PSIxMiI+PHBhdGggZmlsbD0iI0ZGRiIgZD0iTTYuNSA5LjQzOWwtMy42NzQgMi4yMy45NC00LjI2LTMuMjEtMi44ODMgNC4yNTQtLjQwNEw2LjUuMTEybDEuNjkgNC4wMSA0LjI1NC40MDQtMy4yMSAyLjg4Mi45NCA0LjI2eiIvPjwvc3ZnPg==\"/></div></span><span class=\"_2_R_DZ\"><span><span>2,391 Ratings </span><span class=\"_13vcmD\">&amp;</span><span> 206 Reviews</span></span></span></div><div class=\"fMghEO\"><ul class=\"_1xgFaf\"><li class=\"rgWa7D\">AMD Ryzen 5 Hexa Core Processor</li><li class=\"rgWa7D\">16 GB DDR4 RAM</li><li class=\"rgWa7D\">64 bit Windows 11 Operating System</li><li class=\"rgWa7D\">512 GB SSD</li><li class=\"rgWa7D\">39.62 cm (15.6 Inch) Display</li><li class=\"rgWa7D\">Microsoft Office 2021 Home &amp; Student, HP Documentation, HP BIOS recovery, HP Smart</li><li class=\"rgWa7D\">1 Year Onsite Warranty</li></ul></div></div><div class=\"col col-5-12 nlI3QM\"><div class=\"_3tbKJL\"><div class=\"_25b18c\"><div class=\"_30jeq3 _1_WHN1\">₹46,490</div><div class=\"_3I9_wc _27UcVY\">₹<!-- -->59,109</div><div class=\"_3Ay6Sb\"><span>21% off</span></div></div></div><div class=\"_13J9qT\"><img height=\"21\" src=\"//static-assets-web.flixcart.com/fk-p-linchpin-web/fk-cp-zion/img/fa_62673a.png\"/></div></div></div></a></div></div></div></div><div class=\"_1AtVbE col-12-12\"><div class=\"_13oc-S\"><div data-id=\"COMGR9HYHV3BW2J9\" style=\"width:100%\"><div class=\"_2kHMtA\"><a class=\"_1fQZEK\" href=\"/acer-nitro-5-intel-core-i5-12th-gen-12450h-8-gb-512-gb-ssd-windows-11-home-4-graphics-nvidia-geforce-rtx-3050-an515-58-59jp-gaming-laptop/p/itm16655451d92a2?pid=COMGR9HYHV3BW2J9&amp;lid=LSTCOMGR9HYHV3BW2J95FMATH&amp;marketplace=FLIPKART&amp;q=laptop&amp;store=6bo%2Fb5g&amp;srno=s_1_24&amp;otracker=search&amp;otracker1=search&amp;fm=organic&amp;iid=fcaf6c3c-b989-4e56-81b9-ec38dd9a8317.COMGR9HYHV3BW2J9.SEARCH&amp;ppt=None&amp;ppn=None&amp;ssid=l4naneugu80000001704164791461&amp;qH=312f91285e048e09\" rel=\"noopener noreferrer\" target=\"_blank\"><div class=\"MIXNux\"><div class=\"_2QcLo-\"><div><div class=\"CXW8mj\" style=\"height:200px;width:200px\"><img alt=\"Acer Nitro 5 Intel Core i5 12th Gen 12450H - (8 GB/512 GB SSD/Windows 11 Home/4 GB Graphics/NVIDIA GeF...\" class=\"_396cs4\" loading=\"eager\" src=\"https://rukminim2.flixcart.com/image/312/312/l1mh7rk0/computer/u/r/m/an515-58-gaming-laptop-acer-original-imagd5zzqqpngwmz.jpeg?q=70\"/></div></div></div><div class=\"_3wLduG\"><div class=\"_3PzNI-\"><span class=\"f3A4_V\"><label class=\"_2iDkf8\"><input class=\"_30VH1S\" readonly=\"\" type=\"checkbox\"/><div class=\"_24_Dny\"></div></label></span><label class=\"_6Up2sF\"><span>Add to Compare</span></label></div></div><div class=\"_2hVSre _3nq8ih\"><div class=\"_36FSn5\"><svg class=\"_1l0elc\" height=\"16\" viewbox=\"0 0 20 16\" width=\"16\" xmlns=\"http://www.w3.org/2000/svg\"><path class=\"eX72wL\" d=\"M8.695 16.682C4.06 12.382 1 9.536 1 6.065 1 3.219 3.178 1 5.95 1c1.566 0 3.069.746 4.05 1.915C10.981 1.745 12.484 1 14.05 1 16.822 1 19 3.22 19 6.065c0 3.471-3.06 6.316-7.695 10.617L10 17.897l-1.305-1.215z\" fill=\"#2874F0\" fill-rule=\"evenodd\" opacity=\".9\" stroke=\"#FFF\"></path></svg></div></div></div><div class=\"_3pLy-c row\"><div class=\"col col-7-12\"><div class=\"_4rR01T\">Acer Nitro 5 Intel Core i5 12th Gen 12450H - (8 GB/512 GB SSD/Windows 11 Home/4 GB Graphics/NVIDIA GeF...</div><div class=\"gUuXy-\"><span class=\"_1lRcqv\" id=\"productRating_LSTCOMGR9HYHV3BW2J95FMATH_COMGR9HYHV3BW2J9_\"><div class=\"_3LWZlK\">4.3<img class=\"_1wB99o\" src=\"data:image/svg+xml;base64,PHN2ZyB4bWxucz0iaHR0cDovL3d3dy53My5vcmcvMjAwMC9zdmciIHdpZHRoPSIxMyIgaGVpZ2h0PSIxMiI+PHBhdGggZmlsbD0iI0ZGRiIgZD0iTTYuNSA5LjQzOWwtMy42NzQgMi4yMy45NC00LjI2LTMuMjEtMi44ODMgNC4yNTQtLjQwNEw2LjUuMTEybDEuNjkgNC4wMSA0LjI1NC40MDQtMy4yMSAyLjg4Mi45NCA0LjI2eiIvPjwvc3ZnPg==\"/></div></span><span class=\"_2_R_DZ\"><span><span>493 Ratings </span><span class=\"_13vcmD\">&amp;</span><span> 47 Reviews</span></span></span></div><div class=\"fMghEO\"><ul class=\"_1xgFaf\"><li class=\"rgWa7D\">Intel Core i5 Processor (12th Gen)</li><li class=\"rgWa7D\">8 GB DDR4 RAM</li><li class=\"rgWa7D\">64 bit Windows 11 Operating System</li><li class=\"rgWa7D\">512 GB SSD</li><li class=\"rgWa7D\">39.62 cm (15.6 inch) Display</li><li class=\"rgWa7D\">Acer Care Center, Acer Product Registration, NitroSense</li><li class=\"rgWa7D\">1 Year International Travelers Warranty (ITW)</li></ul></div></div><div class=\"col col-5-12 nlI3QM\"><div class=\"_3tbKJL\"><div class=\"_25b18c\"><div class=\"_30jeq3 _1_WHN1\">₹62,990</div><div class=\"_3I9_wc _27UcVY\">₹<!-- -->96,999</div><div class=\"_3Ay6Sb\"><span>35% off</span></div></div></div><div class=\"_13J9qT\"><img height=\"21\" src=\"//static-assets-web.flixcart.com/fk-p-linchpin-web/fk-cp-zion/img/fa_62673a.png\"/></div></div></div></a></div></div></div></div><div class=\"_1AtVbE col-12-12\"><div><div class=\"_2MImiq\"><span>Page 1 of 79</span><nav class=\"yFHi8N\"><a class=\"ge-49M _2Kfbh8\" href=\"/search?q=laptop&amp;otracker=search&amp;otracker1=search&amp;marketplace=FLIPKART&amp;as-show=on&amp;as=off&amp;page=1\">1</a><a class=\"ge-49M\" href=\"/search?q=laptop&amp;otracker=search&amp;otracker1=search&amp;marketplace=FLIPKART&amp;as-show=on&amp;as=off&amp;page=2\">2</a><a class=\"ge-49M\" href=\"/search?q=laptop&amp;otracker=search&amp;otracker1=search&amp;marketplace=FLIPKART&amp;as-show=on&amp;as=off&amp;page=3\">3</a><a class=\"ge-49M\" href=\"/search?q=laptop&amp;otracker=search&amp;otracker1=search&amp;marketplace=FLIPKART&amp;as-show=on&amp;as=off&amp;page=4\">4</a><a class=\"ge-49M\" href=\"/search?q=laptop&amp;otracker=search&amp;otracker1=search&amp;marketplace=FLIPKART&amp;as-show=on&amp;as=off&amp;page=5\">5</a><a class=\"ge-49M\" href=\"/search?q=laptop&amp;otracker=search&amp;otracker1=search&amp;marketplace=FLIPKART&amp;as-show=on&amp;as=off&amp;page=6\">6</a><a class=\"ge-49M\" href=\"/search?q=laptop&amp;otracker=search&amp;otracker1=search&amp;marketplace=FLIPKART&amp;as-show=on&amp;as=off&amp;page=7\">7</a><a class=\"ge-49M\" href=\"/search?q=laptop&amp;otracker=search&amp;otracker1=search&amp;marketplace=FLIPKART&amp;as-show=on&amp;as=off&amp;page=8\">8</a><a class=\"ge-49M\" href=\"/search?q=laptop&amp;otracker=search&amp;otracker1=search&amp;marketplace=FLIPKART&amp;as-show=on&amp;as=off&amp;page=9\">9</a><a class=\"ge-49M\" href=\"/search?q=laptop&amp;otracker=search&amp;otracker1=search&amp;marketplace=FLIPKART&amp;as-show=on&amp;as=off&amp;page=10\">10</a><a class=\"_1LKTO3\" href=\"/search?q=laptop&amp;otracker=search&amp;otracker1=search&amp;marketplace=FLIPKART&amp;as-show=on&amp;as=off&amp;page=2\"><span>Next</span></a></nav><span class=\"_22Tduf\"></span></div></div></div><div class=\"_1AtVbE col-12-12\" style=\"margin:10px 0px 0px 0px\"><div class=\"_1anD2T\"><span class=\"PTpXCl\">Did you find what you were looking for?</span><div class=\"_1ye8x2 _1xLf4B\"><span class=\"_2eFmU2 _3ZMjMT\">Yes</span><span class=\"_2eFmU2 _3ZMjMT\">No</span></div></div></div></div></div><div class=\"_1AtVbE col-12-12\" style=\"padding:16px 0px 0px 0px\"><div class=\"_3E8aIl X3IECw row\"><div class=\"_88-NUv\">Reviews for Popular Laptops</div><div class=\"_2nRPpA\"><div class=\"_1Ni40J\"><div class=\"_3hVUcF\"><div class=\"CXW8mj\" style=\"height:150px;width:150px\"><img alt=\"CHUWI Intel Core i3 10th Gen 1005G1 - (8 GB/512 GB SSD/Windows 11 Home) CoreBook X Grey Laptop\" class=\"_396cs4\" loading=\"lazy\" src=\"https://rukminim2.flixcart.com/image/300/300/xif0q/computer/n/b/l/corebook-x-laptop-chuwi-original-imagwkfspzdtns4j.jpeg?q=90\"/></div></div><div class=\"_1kLt05\"><a href=\"/chuwi-intel-core-i3-10th-gen-1005g1-8-gb-512-gb-ssd-windows-11-home-corebook-x-grey-laptop/p/itm60983f1093f2d?pid=COMGQHRQZSPVRDZE&amp;marketplace=FLIPKART\" rel=\"noopener noreferrer\" target=\"_blank\"><div class=\"_1W9f5C\"><div>1. CHUWI Intel Core i3 10th Ge...</div></div><div class=\"_3VDxyD\"><div class=\"_3LWZlK\">4.1<img class=\"_1wB99o\" src=\"data:image/svg+xml;base64,PHN2ZyB4bWxucz0iaHR0cDovL3d3dy53My5vcmcvMjAwMC9zdmciIHdpZHRoPSIxMyIgaGVpZ2h0PSIxMiI+PHBhdGggZmlsbD0iI0ZGRiIgZD0iTTYuNSA5LjQzOWwtMy42NzQgMi4yMy45NC00LjI2LTMuMjEtMi44ODMgNC4yNTQtLjQwNEw2LjUuMTEybDEuNjkgNC4wMSA0LjI1NC40MDQtMy4yMSAyLjg4Mi45NCA0LjI2eiIvPjwvc3ZnPg==\"/></div><span class=\"_34hpFu\"><span>803 Ratings</span><span><span class=\"_2oY1qB\">&amp;</span><span>146 Reviews</span></span></span></div><div class=\"_2wYYVP\"><div class=\"_25b18c\"><div class=\"_30jeq3 UMT9wN\">₹24,990</div><div class=\"_3Ay6Sb _2FuKQX\"><span>50% off</span></div></div></div></a><ul class=\"_1Sq2Fs\"><li class=\"_2OosNL\">Stylish, Thin and Portable Light Weight Laptop\n",
       "Processor: Intel Core i3-1005G1 (Base 1.20 GHz &amp; Turbo upto 3.40 GHz) 2 Cores\n",
       "RAM/Storage: 8GB DDR4, 512GB SSD\n",
       "Display: 14.0\" FHD 280 nits\n",
       "Touchpad: Larger Touchpad with easy control\n",
       "Keyboard: Chiclet keyboard keys</li><li class=\"_2OosNL\">Intel Core i3 Processor (10th Gen)</li><li class=\"_2OosNL\">8 GB DDR4 RAM</li></ul></div></div><div class=\"_2tzWk4\"><div class=\"_1A_Aux\">Most Helpful Review</div><div class=\"col\"><div class=\"col _2wzgFH _2cVXgz\"><div class=\"row\"><div class=\"_3LWZlK _1BLPMq\">5<img class=\"_1wB99o\" src=\"data:image/svg+xml;base64,PHN2ZyB4bWxucz0iaHR0cDovL3d3dy53My5vcmcvMjAwMC9zdmciIHdpZHRoPSIxMyIgaGVpZ2h0PSIxMiI+PHBhdGggZmlsbD0iI0ZGRiIgZD0iTTYuNSA5LjQzOWwtMy42NzQgMi4yMy45NC00LjI2LTMuMjEtMi44ODMgNC4yNTQtLjQwNEw2LjUuMTEybDEuNjkgNC4wMSA0LjI1NC40MDQtMy4yMSAyLjg4Mi45NCA0LjI2eiIvPjwvc3ZnPg==\"/></div><p class=\"_2-N8zT\">Perfect product!</p></div><div class=\"row\"><div class=\"t-ZTKy\"><div><div class=\"\">After 20 days of usage, I would say this is the very best laptop at this price range, In this same specification laptop price range is starts from 30K upto 5...</div><span class=\"_1BWGvX\"><span>Read full review</span></span></div></div></div><div class=\"row _3n8db9\"><div class=\"row\"><p class=\"_2sc7ZR _2V5EHH\">Vijay Customer</p><svg class=\"_2a1p_T\" height=\"14\" viewbox=\"0 0 12 12\" width=\"14\" xmlns=\"http://www.w3.org/2000/svg\"><g><circle cx=\"6\" cy=\"6\" fill=\"#878787\" r=\"6\"></circle><path d=\"M3 6l2 2 4-4\" fill=\"#878787\" stroke=\"#FFF\" stroke-width=\"1.5\"></path></g></svg><p class=\"_2mcZGG\" id=\"review-2a03e86a-3936-4382-a63f-0d53d26b365f\"><span>Certified Buyer</span></p><p class=\"_2sc7ZR\">4 months ago</p></div></div></div></div></div><div class=\"_2tzWk4\"><div class=\"_1A_Aux\">Recent Review</div><div class=\"col\"><div class=\"col _2wzgFH _2cVXgz\"><div class=\"row\"><div class=\"_3LWZlK _1BLPMq\">5<img class=\"_1wB99o\" src=\"data:image/svg+xml;base64,PHN2ZyB4bWxucz0iaHR0cDovL3d3dy53My5vcmcvMjAwMC9zdmciIHdpZHRoPSIxMyIgaGVpZ2h0PSIxMiI+PHBhdGggZmlsbD0iI0ZGRiIgZD0iTTYuNSA5LjQzOWwtMy42NzQgMi4yMy45NC00LjI2LTMuMjEtMi44ODMgNC4yNTQtLjQwNEw2LjUuMTEybDEuNjkgNC4wMSA0LjI1NC40MDQtMy4yMSAyLjg4Mi45NCA0LjI2eiIvPjwvc3ZnPg==\"/></div><p class=\"_2-N8zT\">Best in the market!</p></div><div class=\"row\"><div class=\"t-ZTKy\"><div><div class=\"\">Excellent value for money, laptop at such price point.</div><span class=\"_1H-bmy\"><span>Read full review</span></span></div></div></div><div class=\"row _3n8db9\"><div class=\"row\"><p class=\"_2sc7ZR _2V5EHH\">Atavullah Mohammed</p><svg class=\"_2a1p_T\" height=\"14\" viewbox=\"0 0 12 12\" width=\"14\" xmlns=\"http://www.w3.org/2000/svg\"><g><circle cx=\"6\" cy=\"6\" fill=\"#878787\" r=\"6\"></circle><path d=\"M3 6l2 2 4-4\" fill=\"#878787\" stroke=\"#FFF\" stroke-width=\"1.5\"></path></g></svg><p class=\"_2mcZGG\" id=\"review-a516db6e-5e7a-4c28-9439-232382ecf8bc\"><span>Certified Buyer</span></p><p class=\"_2sc7ZR\">2 days ago</p></div></div></div></div></div></div><div class=\"_2nRPpA\"><div class=\"_1Ni40J\"><div class=\"_3hVUcF\"><div class=\"CXW8mj\" style=\"height:150px;width:150px\"><img alt=\"MSI GF63 Intel Core i5 11th Gen 11260H - (16 GB/1 TB HDD/256 GB SSD/Windows 11 Home/4 GB Graphics/NVIDIA GeForce RTX 3050/144 Hz) GF63 Thin 11UC-1490IN Gaming Laptop\" class=\"_396cs4\" loading=\"lazy\" src=\"https://rukminim2.flixcart.com/image/300/300/xif0q/computer/a/d/f/-original-imags9wbywnpfgbz.jpeg?q=90\"/></div></div><div class=\"_1kLt05\"><a href=\"/msi-gf63-intel-core-i5-11th-gen-11260h-16-gb-1-tb-hdd-256-gb-ssd-windows-11-home-4-graphics-nvidia-geforce-rtx-3050-144-hz-thin-11uc-1490in-gaming-laptop/p/itm8109da49f5792?pid=COMGRDC8JB73D8J7&amp;marketplace=FLIPKART\" rel=\"noopener noreferrer\" target=\"_blank\"><div class=\"_1W9f5C\"><div>2. MSI GF63 Intel Core i5 11th...</div></div><div class=\"_3VDxyD\"><div class=\"_3LWZlK\">4.3<img class=\"_1wB99o\" src=\"data:image/svg+xml;base64,PHN2ZyB4bWxucz0iaHR0cDovL3d3dy53My5vcmcvMjAwMC9zdmciIHdpZHRoPSIxMyIgaGVpZ2h0PSIxMiI+PHBhdGggZmlsbD0iI0ZGRiIgZD0iTTYuNSA5LjQzOWwtMy42NzQgMi4yMy45NC00LjI2LTMuMjEtMi44ODMgNC4yNTQtLjQwNEw2LjUuMTEybDEuNjkgNC4wMSA0LjI1NC40MDQtMy4yMSAyLjg4Mi45NCA0LjI2eiIvPjwvc3ZnPg==\"/></div><span class=\"_34hpFu\"><span>273 Ratings</span><span><span class=\"_2oY1qB\">&amp;</span><span>32 Reviews</span></span></span></div><div class=\"_2wYYVP\"><div class=\"_25b18c\"><div class=\"_30jeq3 UMT9wN\">₹57,990</div><div class=\"_3Ay6Sb _2FuKQX\"><span>31% off</span></div></div></div></a><ul class=\"_1Sq2Fs\"><li class=\"_2OosNL\">Intel Core i5 Processor (11th Gen)</li><li class=\"_2OosNL\">16 GB DDR4 RAM</li><li class=\"_2OosNL\">Windows 11 Operating System</li></ul></div></div><div class=\"_2tzWk4\"><div class=\"_1A_Aux\">Most Helpful Review</div><div class=\"col\"><div class=\"col _2wzgFH _2cVXgz\"><div class=\"row\"><div class=\"_3LWZlK _1BLPMq\">4<img class=\"_1wB99o\" src=\"data:image/svg+xml;base64,PHN2ZyB4bWxucz0iaHR0cDovL3d3dy53My5vcmcvMjAwMC9zdmciIHdpZHRoPSIxMyIgaGVpZ2h0PSIxMiI+PHBhdGggZmlsbD0iI0ZGRiIgZD0iTTYuNSA5LjQzOWwtMy42NzQgMi4yMy45NC00LjI2LTMuMjEtMi44ODMgNC4yNTQtLjQwNEw2LjUuMTEybDEuNjkgNC4wMSA0LjI1NC40MDQtMy4yMSAyLjg4Mi45NCA0LjI2eiIvPjwvc3ZnPg==\"/></div><p class=\"_2-N8zT\">Good choice</p></div><div class=\"row\"><div class=\"t-ZTKy\"><div><div class=\"\">An Amazing machine ! Let's get started : <br/>Pros : <br/>1) The most light weight extremely with high performing gaming laptop! You will not find any gaming laptop ...</div><span class=\"_1BWGvX\"><span>Read full review</span></span></div></div></div><div class=\"row _3n8db9\"><div class=\"row\"><p class=\"_2sc7ZR _2V5EHH\">Rayan  Malik</p><svg class=\"_2a1p_T\" height=\"14\" viewbox=\"0 0 12 12\" width=\"14\" xmlns=\"http://www.w3.org/2000/svg\"><g><circle cx=\"6\" cy=\"6\" fill=\"#878787\" r=\"6\"></circle><path d=\"M3 6l2 2 4-4\" fill=\"#878787\" stroke=\"#FFF\" stroke-width=\"1.5\"></path></g></svg><p class=\"_2mcZGG\" id=\"review-b479850f-eb01-46a0-adc9-c5db7dbb5d11\"><span>Certified Buyer</span></p><p class=\"_2sc7ZR\">2 months ago</p></div></div></div></div></div><div class=\"_2tzWk4\"><div class=\"_1A_Aux\">Recent Review</div><div class=\"col\"><div class=\"col _2wzgFH _2cVXgz\"><div class=\"row\"><div class=\"_3LWZlK _1BLPMq\">5<img class=\"_1wB99o\" src=\"data:image/svg+xml;base64,PHN2ZyB4bWxucz0iaHR0cDovL3d3dy53My5vcmcvMjAwMC9zdmciIHdpZHRoPSIxMyIgaGVpZ2h0PSIxMiI+PHBhdGggZmlsbD0iI0ZGRiIgZD0iTTYuNSA5LjQzOWwtMy42NzQgMi4yMy45NC00LjI2LTMuMjEtMi44ODMgNC4yNTQtLjQwNEw2LjUuMTEybDEuNjkgNC4wMSA0LjI1NC40MDQtMy4yMSAyLjg4Mi45NCA0LjI2eiIvPjwvc3ZnPg==\"/></div><p class=\"_2-N8zT\">Perfect product!</p></div><div class=\"row\"><div class=\"t-ZTKy\"><div><div class=\"\">This is a monster. Very good performance for very less price.. Played forza, mk11, fifa23 and gta5 with high settings..only issue is battery is not that good...</div><span class=\"_1BWGvX\"><span>Read full review</span></span></div></div></div><div class=\"row _3n8db9\"><div class=\"row\"><p class=\"_2sc7ZR _2V5EHH\">Gopal P</p><svg class=\"_2a1p_T\" height=\"14\" viewbox=\"0 0 12 12\" width=\"14\" xmlns=\"http://www.w3.org/2000/svg\"><g><circle cx=\"6\" cy=\"6\" fill=\"#878787\" r=\"6\"></circle><path d=\"M3 6l2 2 4-4\" fill=\"#878787\" stroke=\"#FFF\" stroke-width=\"1.5\"></path></g></svg><p class=\"_2mcZGG\" id=\"review-0ef70f07-5fff-4d32-af23-3f30521e891b\"><span>Certified Buyer</span></p><p class=\"_2sc7ZR\">3 days ago</p></div></div></div></div></div></div><div class=\"_2nRPpA\"><div class=\"_1Ni40J\"><div class=\"_3hVUcF\"><div class=\"CXW8mj\" style=\"height:150px;width:150px\"><img alt=\"MSI GF63 Intel Core i5 12th Gen 12450H - (16 GB/1 TB HDD/256 GB SSD/Windows 11 Home/8 GB Graphics/NVIDIA GeForce RTX 4060/144 Hz) Thin GF63 12VF-268IN Gaming Laptop\" class=\"_396cs4\" loading=\"lazy\" src=\"https://rukminim2.flixcart.com/image/300/300/xif0q/computer/5/k/g/-original-imags9waxpfd8nsc.jpeg?q=90\"/></div></div><div class=\"_1kLt05\"><a href=\"/msi-gf63-intel-core-i5-12th-gen-12450h-16-gb-1-tb-hdd-256-gb-ssd-windows-11-home-8-graphics-nvidia-geforce-rtx-4060-144-hz-thin-12vf-268in-gaming-laptop/p/itm94409e5003359?pid=COMGZ5F34DHNDHHF&amp;marketplace=FLIPKART\" rel=\"noopener noreferrer\" target=\"_blank\"><div class=\"_1W9f5C\"><div>3. MSI GF63 Intel Core i5 12th...</div></div><div class=\"_3VDxyD\"><div class=\"_3LWZlK\">4.3<img class=\"_1wB99o\" src=\"data:image/svg+xml;base64,PHN2ZyB4bWxucz0iaHR0cDovL3d3dy53My5vcmcvMjAwMC9zdmciIHdpZHRoPSIxMyIgaGVpZ2h0PSIxMiI+PHBhdGggZmlsbD0iI0ZGRiIgZD0iTTYuNSA5LjQzOWwtMy42NzQgMi4yMy45NC00LjI2LTMuMjEtMi44ODMgNC4yNTQtLjQwNEw2LjUuMTEybDEuNjkgNC4wMSA0LjI1NC40MDQtMy4yMSAyLjg4Mi45NCA0LjI2eiIvPjwvc3ZnPg==\"/></div><span class=\"_34hpFu\"><span>55 Ratings</span><span><span class=\"_2oY1qB\">&amp;</span><span>9 Reviews</span></span></span></div><div class=\"_2wYYVP\"><div class=\"_25b18c\"><div class=\"_30jeq3 UMT9wN\">₹86,990</div><div class=\"_3Ay6Sb _2FuKQX\"><span>22% off</span></div></div></div></a><ul class=\"_1Sq2Fs\"><li class=\"_2OosNL\">Intel Core i5 Processor (12th Gen)</li><li class=\"_2OosNL\">16 GB DDR4 RAM</li><li class=\"_2OosNL\">Windows 11 Operating System</li></ul></div></div><div class=\"_2tzWk4\"><div class=\"_1A_Aux\">Most Helpful Review</div><div class=\"col\"><div class=\"col _2wzgFH _2cVXgz\"><div class=\"row\"><div class=\"_3LWZlK _1BLPMq\">5<img class=\"_1wB99o\" src=\"data:image/svg+xml;base64,PHN2ZyB4bWxucz0iaHR0cDovL3d3dy53My5vcmcvMjAwMC9zdmciIHdpZHRoPSIxMyIgaGVpZ2h0PSIxMiI+PHBhdGggZmlsbD0iI0ZGRiIgZD0iTTYuNSA5LjQzOWwtMy42NzQgMi4yMy45NC00LjI2LTMuMjEtMi44ODMgNC4yNTQtLjQwNEw2LjUuMTEybDEuNjkgNC4wMSA0LjI1NC40MDQtMy4yMSAyLjg4Mi45NCA0LjI2eiIvPjwvc3ZnPg==\"/></div><p class=\"_2-N8zT\">Super!</p></div><div class=\"row\"><div class=\"t-ZTKy\"><div><div class=\"\">All the specs are there as mentioned rtx 4060 is superb just that it has heating issue other wise it is best value for money.</div><span class=\"_1H-bmy\"><span>Read full review</span></span></div></div></div><div class=\"row _3n8db9\"><div class=\"row\"><p class=\"_2sc7ZR _2V5EHH\">Harsh Kumar</p><svg class=\"_2a1p_T\" height=\"14\" viewbox=\"0 0 12 12\" width=\"14\" xmlns=\"http://www.w3.org/2000/svg\"><g><circle cx=\"6\" cy=\"6\" fill=\"#878787\" r=\"6\"></circle><path d=\"M3 6l2 2 4-4\" fill=\"#878787\" stroke=\"#FFF\" stroke-width=\"1.5\"></path></g></svg><p class=\"_2mcZGG\" id=\"review-20a2679f-bbb3-429f-9422-31398a88322e\"><span>Certified Buyer</span></p><p class=\"_2sc7ZR\">5 months ago</p></div></div></div></div></div><div class=\"_2tzWk4\"><div class=\"_1A_Aux\">Recent Review</div><div class=\"col\"><div class=\"col _2wzgFH _2cVXgz\"><div class=\"row\"><div class=\"_3LWZlK _1BLPMq\">3<img class=\"_1wB99o\" src=\"data:image/svg+xml;base64,PHN2ZyB4bWxucz0iaHR0cDovL3d3dy53My5vcmcvMjAwMC9zdmciIHdpZHRoPSIxMyIgaGVpZ2h0PSIxMiI+PHBhdGggZmlsbD0iI0ZGRiIgZD0iTTYuNSA5LjQzOWwtMy42NzQgMi4yMy45NC00LjI2LTMuMjEtMi44ODMgNC4yNTQtLjQwNEw2LjUuMTEybDEuNjkgNC4wMSA0LjI1NC40MDQtMy4yMSAyLjg4Mi45NCA0LjI2eiIvPjwvc3ZnPg==\"/></div><p class=\"_2-N8zT\">Good</p></div><div class=\"row\"><div class=\"t-ZTKy\"><div><div class=\"\">An okayish laptop which does a mid level gaming at its best with certain constraints.</div><span class=\"_1H-bmy\"><span>Read full review</span></span></div></div></div><div class=\"row _3n8db9\"><div class=\"row\"><p class=\"_2sc7ZR _2V5EHH\">Abhilash  Malguri </p><svg class=\"_2a1p_T\" height=\"14\" viewbox=\"0 0 12 12\" width=\"14\" xmlns=\"http://www.w3.org/2000/svg\"><g><circle cx=\"6\" cy=\"6\" fill=\"#878787\" r=\"6\"></circle><path d=\"M3 6l2 2 4-4\" fill=\"#878787\" stroke=\"#FFF\" stroke-width=\"1.5\"></path></g></svg><p class=\"_2mcZGG\" id=\"review-4d1ca175-4f17-4d0f-9e56-5da5b764c408\"><span>Certified Buyer</span></p><p class=\"_2sc7ZR\">9 days ago</p></div></div></div></div></div></div><div class=\"_2nRPpA\"><div class=\"_1Ni40J\"><div class=\"_3hVUcF\"><div class=\"CXW8mj\" style=\"height:150px;width:150px\"><img alt=\"ASUS Vivobook 15 Intel Core i3 11th Gen 1115G4 - (8 GB/256 GB SSD/Windows 11 Home) X515EA-EJ312W Thin and Light Laptop\" class=\"_396cs4\" loading=\"lazy\" src=\"https://rukminim2.flixcart.com/image/300/300/xif0q/computer/r/e/f/-original-imagrgprbhchwgve.jpeg?q=90\"/></div></div><div class=\"_1kLt05\"><a href=\"/asus-vivobook-15-intel-core-i3-11th-gen-1115g4-8-gb-256-gb-ssd-windows-11-home-x515ea-ej312w-thin-light-laptop/p/itm7aa1836156b37?pid=COMG9WH98ZNYXWYH&amp;marketplace=FLIPKART\" rel=\"noopener noreferrer\" target=\"_blank\"><div class=\"_1W9f5C\"><div>4. ASUS Vivobook 15 Intel Core...</div></div><div class=\"_3VDxyD\"><div class=\"_3LWZlK\">4.3<img class=\"_1wB99o\" src=\"data:image/svg+xml;base64,PHN2ZyB4bWxucz0iaHR0cDovL3d3dy53My5vcmcvMjAwMC9zdmciIHdpZHRoPSIxMyIgaGVpZ2h0PSIxMiI+PHBhdGggZmlsbD0iI0ZGRiIgZD0iTTYuNSA5LjQzOWwtMy42NzQgMi4yMy45NC00LjI2LTMuMjEtMi44ODMgNC4yNTQtLjQwNEw2LjUuMTEybDEuNjkgNC4wMSA0LjI1NC40MDQtMy4yMSAyLjg4Mi45NCA0LjI2eiIvPjwvc3ZnPg==\"/></div><span class=\"_34hpFu\"><span>11,615 Ratings</span><span><span class=\"_2oY1qB\">&amp;</span><span>1,051 Reviews</span></span></span></div><div class=\"_2wYYVP\"><div class=\"_25b18c\"><div class=\"_30jeq3 UMT9wN\">₹29,990</div><div class=\"_3Ay6Sb _2FuKQX\"><span>33% off</span></div></div></div></a><ul class=\"_1Sq2Fs\"><li class=\"_2OosNL\">Intel Core i3 Processor (11th Gen)</li><li class=\"_2OosNL\">8 GB DDR4 RAM</li><li class=\"_2OosNL\">64 bit Windows 11 Operating System</li></ul></div></div><div class=\"_2tzWk4\"><div class=\"_1A_Aux\">Most Helpful Review</div><div class=\"col\"><div class=\"col _2wzgFH _2cVXgz\"><div class=\"row\"><div class=\"_3LWZlK _1BLPMq\">4<img class=\"_1wB99o\" src=\"data:image/svg+xml;base64,PHN2ZyB4bWxucz0iaHR0cDovL3d3dy53My5vcmcvMjAwMC9zdmciIHdpZHRoPSIxMyIgaGVpZ2h0PSIxMiI+PHBhdGggZmlsbD0iI0ZGRiIgZD0iTTYuNSA5LjQzOWwtMy42NzQgMi4yMy45NC00LjI2LTMuMjEtMi44ODMgNC4yNTQtLjQwNEw2LjUuMTEybDEuNjkgNC4wMSA0LjI1NC40MDQtMy4yMSAyLjg4Mi45NCA0LjI2eiIvPjwvc3ZnPg==\"/></div><p class=\"_2-N8zT\">Value-for-money</p></div><div class=\"row\"><div class=\"t-ZTKy\"><div><div class=\"\">Good performance 💪<br/><br/>Display 3.5/5🤩<br/><br/>Battery 🔋 4/5💪<br/><br/>Speaker 🔊 3.9/5🤩<br/><br/>Power on Time ~6 to 7 Second 💪<br/><br/>Performance 4.4/5💪💪<br/><br/>Video quality 3.9/5🤩<br/><br/>Va...</div><span class=\"_1BWGvX\"><span>Read full review</span></span></div></div></div><div class=\"row _3n8db9\"><div class=\"row\"><p class=\"_2sc7ZR _2V5EHH\">Sunny  Yami</p><svg class=\"_2a1p_T\" height=\"14\" viewbox=\"0 0 12 12\" width=\"14\" xmlns=\"http://www.w3.org/2000/svg\"><g><circle cx=\"6\" cy=\"6\" fill=\"#878787\" r=\"6\"></circle><path d=\"M3 6l2 2 4-4\" fill=\"#878787\" stroke=\"#FFF\" stroke-width=\"1.5\"></path></g></svg><p class=\"_2mcZGG\" id=\"review-2143e61b-f28a-4693-9891-591128920be8\"><span>Certified Buyer</span></p><p class=\"_2sc7ZR\">9 months ago</p></div></div></div></div></div><div class=\"_2tzWk4\"><div class=\"_1A_Aux\">Recent Review</div><div class=\"col\"><div class=\"col _2wzgFH _2cVXgz\"><div class=\"row\"><div class=\"_3LWZlK _1BLPMq\">5<img class=\"_1wB99o\" src=\"data:image/svg+xml;base64,PHN2ZyB4bWxucz0iaHR0cDovL3d3dy53My5vcmcvMjAwMC9zdmciIHdpZHRoPSIxMyIgaGVpZ2h0PSIxMiI+PHBhdGggZmlsbD0iI0ZGRiIgZD0iTTYuNSA5LjQzOWwtMy42NzQgMi4yMy45NC00LjI2LTMuMjEtMi44ODMgNC4yNTQtLjQwNEw2LjUuMTEybDEuNjkgNC4wMSA0LjI1NC40MDQtMy4yMSAyLjg4Mi45NCA0LjI2eiIvPjwvc3ZnPg==\"/></div><p class=\"_2-N8zT\">Must buy!</p></div><div class=\"row\"><div class=\"t-ZTKy\"><div><div class=\"\">It is a great product and good for daily usage. <br/>Value for money.</div><span class=\"_1H-bmy\"><span>Read full review</span></span></div></div></div><div class=\"row _3n8db9\"><div class=\"row\"><p class=\"_2sc7ZR _2V5EHH\">Satyam Singh</p><svg class=\"_2a1p_T\" height=\"14\" viewbox=\"0 0 12 12\" width=\"14\" xmlns=\"http://www.w3.org/2000/svg\"><g><circle cx=\"6\" cy=\"6\" fill=\"#878787\" r=\"6\"></circle><path d=\"M3 6l2 2 4-4\" fill=\"#878787\" stroke=\"#FFF\" stroke-width=\"1.5\"></path></g></svg><p class=\"_2mcZGG\" id=\"review-cf3ce7cd-b070-4c88-a411-37942e201c34\"><span>Certified Buyer</span></p><p class=\"_2sc7ZR\">2 days ago</p></div></div></div></div></div></div><div class=\"_2nRPpA\"><div class=\"_1Ni40J\"><div class=\"_3hVUcF\"><div class=\"CXW8mj\" style=\"height:150px;width:150px\"><img alt=\"MSI GF63 Intel Core i7 11th Gen 11800H - (16 GB/1 TB HDD/256 GB SSD/Windows 11 Home/4 GB Graphics/NVIDIA GeForce GTX 1650/60 Hz) GF63 Thin 11SC-1298IN Gaming Laptop\" class=\"_396cs4\" loading=\"lazy\" src=\"https://rukminim2.flixcart.com/image/300/300/xif0q/computer/i/x/n/-original-imagt8bbf6qgeaha.jpeg?q=90\"/></div></div><div class=\"_1kLt05\"><a href=\"/msi-gf63-intel-core-i7-11th-gen-11800h-16-gb-1-tb-hdd-256-gb-ssd-windows-11-home-4-graphics-nvidia-geforce-gtx-1650-60-hz-thin-11sc-1298in-gaming-laptop/p/itmaae8f004c8e86?pid=COMGZ4PN7CGG6SUD&amp;marketplace=FLIPKART\" rel=\"noopener noreferrer\" target=\"_blank\"><div class=\"_1W9f5C\"><div>5. MSI GF63 Intel Core i7 11th...</div></div><div class=\"_3VDxyD\"><div class=\"_3LWZlK\">4.3<img class=\"_1wB99o\" src=\"data:image/svg+xml;base64,PHN2ZyB4bWxucz0iaHR0cDovL3d3dy53My5vcmcvMjAwMC9zdmciIHdpZHRoPSIxMyIgaGVpZ2h0PSIxMiI+PHBhdGggZmlsbD0iI0ZGRiIgZD0iTTYuNSA5LjQzOWwtMy42NzQgMi4yMy45NC00LjI2LTMuMjEtMi44ODMgNC4yNTQtLjQwNEw2LjUuMTEybDEuNjkgNC4wMSA0LjI1NC40MDQtMy4yMSAyLjg4Mi45NCA0LjI2eiIvPjwvc3ZnPg==\"/></div><span class=\"_34hpFu\"><span>150 Ratings</span><span><span class=\"_2oY1qB\">&amp;</span><span>16 Reviews</span></span></span></div><div class=\"_2wYYVP\"><div class=\"_25b18c\"><div class=\"_30jeq3 UMT9wN\">₹59,990</div><div class=\"_3Ay6Sb _2FuKQX\"><span>26% off</span></div></div></div></a><ul class=\"_1Sq2Fs\"><li class=\"_2OosNL\">Intel Core i7 Processor (11th Gen)</li><li class=\"_2OosNL\">16 GB DDR4 RAM</li><li class=\"_2OosNL\">Windows 11 Operating System</li></ul></div></div><div class=\"_2tzWk4\"><div class=\"_1A_Aux\">Most Helpful Review</div><div class=\"col\"><div class=\"col _2wzgFH _2cVXgz\"><div class=\"row\"><div class=\"_3LWZlK _1BLPMq\">3<img class=\"_1wB99o\" src=\"data:image/svg+xml;base64,PHN2ZyB4bWxucz0iaHR0cDovL3d3dy53My5vcmcvMjAwMC9zdmciIHdpZHRoPSIxMyIgaGVpZ2h0PSIxMiI+PHBhdGggZmlsbD0iI0ZGRiIgZD0iTTYuNSA5LjQzOWwtMy42NzQgMi4yMy45NC00LjI2LTMuMjEtMi44ODMgNC4yNTQtLjQwNEw2LjUuMTEybDEuNjkgNC4wMSA0LjI1NC40MDQtMy4yMSAyLjg4Mi45NCA0LjI2eiIvPjwvc3ZnPg==\"/></div><p class=\"_2-N8zT\">Just okay</p></div><div class=\"row\"><div class=\"t-ZTKy\"><div><div class=\"\">The product is good value for money and performance is excellent I am worried about two things battery performance and speaker performance, the battery backu...</div><span class=\"_1BWGvX\"><span>Read full review</span></span></div></div></div><div class=\"row _3n8db9\"><div class=\"row\"><p class=\"_2sc7ZR _2V5EHH\">Anwar Anwar</p><svg class=\"_2a1p_T\" height=\"14\" viewbox=\"0 0 12 12\" width=\"14\" xmlns=\"http://www.w3.org/2000/svg\"><g><circle cx=\"6\" cy=\"6\" fill=\"#878787\" r=\"6\"></circle><path d=\"M3 6l2 2 4-4\" fill=\"#878787\" stroke=\"#FFF\" stroke-width=\"1.5\"></path></g></svg><p class=\"_2mcZGG\" id=\"review-a8065cb1-6bc3-4025-951d-f1f65edc4400\"><span>Certified Buyer</span></p><p class=\"_2sc7ZR\">4 months ago</p></div></div></div></div></div><div class=\"_2tzWk4\"><div class=\"_1A_Aux\">Recent Review</div><div class=\"col\"><div class=\"col _2wzgFH _2cVXgz\"><div class=\"row\"><div class=\"_3LWZlK _1BLPMq\">5<img class=\"_1wB99o\" src=\"data:image/svg+xml;base64,PHN2ZyB4bWxucz0iaHR0cDovL3d3dy53My5vcmcvMjAwMC9zdmciIHdpZHRoPSIxMyIgaGVpZ2h0PSIxMiI+PHBhdGggZmlsbD0iI0ZGRiIgZD0iTTYuNSA5LjQzOWwtMy42NzQgMi4yMy45NC00LjI2LTMuMjEtMi44ODMgNC4yNTQtLjQwNEw2LjUuMTEybDEuNjkgNC4wMSA0LjI1NC40MDQtMy4yMSAyLjg4Mi45NCA0LjI2eiIvPjwvc3ZnPg==\"/></div><p class=\"_2-N8zT\">Mind-blowing purchase</p></div><div class=\"row\"><div class=\"t-ZTKy\"><div><div class=\"\">Great Product... Superb speed sound and graphics</div><span class=\"_1H-bmy\"><span>Read full review</span></span></div></div></div><div class=\"row _3n8db9\"><div class=\"row\"><p class=\"_2sc7ZR _2V5EHH\">Prateek Chauhan</p><svg class=\"_2a1p_T\" height=\"14\" viewbox=\"0 0 12 12\" width=\"14\" xmlns=\"http://www.w3.org/2000/svg\"><g><circle cx=\"6\" cy=\"6\" fill=\"#878787\" r=\"6\"></circle><path d=\"M3 6l2 2 4-4\" fill=\"#878787\" stroke=\"#FFF\" stroke-width=\"1.5\"></path></g></svg><p class=\"_2mcZGG\" id=\"review-f2c416a4-4a95-4bde-849b-1bdbb67a2671\"><span>Certified Buyer</span></p><p class=\"_2sc7ZR\">1 month ago</p></div></div></div></div></div></div></div></div><div class=\"_1AtVbE col-12-12\"></div></div><footer class=\"_3voSl0\"><div class=\"_3rc_xQ\"><div class=\"row\"><div class=\"col gu12 _8Qljeg\"></div></div><div><div class=\"_2WErco row\"><div class=\"_2Brcj4\"><div class=\"_3-dnWo\">ABOUT</div><a class=\"_1arVWX\" href=\"/helpcentre?otracker=undefined_footer_navlinks\">Contact Us</a><a class=\"_1arVWX\" href=\"https://corporate.flipkart.net/corporate-home\">About Us</a><a class=\"_1arVWX\" href=\"https://www.flipkartcareers.com/?otracker=undefined_footer_navlinks\">Careers</a><a class=\"_1arVWX\" href=\"http://stories.flipkart.com/?otracker=undefined_footer_navlinks\">Flipkart Stories</a><a class=\"_1arVWX\" href=\"http://stories.flipkart.com/category/top-stories/news/\">Press</a><a class=\"_1arVWX\" href=\"https://www.flipkartwholesale.com/?otracker=undefined_footer_navlinks\" rel=\"noopener noreferrer\" target=\"_blank\">Flipkart Wholesale</a><a class=\"_1arVWX\" href=\"https://www.cleartrip.com/\" rel=\"noopener noreferrer\" target=\"_blank\" title=\"Cleartrip: #1 Site for Booking Flights Tickets, Buses &amp; Hotels Online\">Cleartrip</a><a class=\"_1arVWX\" href=\"/corporate-information\">Corporate Information</a></div><div class=\"_2Brcj4\"><div class=\"_3-dnWo\">HELP</div><a class=\"_1arVWX\" href=\"/pages/payments\">Payments</a><a class=\"_1arVWX\" href=\"/pages/shipping\">Shipping</a><a class=\"_1arVWX\" href=\"/helpcentre?catalog=55c9c6edb000002e002c1701&amp;view=CATALOG\">Cancellation &amp; Returns</a><a class=\"_1arVWX\" href=\"/helpcentre?catalog=55c9c8e2b0000023002c1702&amp;view=CATALOG\">FAQ</a><a class=\"_1arVWX\" href=\"https://seller.flipkart.com/fiv?otracker=undefined_footer_navlinks\">Report Infringement</a></div><div class=\"_2Brcj4\"><div class=\"_3-dnWo\">CONSUMER POLICY</div><a class=\"_1arVWX\" href=\"/pages/returnpolicy?otracker=undefined_footer_navlinks\">Cancellation &amp; Returns</a><a class=\"_1arVWX\" href=\"/pages/terms?otracker=undefined_footer_navlinks\">Terms Of Use</a><a class=\"_1arVWX\" href=\"/pages/paymentsecurity?otracker=undefined_footer_navlinks\">Security</a><a class=\"_1arVWX\" href=\"/pages/privacypolicy?otracker=undefined_footer_navlinks\">Privacy</a><a class=\"_1arVWX\" href=\"/sitemap?otracker=undefined_footer_navlinks\">Sitemap</a><a class=\"_1arVWX\" href=\"/pages/grievance-redressal-mechanism?otracker=undefined_footer_navlinks\">Grievance Redressal</a><a class=\"_1arVWX\" href=\"/pages/ewaste-compliance-tnc?otracker=undefined_footer_navlinks\">EPR Compliance</a></div><div class=\"_2Brcj4\"><div class=\"_3-dnWo\">SOCIAL</div><a class=\"_1arVWX\" href=\"https://www.facebook.com/flipkart\">Facebook</a><a class=\"_1arVWX\" href=\"https://www.twitter.com/flipkart\">Twitter</a><a class=\"_1arVWX\" href=\"https://www.youtube.com/flipkart\">YouTube</a></div><div class=\"_2Brcj4 address\"><div class=\"_3JHi0r\"><div class=\"_3-dnWo\"><span>Mail Us:</span></div><div class=\"_1U1qnR\"><div class=\"_1LJS6T\"><div class=\"_2NKhZn _1U1qnR\"><p>Flipkart Internet Private Limited, </p>\n",
       "<p> Buildings Alyssa, Begonia &amp; </p>\n",
       "<p> Clove Embassy Tech Village, </p>\n",
       "<p> Outer Ring Road, Devarabeesanahalli Village, </p>\n",
       "<p> Bengaluru, 560103, </p>\n",
       "<p> Karnataka, India</p>\n",
       "</div></div></div></div></div><div class=\"_2Brcj4 address\"><div class=\"_3IT4e6\"><div class=\"_3-dnWo\"><span>Registered Office Address:</span></div><div class=\"_1U1qnR\"><div class=\"_1LJS6T\"><div class=\"_2NKhZn _1U1qnR\"><p>Flipkart Internet Private Limited, </p>\n",
       "<p> Buildings Alyssa, Begonia &amp; </p>\n",
       "<p> Clove Embassy Tech Village, </p>\n",
       "<p> Outer Ring Road, Devarabeesanahalli Village, </p>\n",
       "<p> Bengaluru, 560103, </p>\n",
       "<p> Karnataka, India </p>\n",
       "<p> CIN : U51109KA2012PTC066107 </p>\n",
       "<p> Telephone: <a href=\"tel:044-45614700\">044-45614700</a></p>\n",
       "</div></div></div></div></div></div><div><div class=\"_2uz0vJ\"><div><img src=\"data:image/svg+xml;base64,PHN2ZyB4bWxucz0iaHR0cDovL3d3dy53My5vcmcvMjAwMC9zdmciIHdpZHRoPSIxNiIgaGVpZ2h0PSIxNSIgdmlld0JveD0iMCAwIDE2IDE1Ij4KICAgIDxkZWZzPgogICAgICAgIDxsaW5lYXJHcmFkaWVudCBpZD0iYSIgeDE9IjAlIiB4Mj0iODYuODc2JSIgeTE9IjAlIiB5Mj0iODAuMjAyJSI+CiAgICAgICAgICAgIDxzdG9wIG9mZnNldD0iMCUiIHN0b3AtY29sb3I9IiNGRkQ4MDAiLz4KICAgICAgICAgICAgPHN0b3Agb2Zmc2V0PSIxMDAlIiBzdG9wLWNvbG9yPSIjRkZBRjAwIi8+CiAgICAgICAgPC9saW5lYXJHcmFkaWVudD4KICAgIDwvZGVmcz4KICAgIDxnIGZpbGw9Im5vbmUiIGZpbGwtcnVsZT0iZXZlbm9kZCI+CiAgICAgICAgPHBhdGggZD0iTS0yLTJoMjB2MjBILTJ6Ii8+CiAgICAgICAgPHBhdGggZmlsbD0idXJsKCNhKSIgZmlsbC1ydWxlPSJub256ZXJvIiBkPSJNMTUuOTMgNS42MTRoLTIuOTQ4VjQuMTRjMC0uODE4LS42NTUtMS40NzMtMS40NzMtMS40NzNIOC41NmMtLjgxNyAwLTEuNDczLjY1NS0xLjQ3MyAxLjQ3M3YxLjQ3NEg0LjE0Yy0uODE4IDAtMS40NjYuNjU2LTEuNDY2IDEuNDc0bC0uMDA3IDguMTA1YzAgLjgxOC42NTUgMS40NzQgMS40NzMgMS40NzRoMTEuNzljLjgxOCAwIDEuNDc0LS42NTYgMS40NzQtMS40NzRWNy4wODhjMC0uODE4LS42NTYtMS40NzQtMS40NzQtMS40NzR6bS00LjQyMSAwSDguNTZWNC4xNGgyLjk0OHYxLjQ3NHoiIHRyYW5zZm9ybT0idHJhbnNsYXRlKC0yIC0yKSIvPgogICAgPC9nPgo8L3N2Zz4K\"/><a href=\"https://seller.flipkart.com/?utm_source=fkwebsite&amp;utm_medium=websitedirect\"><span class=\"hDTmm5\">Become a Seller</span></a></div><div><img src=\"data:image/svg+xml;base64,PHN2ZyB4bWxucz0iaHR0cDovL3d3dy53My5vcmcvMjAwMC9zdmciIHdpZHRoPSIxNSIgaGVpZ2h0PSIxNSIgdmlld0JveD0iMCAwIDE1IDE1Ij4KICAgIDxkZWZzPgogICAgICAgIDxsaW5lYXJHcmFkaWVudCBpZD0iYSIgeDE9IjAlIiB4Mj0iODYuODc2JSIgeTE9IjAlIiB5Mj0iODAuMjAyJSI+CiAgICAgICAgICAgIDxzdG9wIG9mZnNldD0iMCUiIHN0b3AtY29sb3I9IiNGRkQ4MDAiLz4KICAgICAgICAgICAgPHN0b3Agb2Zmc2V0PSIxMDAlIiBzdG9wLWNvbG9yPSIjRkZBRjAwIi8+CiAgICAgICAgPC9saW5lYXJHcmFkaWVudD4KICAgIDwvZGVmcz4KICAgIDxnIGZpbGw9Im5vbmUiIGZpbGwtcnVsZT0iZXZlbm9kZCI+CiAgICAgICAgPHBhdGggZD0iTS0zLTNoMjB2MjBILTN6Ii8+CiAgICAgICAgPHBhdGggZmlsbD0idXJsKCNhKSIgZmlsbC1ydWxlPSJub256ZXJvIiBkPSJNMTAuNDkyIDNDNi4zNTMgMyAzIDYuMzYgMyAxMC41YzAgNC4xNCAzLjM1MyA3LjUgNy40OTIgNy41QzE0LjY0IDE4IDE4IDE0LjY0IDE4IDEwLjUgMTggNi4zNiAxNC42NCAzIDEwLjQ5MiAzem0zLjE4IDEyTDEwLjUgMTMuMDg4IDcuMzI3IDE1bC44NC0zLjYwN0w1LjM3IDguOTdsMy42OS0uMzE1TDEwLjUgNS4yNWwxLjQ0IDMuMzk4IDMuNjkuMzE1LTIuNzk4IDIuNDIyLjg0IDMuNjE1eiIgdHJhbnNmb3JtPSJ0cmFuc2xhdGUoLTMgLTMpIi8+CiAgICA8L2c+Cjwvc3ZnPgo=\"/><a href=\"https://brands.flipkart.com\"><span class=\"hDTmm5\">Advertise</span></a></div><div><img src=\"data:image/svg+xml;base64,PHN2ZyB4bWxucz0iaHR0cDovL3d3dy53My5vcmcvMjAwMC9zdmciIHdpZHRoPSIxOCIgaGVpZ2h0PSIxNyIgdmlld0JveD0iMCAwIDE4IDE3Ij4KICAgIDxkZWZzPgogICAgICAgIDxsaW5lYXJHcmFkaWVudCBpZD0iYSIgeDE9IjAlIiB4Mj0iODYuODc2JSIgeTE9IjAlIiB5Mj0iODAuMjAyJSI+CiAgICAgICAgICAgIDxzdG9wIG9mZnNldD0iMCUiIHN0b3AtY29sb3I9IiNGRkQ4MDAiLz4KICAgICAgICAgICAgPHN0b3Agb2Zmc2V0PSIxMDAlIiBzdG9wLWNvbG9yPSIjRkZBRjAwIi8+CiAgICAgICAgPC9saW5lYXJHcmFkaWVudD4KICAgIDwvZGVmcz4KICAgIDxnIGZpbGw9Im5vbmUiIGZpbGwtcnVsZT0iZXZlbm9kZCI+CiAgICAgICAgPHBhdGggZD0iTS0xLTFoMjB2MjBILTF6Ii8+CiAgICAgICAgPHBhdGggZmlsbD0idXJsKCNhKSIgZmlsbC1ydWxlPSJub256ZXJvIiBkPSJNMTYuNjY3IDVIMTQuODVjLjA5Mi0uMjU4LjE1LS41NDIuMTUtLjgzM2EyLjQ5NyAyLjQ5NyAwIDAgMC00LjU4My0xLjM3NUwxMCAzLjM1bC0uNDE3LS41NjdBMi41MSAyLjUxIDAgMCAwIDcuNSAxLjY2N2EyLjQ5NyAyLjQ5NyAwIDAgMC0yLjUgMi41YzAgLjI5MS4wNTguNTc1LjE1LjgzM0gzLjMzM2MtLjkyNSAwLTEuNjU4Ljc0Mi0xLjY1OCAxLjY2N2wtLjAwOCA5LjE2NkExLjY2IDEuNjYgMCAwIDAgMy4zMzMgMTcuNWgxMy4zMzRhMS42NiAxLjY2IDAgMCAwIDEuNjY2LTEuNjY3VjYuNjY3QTEuNjYgMS42NiAwIDAgMCAxNi42NjcgNXptMCA2LjY2N0gzLjMzM3YtNWg0LjIzNEw1LjgzMyA5LjAyNWwxLjM1Ljk3NSAxLjk4NC0yLjdMMTAgNi4xNjdsLjgzMyAxLjEzMyAxLjk4NCAyLjcgMS4zNS0uOTc1LTEuNzM0LTIuMzU4aDQuMjM0djV6IiB0cmFuc2Zvcm09InRyYW5zbGF0ZSgtMSAtMSkiLz4KICAgIDwvZz4KPC9zdmc+Cg==\"/><a href=\"/the-gift-card-store?otracker=undefined_footer_footer_navlinks\"><span class=\"hDTmm5\">Gift Cards</span></a></div><div><img src=\"data:image/svg+xml;base64,PHN2ZyB4bWxucz0iaHR0cDovL3d3dy53My5vcmcvMjAwMC9zdmciIHdpZHRoPSIxNSIgaGVpZ2h0PSIxNSIgdmlld0JveD0iMCAwIDE1IDE1Ij4KICAgIDxkZWZzPgogICAgICAgIDxsaW5lYXJHcmFkaWVudCBpZD0iYSIgeDE9IjAlIiB4Mj0iODYuODc2JSIgeTE9IjAlIiB5Mj0iODAuMjAyJSI+CiAgICAgICAgICAgIDxzdG9wIG9mZnNldD0iMCUiIHN0b3AtY29sb3I9IiNGRkQ4MDAiLz4KICAgICAgICAgICAgPHN0b3Agb2Zmc2V0PSIxMDAlIiBzdG9wLWNvbG9yPSIjRkZBRjAwIi8+CiAgICAgICAgPC9saW5lYXJHcmFkaWVudD4KICAgIDwvZGVmcz4KICAgIDxnIGZpbGw9Im5vbmUiIGZpbGwtcnVsZT0iZXZlbm9kZCI+CiAgICAgICAgPHBhdGggZD0iTS0yLTNoMjB2MjBILTJ6Ii8+CiAgICAgICAgPHBhdGggZmlsbD0idXJsKCNhKSIgZmlsbC1ydWxlPSJub256ZXJvIiBkPSJNOS41IDNDNS4zNiAzIDIgNi4zNiAyIDEwLjUgMiAxNC42NCA1LjM2IDE4IDkuNSAxOGM0LjE0IDAgNy41LTMuMzYgNy41LTcuNUMxNyA2LjM2IDEzLjY0IDMgOS41IDN6bS43NSAxMi43NWgtMS41di0xLjVoMS41djEuNXptMS41NTMtNS44MTNsLS42NzYuNjljLS41NC41NDgtLjg3Ny45OTgtLjg3NyAyLjEyM2gtMS41di0uMzc1YzAtLjgyNS4zMzgtMS41NzUuODc3LTIuMTIzbC45My0uOTQ1Yy4yNzgtLjI3LjQ0My0uNjQ1LjQ0My0xLjA1NyAwLS44MjUtLjY3NS0xLjUtMS41LTEuNVM4IDcuNDI1IDggOC4yNUg2LjVhMyAzIDAgMSAxIDYgMGMwIC42Ni0uMjcgMS4yNi0uNjk3IDEuNjg4eiIgdHJhbnNmb3JtPSJ0cmFuc2xhdGUoLTIgLTMpIi8+CiAgICA8L2c+Cjwvc3ZnPgo=\"/><a href=\"/helpcentre?otracker=undefined_footer_footer_navlinks\"><span class=\"hDTmm5\">Help Center</span></a></div><span class=\"z3ht-w\">© 2007-<!-- -->2023<!-- --> <span>Flipkart.com</span></span><img src=\"//static-assets-web.flixcart.com/fk-p-linchpin-web/fk-cp-zion/img/payment-method_69e7ec.svg\"/></div></div></div></div></footer><div class=\"_1EcK2J _38JCdA\"><div class=\"bra6U8\"><svg class=\"_2TdLiZ\" height=\"27\" viewbox=\"0 0 16 27\" width=\"16\" xmlns=\"http://www.w3.org/2000/svg\"><path class=\"_3ZKfA2\" d=\"M16 23.207L6.11 13.161 16 3.093 12.955 0 0 13.161l12.955 13.161z\" fill=\"#fff\"></path></svg><span>Back to top</span></div></div></div></div> <script id=\"jsonLD\" nonce=\"3330201420295177327\" type=\"application/ld+json\">{\"@context\":\"http://schema.org\",\"@type\":\"ItemList\",\"itemListElement\":[{\"@type\":\"ListItem\",\"position\":1,\"url\":\"https://www.flipkart.com/msi-gf63-intel-core-i5-11th-gen-11260h-8-gb-512-gb-ssd-windows-11-home-4-graphics-nvidia-geforce-gtx-1650-60-hz-thin-11sc-1494in-gaming-laptop/p/itm99c03c748e149?pid=COMGRDC8SWJGGTZC&lid=LSTCOMGRDC8SWJGGTZCDYO4OJ&marketplace=FLIPKART&q=laptop&store=6bo%2Fb5g\",\"name\":\"MSI GF63 Intel Core i5 11th Gen 11260H - (8 GB/512 GB SSD/Windows 11 Home/4 GB Graphics/NVIDIA GeForce GTX 1650/60 Hz) GF63 Thin 11SC-1494IN Gaming Laptop\"},{\"@type\":\"ListItem\",\"position\":2,\"url\":\"https://www.flipkart.com/msi-gf63-intel-core-i7-12th-gen-12650h-16-gb-512-gb-ssd-windows-11-home-8-graphics-nvidia-geforce-rtx-4060-144-hz-thin-12vf-663in-gaming-laptop/p/itm4fd4fe57a6f71?pid=COMGRDC8Q23CZMYJ&lid=LSTCOMGRDC8Q23CZMYJ8XC6NL&marketplace=FLIPKART&q=laptop&store=6bo%2Fb5g\",\"name\":\"MSI GF63 Intel Core i7 12th Gen 12650H - (16 GB/512 GB SSD/Windows 11 Home/8 GB Graphics/NVIDIA GeForce RTX 4060/144 Hz) Thin GF63 12VF-663IN Gaming Laptop\"},{\"@type\":\"ListItem\",\"position\":3,\"url\":\"https://www.flipkart.com/hp-intel-core-i3-11th-gen-1115g4-8-gb-256-gb-ssd-windows-11-home-14s-dy2507tu-thin-light-laptop/p/itm3c618978e7a4d?pid=COMGG63H9BFFUYVY&lid=LSTCOMGG63H9BFFUYVYFHH552&marketplace=FLIPKART&q=laptop&store=6bo%2Fb5g\",\"name\":\"HP Intel Intel Core i3 11th Gen 1115G4 - (8 GB/256 GB SSD/Windows 11 Home) 14s - dy2507TU Thin and Light Laptop\"},{\"@type\":\"ListItem\",\"position\":4,\"url\":\"https://www.flipkart.com/dell-intel-core-i3-12th-gen-1215u-8-gb-512-gb-ssd-windows-11-home-new-inspiron-15-laptop-thin-light/p/itm06ea674a3bd5b?pid=COMGJ75HCCFJS8AE&lid=LSTCOMGJ75HCCFJS8AELVN77K&marketplace=FLIPKART&q=laptop&store=6bo%2Fb5g\",\"name\":\"DELL Intel Core i3 12th Gen 1215U - (8 GB/512 GB SSD/Windows 11 Home) New Inspiron 15 Laptop Thin and Light Laptop\"},{\"@type\":\"ListItem\",\"position\":5,\"url\":\"https://www.flipkart.com/asus-vivobook-15-intel-core-i3-11th-gen-1115g4-8-gb-256-gb-ssd-windows-11-home-x515ea-ej312w-thin-light-laptop/p/itm7aa1836156b37?pid=COMG9WH98ZNYXWYH&lid=LSTCOMG9WH98ZNYXWYHARCWA8&marketplace=FLIPKART&q=laptop&store=6bo%2Fb5g\",\"name\":\"ASUS Vivobook 15 Intel Core i3 11th Gen 1115G4 - (8 GB/256 GB SSD/Windows 11 Home) X515EA-EJ312W Thin and Light Laptop\"},{\"@type\":\"ListItem\",\"position\":6,\"url\":\"https://www.flipkart.com/acer-extensa-intel-core-i3-n305-8-gb-512-gb-ssd-windows-11-home-ex215-33-notebook/p/itm3ff7533eed60f?pid=COMGMSV94PZCFZSB&lid=LSTCOMGMSV94PZCFZSBNIGUCG&marketplace=FLIPKART&q=laptop&store=6bo%2Fb5g\",\"name\":\"Acer Extensa Intel Core i3 N305 - (8 GB/512 GB SSD/Windows 11 Home) EX215-33 Notebook\"},{\"@type\":\"ListItem\",\"position\":7,\"url\":\"https://www.flipkart.com/msi-modern-14-intel-core-i3-11th-gen-1115g4-8-gb-512-gb-ssd-windows-11-home-c11m-031in-thin-light-laptop/p/itm6ca276c474059?pid=COMGMV6V2AGHSSDM&lid=LSTCOMGMV6V2AGHSSDMORMXTI&marketplace=FLIPKART&q=laptop&store=6bo%2Fb5g\",\"name\":\"MSI Modern 14 Intel Core i3 11th Gen 1115G4 - (8 GB/512 GB SSD/Windows 11 Home) Modern 14 C11M-031IN Thin and Light Laptop\"},{\"@type\":\"ListItem\",\"position\":8,\"url\":\"https://www.flipkart.com/msi-katana-17-intel-core-i7-12th-gen-12650h-16-gb-1-tb-ssd-windows-11-home-8-gb-graphics-nvidia-geforce-rtx-4060-240-hz-b12vfk-673in-gaming-laptop/p/itm9f5e6b12f51c6?pid=COMGRDC8M7XP6FV5&lid=LSTCOMGRDC8M7XP6FV53H1M2B&marketplace=FLIPKART&q=laptop&store=6bo%2Fb5g\",\"name\":\"MSI Katana 17 Intel Core i7 12th Gen 12650H - (16 GB/1 TB SSD/Windows 11 Home/8 GB Graphics/NVIDIA GeForce RTX 4060/240 Hz) Katana 17 B12VFK-673IN Gaming Laptop\"},{\"@type\":\"ListItem\",\"position\":9,\"url\":\"https://www.flipkart.com/chuwi-intel-core-i3-10th-gen-1005g1-8-gb-512-gb-ssd-windows-11-home-corebook-x-grey-laptop/p/itm60983f1093f2d?pid=COMGQHRQZSPVRDZE&lid=LSTCOMGQHRQZSPVRDZEQTPAAX&marketplace=FLIPKART&q=laptop&store=6bo%2Fb5g\",\"name\":\"CHUWI Intel Core i3 10th Gen 1005G1 - (8 GB/512 GB SSD/Windows 11 Home) CoreBook X Grey Laptop\"},{\"@type\":\"ListItem\",\"position\":10,\"url\":\"https://www.flipkart.com/lenovo-intel-core-i7-12th-gen-1255u-16-gb-512-gb-ssd-windows-11-home-v15-g3-iap-thin-light-laptop/p/itm930d2b10f8362?pid=COMGTVXCHXKNHYY2&lid=LSTCOMGTVXCHXKNHYY2MXPCVF&marketplace=FLIPKART&q=laptop&store=6bo%2Fb5g\",\"name\":\"Lenovo Intel Core i7 12th Gen 1255U - (16 GB/512 GB SSD/Windows 11 Home) V15 G3 IAP Thin and Light Laptop\"}]}</script> <script id=\"jsonLD\" nonce=\"3330201420295177327\" type=\"application/ld+json\">{}</script><script nonce=\"3330201420295177327\" type=\"application/ld+json\">{\n",
       "    \"@context\": \"http://schema.org\",\n",
       "    \"@type\": \"WebSite\",\n",
       "    \"url\": \"http://www.flipkart.com/\",\n",
       "    \"potentialAction\": [{\n",
       "        \"@type\": \"SearchAction\",\n",
       "        \"target\": \"http://www.flipkart.com/search?q={search_term_string}\",\n",
       "        \"query-input\": \"required name=search_term_string\"\n",
       "        },{\n",
       "        \"@type\": \"SearchAction\",\n",
       "        \"target\": \"android-app://com.flipkart.android/flipkart/de_sq_seg_-search.flipkart.com-_{search_term_string}\",\n",
       "        \"query-input\": \"required name=search_term_string\"\n",
       "    }]\n",
       "}</script><script id=\"is_script\" nonce=\"3330201420295177327\">window.__INITIAL_STATE__ = {};</script> <link data-chunk=\"NavMenu\" href=\"//static-assets-web.flixcart.com/fk-p-linchpin-web/fk-cp-zion/css/NavMenu.chunk.0a28b6.css\" rel=\"stylesheet\"/>\n",
       "<link data-chunk=\"SearchFeedback\" href=\"//static-assets-web.flixcart.com/fk-p-linchpin-web/fk-cp-zion/css/SearchFeedback.chunk.51a13b.css\" rel=\"stylesheet\"/> <script id=\"__LOADABLE_REQUIRED_CHUNKS__\" type=\"application/json\">[130,205]</script><script id=\"__LOADABLE_REQUIRED_CHUNKS___ext\" type=\"application/json\">{\"namedChunks\":[\"NavMenu\",\"SearchFeedback\"]}</script>\n",
       "<script async=\"\" data-chunk=\"NavMenu\" src=\"//static-assets-web.flixcart.com/fk-p-linchpin-web/fk-cp-zion/js/NavMenu.chunk.c9e9a55d.js\"></script>\n",
       "<script async=\"\" data-chunk=\"SearchFeedback\" src=\"//static-assets-web.flixcart.com/fk-p-linchpin-web/fk-cp-zion/js/SearchFeedback.chunk.a0137dae.js\"></script><script nonce=\"3330201420295177327\">window.omniture={tpv:[],tl:[]};window.omniture.trackPageView=function(){window.omniture.tpv.push(arguments)};window.omniture.trackLink=function(){window.omniture.tl.push(arguments)}\n",
       "\n",
       "    if(window.location.host === 'www.flipkart.com' || /\\.store\\.flipkart\\.com/i.test(window.location.host)){\n",
       "        window.s_account = \"flipkart-prd\"; //omniture account id\n",
       "    }else{\n",
       "        window.s_account = \"flipkart-prd-test\";\n",
       "    }\n",
       "    window.s_isDesktop = true;</script><script nonce=\"3330201420295177327\">function isMobile(){\n",
       "\t\tif (!!(navigator.userAgentData && navigator.userAgentData.mobile) || navigator.userAgent.indexOf(\"Mobile\") !== -1){\n",
       "\t\t\treturn true;\n",
       "\t\t}\n",
       "\t\telse {\n",
       "\t\t\treturn false;\n",
       "\t\t}\n",
       "\t}\n",
       "\n",
       "\tif ('serviceWorker' in navigator && !isMobile()) {\n",
       "\t\tnavigator.serviceWorker.register('/sw.js').then(function(registration) {\n",
       "\t\t\tconsole.log('ServiceWorker registration successful with scope: ', registration.scope);\n",
       "\t\t\tnavigator.onLine && navigator.serviceWorker.controller && navigator.serviceWorker.controller.postMessage('BANDWIDTH_COMPUTE');\n",
       "\t\t\tnavigator.serviceWorker.addEventListener('message', function (event) {\n",
       "\t\t\t\ttry {\n",
       "\t\t\t\t\tconst bandwidthData = JSON.parse(event.data);\n",
       "\t\t\t\t\tif (bandwidthData && bandwidthData.data) {\n",
       "\t\t\t\t\t\twindow.bandwidth = bandwidthData.data.downlink + '_' + bandwidthData.data.computeMethod + '_' + bandwidthData.data.effectiveType + '_' + bandwidthData.data.type;\n",
       "\t\t\t\t\t}\n",
       "\t\t\t\t}catch(err) {\n",
       "\t\t\t\t\tconsole.error('JSON.parse failed:', err);\n",
       "\t\t\t\t}\n",
       "\t\t\t});\n",
       "\t\t})\n",
       "\t\t.catch(function(err) {\n",
       "\t\t\tconsole.error('ServiceWorker registration failed: ', err);\n",
       "\t\t});\n",
       "\t} else if('serviceWorker' in navigator && isMobile()){\n",
       "        navigator.serviceWorker.getRegistration().then(function(registration) {\n",
       "            var serviceWorkerUnregistered=false;\n",
       "            if(registration) {\n",
       "                registration.unregister();\n",
       "                serviceWorkerUnregistered=true;\n",
       "            }\n",
       "            serviceWorkerUnregistered && window.location.reload();\n",
       "        });\n",
       "    }</script> <script async=\"\" defer=\"defer\" id=\"omni_script\" nonce=\"3330201420295177327\" src=\"///www/linchpin/batman-returns/omni/omni16.js\"></script> <script nonce=\"3330201420295177327\">window._pxAppId = 'PXgNtTli3A';</script><script async=\"\" nonce=\"3330201420295177327\" src=\"///px/gNtTli3A/init.js\"></script></body></html>"
      ]
     },
     "execution_count": 209,
     "metadata": {},
     "output_type": "execute_result"
    }
   ],
   "source": [
    "data = BeautifulSoup(res.content, 'lxml')\n",
    "data"
   ]
  },
  {
   "cell_type": "code",
   "execution_count": 210,
   "id": "54455ef6",
   "metadata": {},
   "outputs": [
    {
     "data": {
      "text/plain": [
       "bs4.BeautifulSoup"
      ]
     },
     "execution_count": 210,
     "metadata": {},
     "output_type": "execute_result"
    }
   ],
   "source": [
    "type(data)"
   ]
  },
  {
   "cell_type": "code",
   "execution_count": 211,
   "id": "d95a58a9",
   "metadata": {},
   "outputs": [
    {
     "name": "stdout",
     "output_type": "stream",
     "text": [
      "<div class=\"_4rR01T\">MSI GF63 Intel Core i5 11th Gen 11260H - (8 GB/512 GB SSD/Windows 11 Home/4 GB Graphics/NVIDIA GeForce...</div>\n",
      "\n",
      "MSI GF63 Intel Core i5 11th Gen 11260H - (8 GB/512 GB SSD/Windows 11 Home/4 GB Graphics/NVIDIA GeForce...\n"
     ]
    }
   ],
   "source": [
    "m1 = data.find('div', attrs={'class':'_4rR01T'})\n",
    "print(m1)\n",
    "print()\n",
    "print(m1.text)"
   ]
  },
  {
   "cell_type": "code",
   "execution_count": 212,
   "id": "ad813ed9",
   "metadata": {},
   "outputs": [],
   "source": [
    "laptop_names = []\n",
    "for i in data.findAll('div', attrs={'class':'_4rR01T'}):\n",
    "    laptop_names.append(i.text)"
   ]
  },
  {
   "cell_type": "code",
   "execution_count": 213,
   "id": "5a2eec6c",
   "metadata": {},
   "outputs": [
    {
     "name": "stdout",
     "output_type": "stream",
     "text": [
      "24\n"
     ]
    }
   ],
   "source": [
    "laptop_names\n",
    "print(len(laptop_names))"
   ]
  },
  {
   "cell_type": "code",
   "execution_count": 214,
   "id": "92ce38c9",
   "metadata": {},
   "outputs": [
    {
     "data": {
      "text/plain": [
       "['MSI GF63 Intel Core i5 11th Gen 11260H - (8 GB/512 GB SSD/Windows 11 Home/4 GB Graphics/NVIDIA GeForce...',\n",
       " 'MSI GF63 Intel Core i7 12th Gen 12650H - (16 GB/512 GB SSD/Windows 11 Home/8 GB Graphics/NVIDIA GeForc...',\n",
       " 'HP Intel Intel Core i3 11th Gen 1115G4 - (8 GB/256 GB SSD/Windows 11 Home) 14s - dy2507TU Thin and Lig...',\n",
       " 'DELL Intel Core i3 12th Gen 1215U - (8 GB/512 GB SSD/Windows 11 Home) New Inspiron 15 Laptop Thin and ...',\n",
       " 'ASUS Vivobook 15 Intel Core i3 11th Gen 1115G4 - (8 GB/256 GB SSD/Windows 11 Home) X515EA-EJ312W Thin ...',\n",
       " 'Acer Extensa Intel Core i3 N305 - (8 GB/512 GB SSD/Windows 11 Home) EX215-33 Notebook',\n",
       " 'MSI Modern 14 Intel Core i3 11th Gen 1115G4 - (8 GB/512 GB SSD/Windows 11 Home) Modern 14 C11M-031IN T...',\n",
       " 'MSI Katana 17 Intel Core i7 12th Gen 12650H - (16 GB/1 TB SSD/Windows 11 Home/8 GB Graphics/NVIDIA GeF...',\n",
       " 'CHUWI Intel Core i3 10th Gen 1005G1 - (8 GB/512 GB SSD/Windows 11 Home) CoreBook X Grey Laptop',\n",
       " 'Lenovo Intel Core i7 12th Gen 1255U - (16 GB/512 GB SSD/Windows 11 Home) V15 G3 IAP Thin and Light Lap...',\n",
       " 'MSI GF63 Intel Core i7 11th Gen 11800H - (16 GB/1 TB HDD/256 GB SSD/Windows 11 Home/4 GB Graphics/NVID...',\n",
       " 'MSI GF63 Intel Core i7 12th Gen 12650H - (16 GB/512 GB SSD/Windows 11 Home/6 GB Graphics/NVIDIA GeForc...',\n",
       " 'SAMSUNG Galaxy Book 2 Intel Core i5 12th Gen 1235U - (16 GB/512 GB SSD/Windows 11 Home) NP550 Thin and...',\n",
       " 'SAMSUNG Galaxy Book 2 Intel Core i5 12th Gen 1235U - (8 GB/512 GB SSD/Windows 11 Home) NP550 Thin and ...',\n",
       " 'Lenovo V15 Intel Intel Core i3 12th Gen 1215U - (8 GB/512 GB SSD/Windows 11 Home) V15 G3 IAP Thin and ...',\n",
       " 'HP AMD Ryzen 5 Quad Core R5 5500 - (8 GB/512 GB SSD/Windows 11 Home) 245 G8 Business Laptop',\n",
       " 'MSI GF63 Intel Core i7 11th Gen 11800H - (16 GB/1 TB HDD/256 GB SSD/Windows 11 Home/4 GB Graphics/NVID...',\n",
       " 'MSI GF63 Intel Core i5 11th Gen 11260H - (16 GB/1 TB HDD/256 GB SSD/Windows 11 Home/4 GB Graphics/NVID...',\n",
       " 'ASUS Vivobook Go 14 Intel Celeron Dual Core N4500 - (8 GB/256 GB SSD/Windows 11 Home) E410KA-EK013W Th...',\n",
       " 'DELL Intel Core i3 12th Gen 1215U - (8 GB/512 GB SSD/Windows 11 Home) New Inspiron 15 Laptop Thin and ...',\n",
       " 'MSI GF63 Intel Core i5 12th Gen 12450H - (16 GB/1 TB HDD/256 GB SSD/Windows 11 Home/8 GB Graphics/NVID...',\n",
       " 'MSI Intel Core i5 12th Gen 12450H - (16 GB/512 GB SSD/Windows 11 Home/6 GB Graphics/NVIDIA GeForce RTX...',\n",
       " 'HP AMD Ryzen 5 Hexa Core 5500U - (16 GB/512 GB SSD/Windows 11 Home) 15s- eq2182AU Thin and Light Lapto...',\n",
       " 'Acer Nitro 5 Intel Core i5 12th Gen 12450H - (8 GB/512 GB SSD/Windows 11 Home/4 GB Graphics/NVIDIA GeF...']"
      ]
     },
     "execution_count": 214,
     "metadata": {},
     "output_type": "execute_result"
    }
   ],
   "source": [
    "laptop_names"
   ]
  },
  {
   "cell_type": "code",
   "execution_count": 215,
   "id": "c5ad1bfd",
   "metadata": {},
   "outputs": [
    {
     "name": "stdout",
     "output_type": "stream",
     "text": [
      "<div class=\"_25b18c\"><div class=\"_30jeq3 _1_WHN1\">₹46,990</div><div class=\"_3I9_wc _27UcVY\">₹<!-- -->67,990</div><div class=\"_3Ay6Sb\"><span>30% off</span></div></div>\n",
      "₹46,990₹67,99030% off\n"
     ]
    }
   ],
   "source": [
    "m2 = data.find('div', attrs={'class':'_25b18c'})\n",
    "print(m2)\n",
    "print(m2.text)"
   ]
  },
  {
   "cell_type": "markdown",
   "id": "510b0509",
   "metadata": {},
   "source": [
    "### Method 1"
   ]
  },
  {
   "cell_type": "code",
   "execution_count": 216,
   "id": "3e01403a",
   "metadata": {},
   "outputs": [],
   "source": [
    "discount_price, original_price, percent_discount = [], [], []\n",
    "for i in data.findAll('div', attrs={'class':'_25b18c'}):\n",
    "    for idx,j in enumerate(i):\n",
    "        if idx == 0:\n",
    "            discount_price.append(j.text)\n",
    "        if idx == 1:\n",
    "            original_price.append(j.text)\n",
    "        if idx == 2:\n",
    "            percent_discount.append(j.text)"
   ]
  },
  {
   "cell_type": "code",
   "execution_count": 217,
   "id": "1de02032",
   "metadata": {},
   "outputs": [
    {
     "name": "stdout",
     "output_type": "stream",
     "text": [
      "29\n",
      "29\n",
      "24\n"
     ]
    }
   ],
   "source": [
    "print(len(discount_price))\n",
    "print(len(original_price))\n",
    "print(len(percent_discount))"
   ]
  },
  {
   "cell_type": "markdown",
   "id": "711c5fdd",
   "metadata": {},
   "source": [
    "### Method 2"
   ]
  },
  {
   "cell_type": "code",
   "execution_count": 218,
   "id": "f96c88f8",
   "metadata": {},
   "outputs": [
    {
     "name": "stdout",
     "output_type": "stream",
     "text": [
      "0 ₹46,990\n",
      "1 ₹67,990\n",
      "2 30% off\n",
      "0 ₹97,990\n",
      "1 ₹1,11,990\n",
      "2 12% off\n",
      "0 ₹31,990\n",
      "1 ₹47,279\n",
      "2 32% off\n",
      "0 ₹36,990\n",
      "1 ₹61,431\n",
      "2 39% off\n",
      "0 ₹29,990\n",
      "1 ₹44,990\n",
      "2 33% off\n",
      "0 ₹28,990\n",
      "1 ₹43,999\n",
      "2 34% off\n",
      "0 ₹28,990\n",
      "1 ₹52,990\n",
      "2 45% off\n",
      "0 ₹1,10,990\n",
      "1 ₹1,49,990\n",
      "2 26% off\n",
      "0 ₹24,990\n",
      "1 ₹49,990\n",
      "2 50% off\n",
      "0 ₹49,990\n",
      "1 ₹90,000\n",
      "2 44% off\n",
      "0 ₹66,890\n",
      "1 ₹82,990\n",
      "2 19% off\n",
      "0 ₹87,990\n",
      "1 ₹1,15,990\n",
      "2 24% off\n",
      "0 ₹48,990\n",
      "1 ₹85,990\n",
      "2 43% off\n",
      "0 ₹44,990\n",
      "1 ₹82,990\n",
      "2 45% off\n",
      "0 ₹34,500\n",
      "1 ₹59,000\n",
      "2 41% off\n",
      "0 ₹28,990\n",
      "1 ₹48,146\n",
      "2 39% off\n",
      "0 ₹59,990\n",
      "1 ₹81,990\n",
      "2 26% off\n",
      "0 ₹57,990\n",
      "1 ₹84,990\n",
      "2 31% off\n",
      "0 ₹23,990\n",
      "1 ₹36,990\n",
      "2 35% off\n",
      "0 ₹38,480\n",
      "1 ₹62,561\n",
      "2 38% off\n",
      "0 ₹86,990\n",
      "1 ₹1,11,990\n",
      "2 22% off\n",
      "0 ₹69,990\n",
      "1 ₹1,14,990\n",
      "2 39% off\n",
      "0 ₹46,490\n",
      "1 ₹59,109\n",
      "2 21% off\n",
      "0 ₹62,990\n",
      "1 ₹96,999\n",
      "2 35% off\n",
      "0 ₹24,990\n",
      "1 50% off\n",
      "0 ₹57,990\n",
      "1 31% off\n",
      "0 ₹86,990\n",
      "1 22% off\n",
      "0 ₹29,990\n",
      "1 33% off\n",
      "0 ₹59,990\n",
      "1 26% off\n"
     ]
    }
   ],
   "source": [
    "for i in data.findAll('div', attrs={'class':'_25b18c'}):\n",
    "    for idx,j in enumerate(i.children):\n",
    "        print(idx, j.text)"
   ]
  },
  {
   "cell_type": "code",
   "execution_count": null,
   "id": "dbb1b1a8",
   "metadata": {},
   "outputs": [],
   "source": []
  },
  {
   "cell_type": "code",
   "execution_count": 219,
   "id": "f7c59d51",
   "metadata": {},
   "outputs": [
    {
     "name": "stdout",
     "output_type": "stream",
     "text": [
      "24\n",
      "24\n",
      "24\n",
      "24\n"
     ]
    }
   ],
   "source": [
    "discount_price = discount_price[:24]\n",
    "original_price = original_price[:24]\n",
    "print(len(discount_price))\n",
    "print(len(original_price))\n",
    "print(len(percent_discount))\n",
    "print(len(laptop_names))"
   ]
  },
  {
   "cell_type": "markdown",
   "id": "49b6f298",
   "metadata": {},
   "source": [
    "### Avg rating and total number of reviews"
   ]
  },
  {
   "cell_type": "code",
   "execution_count": 220,
   "id": "efe9d30f",
   "metadata": {},
   "outputs": [],
   "source": [
    "#<div class=\"gUuXy-\"><span id=\"productRating_LSTCOMGQHRQZSPVRDZEQTPAAX_COMGQHRQZSPVRDZE_\" class=\"_1lRcqv\"><div class=\"_3LWZlK\">4.1<img src=\"data:image/svg+xml;base64,PHN2ZyB4bWxucz0iaHR0cDovL3d3dy53My5vcmcvMjAwMC9zdmciIHdpZHRoPSIxMyIgaGVpZ2h0PSIxMiI+PHBhdGggZmlsbD0iI0ZGRiIgZD0iTTYuNSA5LjQzOWwtMy42NzQgMi4yMy45NC00LjI2LTMuMjEtMi44ODMgNC4yNTQtLjQwNEw2LjUuMTEybDEuNjkgNC4wMSA0LjI1NC40MDQtMy4yMSAyLjg4Mi45NCA0LjI2eiIvPjwvc3ZnPg==\" class=\"_1wB99o\"></div></span><span class=\"_2_R_DZ\"><span><span>803 Ratings&nbsp;</span><span class=\"_13vcmD\">&amp;</span><span>&nbsp;146 Reviews</span></span></span></div>"
   ]
  },
  {
   "cell_type": "code",
   "execution_count": 221,
   "id": "c62d198b",
   "metadata": {},
   "outputs": [
    {
     "name": "stdout",
     "output_type": "stream",
     "text": [
      "<div class=\"gUuXy-\"><span class=\"_1lRcqv\" id=\"productRating_LSTCOMGRDC8SWJGGTZCDYO4OJ_COMGRDC8SWJGGTZC_\"><div class=\"_3LWZlK\">4.3<img class=\"_1wB99o\" src=\"data:image/svg+xml;base64,PHN2ZyB4bWxucz0iaHR0cDovL3d3dy53My5vcmcvMjAwMC9zdmciIHdpZHRoPSIxMyIgaGVpZ2h0PSIxMiI+PHBhdGggZmlsbD0iI0ZGRiIgZD0iTTYuNSA5LjQzOWwtMy42NzQgMi4yMy45NC00LjI2LTMuMjEtMi44ODMgNC4yNTQtLjQwNEw2LjUuMTEybDEuNjkgNC4wMSA0LjI1NC40MDQtMy4yMSAyLjg4Mi45NCA0LjI2eiIvPjwvc3ZnPg==\"/></div></span><span class=\"_2_R_DZ\"><span><span>490 Ratings </span><span class=\"_13vcmD\">&amp;</span><span> 45 Reviews</span></span></span></div>\n",
      "\n",
      "4.3490 Ratings & 45 Reviews\n"
     ]
    }
   ],
   "source": [
    "m3 = data.find('div', attrs={'class':'gUuXy-'})\n",
    "print(m3)\n",
    "print()\n",
    "print(m3.text)"
   ]
  },
  {
   "cell_type": "code",
   "execution_count": 222,
   "id": "e8cae88a",
   "metadata": {},
   "outputs": [],
   "source": [
    "avg_rating, rating_review = [], []\n",
    "for i in data.findAll('div', attrs={'class':'gUuXy-'}):\n",
    "    for idx,j in enumerate(i.children):\n",
    "        if idx==0:\n",
    "            avg_rating.append(j.text)\n",
    "        if idx==1:\n",
    "            rating_review.append(j.text)\n",
    "            "
   ]
  },
  {
   "cell_type": "code",
   "execution_count": 223,
   "id": "b5aae513",
   "metadata": {},
   "outputs": [
    {
     "name": "stdout",
     "output_type": "stream",
     "text": [
      "24\n",
      "24\n"
     ]
    }
   ],
   "source": [
    "print(len(avg_rating))\n",
    "print(len(rating_review))"
   ]
  },
  {
   "cell_type": "code",
   "execution_count": 224,
   "id": "b95a32cf",
   "metadata": {},
   "outputs": [
    {
     "name": "stdout",
     "output_type": "stream",
     "text": [
      "['4.3', '3.9', '4.3', '4.2', '4.3', '4.2', '4.3', '5', '4.1', '4', '4.3', '4.3', '4.3', '4.3', '4.2', '3.3', '4.3', '4.3', '4.3', '4.2', '4.3', '3.6', '4.3', '4.3']\n"
     ]
    }
   ],
   "source": [
    "print(avg_rating)"
   ]
  },
  {
   "cell_type": "code",
   "execution_count": 225,
   "id": "d790e1d5",
   "metadata": {},
   "outputs": [
    {
     "name": "stdout",
     "output_type": "stream",
     "text": [
      "['490 Ratings\\xa0&\\xa045 Reviews', '7 Ratings\\xa0&\\xa00 Reviews', '11,242 Ratings\\xa0&\\xa0886 Reviews', '879 Ratings\\xa0&\\xa0109 Reviews', '11,615 Ratings\\xa0&\\xa01,051 Reviews', '328 Ratings\\xa0&\\xa048 Reviews', '2,112 Ratings\\xa0&\\xa0258 Reviews', '13 Ratings\\xa0&\\xa05 Reviews', '803 Ratings\\xa0&\\xa0146 Reviews', '708 Ratings\\xa0&\\xa060 Reviews', '842 Ratings\\xa0&\\xa091 Reviews', '52 Ratings\\xa0&\\xa03 Reviews', '1,677 Ratings\\xa0&\\xa0168 Reviews', '1,677 Ratings\\xa0&\\xa0168 Reviews', '101 Ratings\\xa0&\\xa05 Reviews', '15 Ratings\\xa0&\\xa01 Reviews', '150 Ratings\\xa0&\\xa016 Reviews', '273 Ratings\\xa0&\\xa032 Reviews', '75 Ratings\\xa0&\\xa02 Reviews', '318 Ratings\\xa0&\\xa030 Reviews', '55 Ratings\\xa0&\\xa09 Reviews', '5 Ratings\\xa0&\\xa01 Reviews', '2,391 Ratings\\xa0&\\xa0206 Reviews', '493 Ratings\\xa0&\\xa047 Reviews']\n"
     ]
    }
   ],
   "source": [
    "print(rating_review)"
   ]
  },
  {
   "cell_type": "code",
   "execution_count": 226,
   "id": "5bc852bb",
   "metadata": {},
   "outputs": [
    {
     "name": "stdout",
     "output_type": "stream",
     "text": [
      "['490 ', '7 ', '11,242 ', '879 ', '11,615 ', '328 ', '2,112 ', '13 ', '803 ', '708 ', '842 ', '52 ', '1,677 ', '1,677 ', '101 ', '15 ', '150 ', '273 ', '75 ', '318 ', '55 ', '5 ', '2,391 ', '493 ']\n",
      "\n",
      "24\n"
     ]
    }
   ],
   "source": [
    "total_rating = [i[:i.index('Ratings')] for i in rating_review]\n",
    "print(total_rating)\n",
    "print()\n",
    "print(len(total_rating))"
   ]
  },
  {
   "cell_type": "code",
   "execution_count": 227,
   "id": "54124c8d",
   "metadata": {},
   "outputs": [
    {
     "name": "stdout",
     "output_type": "stream",
     "text": [
      "['Ratings\\xa0&\\xa045 ', 'Ratings\\xa0&\\xa00 ', 'Ratings\\xa0&\\xa0886 ', 'Ratings\\xa0&\\xa0109 ', 'Ratings\\xa0&\\xa01,051 ', 'Ratings\\xa0&\\xa048 ', 'Ratings\\xa0&\\xa0258 ', 'Ratings\\xa0&\\xa05 ', 'Ratings\\xa0&\\xa0146 ', 'Ratings\\xa0&\\xa060 ', 'Ratings\\xa0&\\xa091 ', 'Ratings\\xa0&\\xa03 ', 'Ratings\\xa0&\\xa0168 ', 'Ratings\\xa0&\\xa0168 ', 'Ratings\\xa0&\\xa05 ', 'Ratings\\xa0&\\xa01 ', 'Ratings\\xa0&\\xa016 ', 'Ratings\\xa0&\\xa032 ', 'Ratings\\xa0&\\xa02 ', 'Ratings\\xa0&\\xa030 ', 'Ratings\\xa0&\\xa09 ', 'Ratings\\xa0&\\xa01 ', 'Ratings\\xa0&\\xa0206 ', 'Ratings\\xa0&\\xa047 ']\n",
      "\n",
      "24\n"
     ]
    }
   ],
   "source": [
    "r1 = [i[i.index('Ratings'):i.index('Reviews')] for i in rating_review]\n",
    "print(r1)\n",
    "print()\n",
    "print(len(r1))"
   ]
  },
  {
   "cell_type": "code",
   "execution_count": 228,
   "id": "4b61cb25",
   "metadata": {},
   "outputs": [
    {
     "name": "stdout",
     "output_type": "stream",
     "text": [
      "['\\xa045 ', '&\\xa00 ', '886 ', '109 ', '051 ', '\\xa048 ', '258 ', '&\\xa05 ', '146 ', '\\xa060 ', '\\xa091 ', '&\\xa03 ', '168 ', '168 ', '&\\xa05 ', '&\\xa01 ', '\\xa016 ', '\\xa032 ', '&\\xa02 ', '\\xa030 ', '&\\xa09 ', '&\\xa01 ', '206 ', '\\xa047 ']\n"
     ]
    }
   ],
   "source": [
    "r2 = [i[-4:] for i in r1]\n",
    "print(r2)"
   ]
  },
  {
   "cell_type": "code",
   "execution_count": 229,
   "id": "a8f499d5",
   "metadata": {},
   "outputs": [
    {
     "name": "stdout",
     "output_type": "stream",
     "text": [
      "['\\xa045 ', '\\xa00 ', '886 ', '109 ', '051 ', '\\xa048 ', '258 ', '\\xa05 ', '146 ', '\\xa060 ', '\\xa091 ', '\\xa03 ', '168 ', '168 ', '\\xa05 ', '\\xa01 ', '\\xa016 ', '\\xa032 ', '\\xa02 ', '\\xa030 ', '\\xa09 ', '\\xa01 ', '206 ', '\\xa047 ']\n"
     ]
    }
   ],
   "source": [
    "r2 = [i.replace('&', '') for i in r2]\n",
    "print(r2)"
   ]
  },
  {
   "cell_type": "code",
   "execution_count": 230,
   "id": "1dc1b451",
   "metadata": {},
   "outputs": [
    {
     "name": "stdout",
     "output_type": "stream",
     "text": [
      "[45, 0, 886, 109, 51, 48, 258, 5, 146, 60, 91, 3, 168, 168, 5, 1, 16, 32, 2, 30, 9, 1, 206, 47]\n"
     ]
    }
   ],
   "source": [
    "review = [int(i) for i in r2]\n",
    "print(review)"
   ]
  },
  {
   "cell_type": "code",
   "execution_count": 231,
   "id": "4b6cf6c6",
   "metadata": {},
   "outputs": [
    {
     "data": {
      "text/plain": [
       "24"
      ]
     },
     "execution_count": 231,
     "metadata": {},
     "output_type": "execute_result"
    }
   ],
   "source": [
    "len(review)"
   ]
  },
  {
   "cell_type": "code",
   "execution_count": 232,
   "id": "2f525192",
   "metadata": {},
   "outputs": [
    {
     "name": "stdout",
     "output_type": "stream",
     "text": [
      "['MSI', 'MSI', 'HP', 'DELL', 'ASUS', 'Acer', 'MSI', 'MSI', 'CHUWI', 'Lenovo', 'MSI', 'MSI', 'SAMSUNG', 'SAMSUNG', 'Lenovo', 'HP', 'MSI', 'MSI', 'ASUS', 'DELL', 'MSI', 'MSI', 'HP', 'Acer']\n"
     ]
    }
   ],
   "source": [
    "brand_name = [i.split()[0] for i in laptop_names]\n",
    "print(brand_name)"
   ]
  },
  {
   "cell_type": "code",
   "execution_count": 233,
   "id": "7b5537f4",
   "metadata": {},
   "outputs": [],
   "source": [
    "df = pd.DataFrame({'Laptop_Name': laptop_names, 'Brand_Name':brand_name ,'Discounted_Price': discount_price, 'Org_Price':original_price,\n",
    "                  '%Discount':percent_discount, 'Avg_Rating': avg_rating, 'Total_Ratings': total_rating, 'Total_Reviws': reviews})"
   ]
  },
  {
   "cell_type": "code",
   "execution_count": 234,
   "id": "62c916b8",
   "metadata": {},
   "outputs": [
    {
     "data": {
      "text/html": [
       "<div>\n",
       "<style scoped>\n",
       "    .dataframe tbody tr th:only-of-type {\n",
       "        vertical-align: middle;\n",
       "    }\n",
       "\n",
       "    .dataframe tbody tr th {\n",
       "        vertical-align: top;\n",
       "    }\n",
       "\n",
       "    .dataframe thead th {\n",
       "        text-align: right;\n",
       "    }\n",
       "</style>\n",
       "<table border=\"1\" class=\"dataframe\">\n",
       "  <thead>\n",
       "    <tr style=\"text-align: right;\">\n",
       "      <th></th>\n",
       "      <th>Laptop_Name</th>\n",
       "      <th>Brand_Name</th>\n",
       "      <th>Discounted_Price</th>\n",
       "      <th>Org_Price</th>\n",
       "      <th>%Discount</th>\n",
       "      <th>Avg_Rating</th>\n",
       "      <th>Total_Ratings</th>\n",
       "      <th>Total_Reviws</th>\n",
       "    </tr>\n",
       "  </thead>\n",
       "  <tbody>\n",
       "    <tr>\n",
       "      <th>0</th>\n",
       "      <td>MSI GF63 Intel Core i5 11th Gen 11260H - (8 GB...</td>\n",
       "      <td>MSI</td>\n",
       "      <td>₹46,990</td>\n",
       "      <td>₹67,990</td>\n",
       "      <td>30% off</td>\n",
       "      <td>4.3</td>\n",
       "      <td>490</td>\n",
       "      <td>146</td>\n",
       "    </tr>\n",
       "    <tr>\n",
       "      <th>1</th>\n",
       "      <td>MSI GF63 Intel Core i7 12th Gen 12650H - (16 G...</td>\n",
       "      <td>MSI</td>\n",
       "      <td>₹97,990</td>\n",
       "      <td>₹1,11,990</td>\n",
       "      <td>12% off</td>\n",
       "      <td>3.9</td>\n",
       "      <td>7</td>\n",
       "      <td>323</td>\n",
       "    </tr>\n",
       "    <tr>\n",
       "      <th>2</th>\n",
       "      <td>HP Intel Intel Core i3 11th Gen 1115G4 - (8 GB...</td>\n",
       "      <td>HP</td>\n",
       "      <td>₹31,990</td>\n",
       "      <td>₹47,279</td>\n",
       "      <td>32% off</td>\n",
       "      <td>4.3</td>\n",
       "      <td>11,242</td>\n",
       "      <td>886</td>\n",
       "    </tr>\n",
       "    <tr>\n",
       "      <th>3</th>\n",
       "      <td>DELL Intel Core i3 12th Gen 1215U - (8 GB/512 ...</td>\n",
       "      <td>DELL</td>\n",
       "      <td>₹36,990</td>\n",
       "      <td>₹61,431</td>\n",
       "      <td>39% off</td>\n",
       "      <td>4.2</td>\n",
       "      <td>879</td>\n",
       "      <td>105</td>\n",
       "    </tr>\n",
       "    <tr>\n",
       "      <th>4</th>\n",
       "      <td>ASUS Vivobook 15 Intel Core i3 11th Gen 1115G4...</td>\n",
       "      <td>ASUS</td>\n",
       "      <td>₹29,990</td>\n",
       "      <td>₹44,990</td>\n",
       "      <td>33% off</td>\n",
       "      <td>4.3</td>\n",
       "      <td>11,615</td>\n",
       "      <td>48</td>\n",
       "    </tr>\n",
       "  </tbody>\n",
       "</table>\n",
       "</div>"
      ],
      "text/plain": [
       "                                         Laptop_Name Brand_Name  \\\n",
       "0  MSI GF63 Intel Core i5 11th Gen 11260H - (8 GB...        MSI   \n",
       "1  MSI GF63 Intel Core i7 12th Gen 12650H - (16 G...        MSI   \n",
       "2  HP Intel Intel Core i3 11th Gen 1115G4 - (8 GB...         HP   \n",
       "3  DELL Intel Core i3 12th Gen 1215U - (8 GB/512 ...       DELL   \n",
       "4  ASUS Vivobook 15 Intel Core i3 11th Gen 1115G4...       ASUS   \n",
       "\n",
       "  Discounted_Price  Org_Price %Discount Avg_Rating Total_Ratings  Total_Reviws  \n",
       "0          ₹46,990    ₹67,990   30% off        4.3          490            146  \n",
       "1          ₹97,990  ₹1,11,990   12% off        3.9            7            323  \n",
       "2          ₹31,990    ₹47,279   32% off        4.3       11,242            886  \n",
       "3          ₹36,990    ₹61,431   39% off        4.2          879            105  \n",
       "4          ₹29,990    ₹44,990   33% off        4.3       11,615             48  "
      ]
     },
     "execution_count": 234,
     "metadata": {},
     "output_type": "execute_result"
    }
   ],
   "source": [
    "df.head()"
   ]
  },
  {
   "cell_type": "code",
   "execution_count": 235,
   "id": "37dae345",
   "metadata": {},
   "outputs": [
    {
     "name": "stdout",
     "output_type": "stream",
     "text": [
      "<ul class=\"_1xgFaf\"><li class=\"rgWa7D\">Intel Core i5 Processor (11th Gen)</li><li class=\"rgWa7D\">8 GB DDR4 RAM</li><li class=\"rgWa7D\">Windows 11 Operating System</li><li class=\"rgWa7D\">512 GB SSD</li><li class=\"rgWa7D\">39.62 cm (15.6 Inch) Display</li><li class=\"rgWa7D\">2 Year Carry-in Warranty</li></ul>\n",
      "Intel Core i5 Processor (11th Gen)8 GB DDR4 RAMWindows 11 Operating System512 GB SSD39.62 cm (15.6 Inch) Display2 Year Carry-in Warranty\n"
     ]
    }
   ],
   "source": [
    "m5 = data.find('ul', attrs={'class':'_1xgFaf'})\n",
    "print(m5)\n",
    "print(m5.text)"
   ]
  },
  {
   "cell_type": "code",
   "execution_count": 238,
   "id": "d159ad7a",
   "metadata": {},
   "outputs": [],
   "source": [
    "config = []\n",
    "for i in data.findAll('ul', attrs={'class':'_1xgFaf'}):\n",
    "    config.append(i.text)"
   ]
  },
  {
   "cell_type": "code",
   "execution_count": 239,
   "id": "8e159520",
   "metadata": {},
   "outputs": [
    {
     "data": {
      "text/plain": [
       "24"
      ]
     },
     "execution_count": 239,
     "metadata": {},
     "output_type": "execute_result"
    }
   ],
   "source": [
    "len(config)"
   ]
  },
  {
   "cell_type": "code",
   "execution_count": 249,
   "id": "0d9a4120",
   "metadata": {},
   "outputs": [],
   "source": [
    "proc, ram, os = [], [], []\n",
    "for i in data.findAll('ul', attrs={'class':'_1xgFaf'}):\n",
    "    for idx,j in enumerate(i.children):\n",
    "        if idx == 0:\n",
    "            proc.append(j.text)\n",
    "        elif idx==1:\n",
    "            ram.append(j.text)"
   ]
  },
  {
   "cell_type": "code",
   "execution_count": 251,
   "id": "52104813",
   "metadata": {},
   "outputs": [
    {
     "data": {
      "text/plain": [
       "['8 GB DDR4 RAM',\n",
       " '16 GB DDR4 RAM',\n",
       " '8 GB DDR4 RAM',\n",
       " 'RAM & Storage: 8GB DDR4 & 512GB SSD',\n",
       " '8 GB DDR4 RAM',\n",
       " '8 GB LPDDR5 RAM',\n",
       " '8 GB DDR4 RAM',\n",
       " '16 GB DDR5 RAM',\n",
       " 'Intel Core i3 Processor (10th Gen)',\n",
       " '16 GB DDR4 RAM',\n",
       " '16 GB DDR4 RAM',\n",
       " '16 GB DDR4 RAM',\n",
       " '16 GB DDR4 RAM',\n",
       " '8 GB DDR4 RAM',\n",
       " '8 GB DDR4 RAM',\n",
       " '8 GB DDR4 RAM',\n",
       " '16 GB DDR4 RAM',\n",
       " '16 GB DDR4 RAM',\n",
       " '8 GB DDR4 RAM',\n",
       " '8 GB DDR4 RAM',\n",
       " '16 GB DDR4 RAM',\n",
       " '16 GB DDR4 RAM',\n",
       " '16 GB DDR4 RAM',\n",
       " '8 GB DDR4 RAM']"
      ]
     },
     "execution_count": 251,
     "metadata": {},
     "output_type": "execute_result"
    }
   ],
   "source": [
    "ram"
   ]
  },
  {
   "cell_type": "code",
   "execution_count": 252,
   "id": "6f66f323",
   "metadata": {},
   "outputs": [],
   "source": [
    "ram = [i.replace('RAM & Storage: 8GB DDR4 & 512GB SSD','8 GB DDR4 RAM') for i in ram]"
   ]
  },
  {
   "cell_type": "code",
   "execution_count": 255,
   "id": "4f254e7e",
   "metadata": {},
   "outputs": [],
   "source": [
    "ram = [i.replace('Intel Core i3 Processor (10th Gen)','8 GB DDR4 RAM') for i in ram]"
   ]
  },
  {
   "cell_type": "code",
   "execution_count": 256,
   "id": "2254a31a",
   "metadata": {},
   "outputs": [
    {
     "data": {
      "text/plain": [
       "['8 GB DDR4 RAM',\n",
       " '16 GB DDR4 RAM',\n",
       " '8 GB DDR4 RAM',\n",
       " '8 GB DDR4 RAM',\n",
       " '8 GB DDR4 RAM',\n",
       " '8 GB LPDDR5 RAM',\n",
       " '8 GB DDR4 RAM',\n",
       " '16 GB DDR5 RAM',\n",
       " '8 GB DDR4 RAM',\n",
       " '16 GB DDR4 RAM',\n",
       " '16 GB DDR4 RAM',\n",
       " '16 GB DDR4 RAM',\n",
       " '16 GB DDR4 RAM',\n",
       " '8 GB DDR4 RAM',\n",
       " '8 GB DDR4 RAM',\n",
       " '8 GB DDR4 RAM',\n",
       " '16 GB DDR4 RAM',\n",
       " '16 GB DDR4 RAM',\n",
       " '8 GB DDR4 RAM',\n",
       " '8 GB DDR4 RAM',\n",
       " '16 GB DDR4 RAM',\n",
       " '16 GB DDR4 RAM',\n",
       " '16 GB DDR4 RAM',\n",
       " '8 GB DDR4 RAM']"
      ]
     },
     "execution_count": 256,
     "metadata": {},
     "output_type": "execute_result"
    }
   ],
   "source": [
    "ram"
   ]
  },
  {
   "cell_type": "code",
   "execution_count": 257,
   "id": "b532abbe",
   "metadata": {},
   "outputs": [
    {
     "data": {
      "text/plain": [
       "['Intel Core i5 Processor (11th Gen)',\n",
       " 'Intel Core i7 Processor (12th Gen)',\n",
       " 'Intel Core i3 Processor (11th Gen)',\n",
       " 'Processor: Intel i3-1215U (Base- 0.9 GHz & Turbo up to 4.40 GHz) 6 Cores',\n",
       " 'Intel Core i3 Processor (11th Gen)',\n",
       " 'Intel Core i3 Processor',\n",
       " 'Intel Core i3 Processor (11th Gen)',\n",
       " 'Intel Core i7 Processor (12th Gen)',\n",
       " 'Stylish, Thin and Portable Light Weight Laptop\\nProcessor: Intel Core i3-1005G1 (Base 1.20 GHz & Turbo upto 3.40 GHz) 2 Cores\\nRAM/Storage: 8GB DDR4, 512GB SSD\\nDisplay: 14.0\" FHD 280 nits\\nTouchpad: Larger Touchpad with easy control\\nKeyboard: Chiclet keyboard keys',\n",
       " 'Intel Core i7 Processor (12th Gen)',\n",
       " 'Intel Core i7 Processor (11th Gen)',\n",
       " 'Intel Core i7 Processor (12th Gen)',\n",
       " 'Intel Core i5 Processor (12th Gen)',\n",
       " 'Intel Core i5 Processor (12th Gen)',\n",
       " 'Intel Core i3 Processor (12th Gen)',\n",
       " 'AMD Ryzen 5 Quad Core Processor',\n",
       " 'Intel Core i7 Processor (11th Gen)',\n",
       " 'Intel Core i5 Processor (11th Gen)',\n",
       " 'Intel Celeron Dual Core Processor',\n",
       " 'Intel Core i3 Processor (12th Gen)',\n",
       " 'Intel Core i5 Processor (12th Gen)',\n",
       " 'Intel Core i5 Processor (12th Gen)',\n",
       " 'AMD Ryzen 5 Hexa Core Processor',\n",
       " 'Intel Core i5 Processor (12th Gen)']"
      ]
     },
     "execution_count": 257,
     "metadata": {},
     "output_type": "execute_result"
    }
   ],
   "source": [
    "proc"
   ]
  },
  {
   "cell_type": "code",
   "execution_count": 258,
   "id": "3ce08af7",
   "metadata": {},
   "outputs": [],
   "source": [
    "proc = [i.replace('Stylish, Thin and Portable Light Weight Laptop\\nProcessor: Intel Core i3-1005G1 (Base 1.20 GHz & Turbo upto 3.40 GHz) 2 Cores\\nRAM/Storage: 8GB DDR4, 512GB SSD\\nDisplay: 14.0\" FHD 280 nits\\nTouchpad: Larger Touchpad with easy control\\nKeyboard: Chiclet keyboard keys', 'Intel Core i3-1005G1') for i in proc]"
   ]
  },
  {
   "cell_type": "code",
   "execution_count": 259,
   "id": "c04ffbaf",
   "metadata": {},
   "outputs": [
    {
     "data": {
      "text/plain": [
       "['Intel Core i5 Processor (11th Gen)',\n",
       " 'Intel Core i7 Processor (12th Gen)',\n",
       " 'Intel Core i3 Processor (11th Gen)',\n",
       " 'Processor: Intel i3-1215U (Base- 0.9 GHz & Turbo up to 4.40 GHz) 6 Cores',\n",
       " 'Intel Core i3 Processor (11th Gen)',\n",
       " 'Intel Core i3 Processor',\n",
       " 'Intel Core i3 Processor (11th Gen)',\n",
       " 'Intel Core i7 Processor (12th Gen)',\n",
       " 'Intel Core i3-1005G1',\n",
       " 'Intel Core i7 Processor (12th Gen)',\n",
       " 'Intel Core i7 Processor (11th Gen)',\n",
       " 'Intel Core i7 Processor (12th Gen)',\n",
       " 'Intel Core i5 Processor (12th Gen)',\n",
       " 'Intel Core i5 Processor (12th Gen)',\n",
       " 'Intel Core i3 Processor (12th Gen)',\n",
       " 'AMD Ryzen 5 Quad Core Processor',\n",
       " 'Intel Core i7 Processor (11th Gen)',\n",
       " 'Intel Core i5 Processor (11th Gen)',\n",
       " 'Intel Celeron Dual Core Processor',\n",
       " 'Intel Core i3 Processor (12th Gen)',\n",
       " 'Intel Core i5 Processor (12th Gen)',\n",
       " 'Intel Core i5 Processor (12th Gen)',\n",
       " 'AMD Ryzen 5 Hexa Core Processor',\n",
       " 'Intel Core i5 Processor (12th Gen)']"
      ]
     },
     "execution_count": 259,
     "metadata": {},
     "output_type": "execute_result"
    }
   ],
   "source": [
    "proc"
   ]
  },
  {
   "cell_type": "code",
   "execution_count": 260,
   "id": "194360bf",
   "metadata": {},
   "outputs": [],
   "source": [
    "df['Processor'] = proc\n",
    "df['Ram'] = ram"
   ]
  },
  {
   "cell_type": "code",
   "execution_count": 261,
   "id": "d99279b5",
   "metadata": {},
   "outputs": [
    {
     "data": {
      "text/html": [
       "<div>\n",
       "<style scoped>\n",
       "    .dataframe tbody tr th:only-of-type {\n",
       "        vertical-align: middle;\n",
       "    }\n",
       "\n",
       "    .dataframe tbody tr th {\n",
       "        vertical-align: top;\n",
       "    }\n",
       "\n",
       "    .dataframe thead th {\n",
       "        text-align: right;\n",
       "    }\n",
       "</style>\n",
       "<table border=\"1\" class=\"dataframe\">\n",
       "  <thead>\n",
       "    <tr style=\"text-align: right;\">\n",
       "      <th></th>\n",
       "      <th>Laptop_Name</th>\n",
       "      <th>Brand_Name</th>\n",
       "      <th>Discounted_Price</th>\n",
       "      <th>Org_Price</th>\n",
       "      <th>%Discount</th>\n",
       "      <th>Avg_Rating</th>\n",
       "      <th>Total_Ratings</th>\n",
       "      <th>Total_Reviws</th>\n",
       "      <th>Processor</th>\n",
       "      <th>Ram</th>\n",
       "    </tr>\n",
       "  </thead>\n",
       "  <tbody>\n",
       "    <tr>\n",
       "      <th>0</th>\n",
       "      <td>MSI GF63 Intel Core i5 11th Gen 11260H - (8 GB...</td>\n",
       "      <td>MSI</td>\n",
       "      <td>₹46,990</td>\n",
       "      <td>₹67,990</td>\n",
       "      <td>30% off</td>\n",
       "      <td>4.3</td>\n",
       "      <td>490</td>\n",
       "      <td>146</td>\n",
       "      <td>Intel Core i5 Processor (11th Gen)</td>\n",
       "      <td>8 GB DDR4 RAM</td>\n",
       "    </tr>\n",
       "    <tr>\n",
       "      <th>1</th>\n",
       "      <td>MSI GF63 Intel Core i7 12th Gen 12650H - (16 G...</td>\n",
       "      <td>MSI</td>\n",
       "      <td>₹97,990</td>\n",
       "      <td>₹1,11,990</td>\n",
       "      <td>12% off</td>\n",
       "      <td>3.9</td>\n",
       "      <td>7</td>\n",
       "      <td>323</td>\n",
       "      <td>Intel Core i7 Processor (12th Gen)</td>\n",
       "      <td>16 GB DDR4 RAM</td>\n",
       "    </tr>\n",
       "    <tr>\n",
       "      <th>2</th>\n",
       "      <td>HP Intel Intel Core i3 11th Gen 1115G4 - (8 GB...</td>\n",
       "      <td>HP</td>\n",
       "      <td>₹31,990</td>\n",
       "      <td>₹47,279</td>\n",
       "      <td>32% off</td>\n",
       "      <td>4.3</td>\n",
       "      <td>11,242</td>\n",
       "      <td>886</td>\n",
       "      <td>Intel Core i3 Processor (11th Gen)</td>\n",
       "      <td>8 GB DDR4 RAM</td>\n",
       "    </tr>\n",
       "    <tr>\n",
       "      <th>3</th>\n",
       "      <td>DELL Intel Core i3 12th Gen 1215U - (8 GB/512 ...</td>\n",
       "      <td>DELL</td>\n",
       "      <td>₹36,990</td>\n",
       "      <td>₹61,431</td>\n",
       "      <td>39% off</td>\n",
       "      <td>4.2</td>\n",
       "      <td>879</td>\n",
       "      <td>105</td>\n",
       "      <td>Processor: Intel i3-1215U (Base- 0.9 GHz &amp; Tur...</td>\n",
       "      <td>8 GB DDR4 RAM</td>\n",
       "    </tr>\n",
       "    <tr>\n",
       "      <th>4</th>\n",
       "      <td>ASUS Vivobook 15 Intel Core i3 11th Gen 1115G4...</td>\n",
       "      <td>ASUS</td>\n",
       "      <td>₹29,990</td>\n",
       "      <td>₹44,990</td>\n",
       "      <td>33% off</td>\n",
       "      <td>4.3</td>\n",
       "      <td>11,615</td>\n",
       "      <td>48</td>\n",
       "      <td>Intel Core i3 Processor (11th Gen)</td>\n",
       "      <td>8 GB DDR4 RAM</td>\n",
       "    </tr>\n",
       "  </tbody>\n",
       "</table>\n",
       "</div>"
      ],
      "text/plain": [
       "                                         Laptop_Name Brand_Name  \\\n",
       "0  MSI GF63 Intel Core i5 11th Gen 11260H - (8 GB...        MSI   \n",
       "1  MSI GF63 Intel Core i7 12th Gen 12650H - (16 G...        MSI   \n",
       "2  HP Intel Intel Core i3 11th Gen 1115G4 - (8 GB...         HP   \n",
       "3  DELL Intel Core i3 12th Gen 1215U - (8 GB/512 ...       DELL   \n",
       "4  ASUS Vivobook 15 Intel Core i3 11th Gen 1115G4...       ASUS   \n",
       "\n",
       "  Discounted_Price  Org_Price %Discount Avg_Rating Total_Ratings  \\\n",
       "0          ₹46,990    ₹67,990   30% off        4.3          490    \n",
       "1          ₹97,990  ₹1,11,990   12% off        3.9            7    \n",
       "2          ₹31,990    ₹47,279   32% off        4.3       11,242    \n",
       "3          ₹36,990    ₹61,431   39% off        4.2          879    \n",
       "4          ₹29,990    ₹44,990   33% off        4.3       11,615    \n",
       "\n",
       "   Total_Reviws                                          Processor  \\\n",
       "0           146                 Intel Core i5 Processor (11th Gen)   \n",
       "1           323                 Intel Core i7 Processor (12th Gen)   \n",
       "2           886                 Intel Core i3 Processor (11th Gen)   \n",
       "3           105  Processor: Intel i3-1215U (Base- 0.9 GHz & Tur...   \n",
       "4            48                 Intel Core i3 Processor (11th Gen)   \n",
       "\n",
       "              Ram  \n",
       "0   8 GB DDR4 RAM  \n",
       "1  16 GB DDR4 RAM  \n",
       "2   8 GB DDR4 RAM  \n",
       "3   8 GB DDR4 RAM  \n",
       "4   8 GB DDR4 RAM  "
      ]
     },
     "execution_count": 261,
     "metadata": {},
     "output_type": "execute_result"
    }
   ],
   "source": [
    "df.head()"
   ]
  },
  {
   "cell_type": "code",
   "execution_count": 262,
   "id": "d19f7011",
   "metadata": {},
   "outputs": [],
   "source": [
    "df.to_csv('Flipkart_Laptops')"
   ]
  },
  {
   "cell_type": "code",
   "execution_count": null,
   "id": "0ee2a1c6",
   "metadata": {},
   "outputs": [],
   "source": []
  },
  {
   "cell_type": "code",
   "execution_count": 388,
   "id": "576443bc",
   "metadata": {},
   "outputs": [
    {
     "data": {
      "text/html": [
       "<div>\n",
       "<style scoped>\n",
       "    .dataframe tbody tr th:only-of-type {\n",
       "        vertical-align: middle;\n",
       "    }\n",
       "\n",
       "    .dataframe tbody tr th {\n",
       "        vertical-align: top;\n",
       "    }\n",
       "\n",
       "    .dataframe thead th {\n",
       "        text-align: right;\n",
       "    }\n",
       "</style>\n",
       "<table border=\"1\" class=\"dataframe\">\n",
       "  <thead>\n",
       "    <tr style=\"text-align: right;\">\n",
       "      <th></th>\n",
       "      <th>Unnamed: 0</th>\n",
       "      <th>Laptop_Name</th>\n",
       "      <th>Brand_Name</th>\n",
       "      <th>Discounted_Price</th>\n",
       "      <th>Org_Price</th>\n",
       "      <th>%Discount</th>\n",
       "      <th>Avg_Rating</th>\n",
       "      <th>Total_Ratings</th>\n",
       "      <th>Total_Reviws</th>\n",
       "      <th>Processor</th>\n",
       "      <th>Ram</th>\n",
       "    </tr>\n",
       "  </thead>\n",
       "  <tbody>\n",
       "    <tr>\n",
       "      <th>0</th>\n",
       "      <td>0</td>\n",
       "      <td>MSI GF63 Intel Core i5 11th Gen 11260H - (8 GB...</td>\n",
       "      <td>MSI</td>\n",
       "      <td>₹46,990</td>\n",
       "      <td>₹67,990</td>\n",
       "      <td>30% off</td>\n",
       "      <td>4.3</td>\n",
       "      <td>490</td>\n",
       "      <td>146</td>\n",
       "      <td>Intel Core i5 Processor (11th Gen)</td>\n",
       "      <td>8 GB DDR4 RAM</td>\n",
       "    </tr>\n",
       "    <tr>\n",
       "      <th>1</th>\n",
       "      <td>1</td>\n",
       "      <td>MSI GF63 Intel Core i7 12th Gen 12650H - (16 G...</td>\n",
       "      <td>MSI</td>\n",
       "      <td>₹97,990</td>\n",
       "      <td>₹1,11,990</td>\n",
       "      <td>12% off</td>\n",
       "      <td>3.9</td>\n",
       "      <td>7</td>\n",
       "      <td>323</td>\n",
       "      <td>Intel Core i7 Processor (12th Gen)</td>\n",
       "      <td>16 GB DDR4 RAM</td>\n",
       "    </tr>\n",
       "    <tr>\n",
       "      <th>2</th>\n",
       "      <td>2</td>\n",
       "      <td>HP Intel Intel Core i3 11th Gen 1115G4 - (8 GB...</td>\n",
       "      <td>HP</td>\n",
       "      <td>₹31,990</td>\n",
       "      <td>₹47,279</td>\n",
       "      <td>32% off</td>\n",
       "      <td>4.3</td>\n",
       "      <td>11,242</td>\n",
       "      <td>886</td>\n",
       "      <td>Intel Core i3 Processor (11th Gen)</td>\n",
       "      <td>8 GB DDR4 RAM</td>\n",
       "    </tr>\n",
       "    <tr>\n",
       "      <th>3</th>\n",
       "      <td>3</td>\n",
       "      <td>DELL Intel Core i3 12th Gen 1215U - (8 GB/512 ...</td>\n",
       "      <td>DELL</td>\n",
       "      <td>₹36,990</td>\n",
       "      <td>₹61,431</td>\n",
       "      <td>39% off</td>\n",
       "      <td>4.2</td>\n",
       "      <td>879</td>\n",
       "      <td>105</td>\n",
       "      <td>Processor: Intel i3-1215U (Base- 0.9 GHz &amp; Tur...</td>\n",
       "      <td>8 GB DDR4 RAM</td>\n",
       "    </tr>\n",
       "    <tr>\n",
       "      <th>4</th>\n",
       "      <td>4</td>\n",
       "      <td>ASUS Vivobook 15 Intel Core i3 11th Gen 1115G4...</td>\n",
       "      <td>ASUS</td>\n",
       "      <td>₹29,990</td>\n",
       "      <td>₹44,990</td>\n",
       "      <td>33% off</td>\n",
       "      <td>4.3</td>\n",
       "      <td>11,615</td>\n",
       "      <td>48</td>\n",
       "      <td>Intel Core i3 Processor (11th Gen)</td>\n",
       "      <td>8 GB DDR4 RAM</td>\n",
       "    </tr>\n",
       "  </tbody>\n",
       "</table>\n",
       "</div>"
      ],
      "text/plain": [
       "   Unnamed: 0                                        Laptop_Name Brand_Name  \\\n",
       "0           0  MSI GF63 Intel Core i5 11th Gen 11260H - (8 GB...        MSI   \n",
       "1           1  MSI GF63 Intel Core i7 12th Gen 12650H - (16 G...        MSI   \n",
       "2           2  HP Intel Intel Core i3 11th Gen 1115G4 - (8 GB...         HP   \n",
       "3           3  DELL Intel Core i3 12th Gen 1215U - (8 GB/512 ...       DELL   \n",
       "4           4  ASUS Vivobook 15 Intel Core i3 11th Gen 1115G4...       ASUS   \n",
       "\n",
       "  Discounted_Price  Org_Price %Discount  Avg_Rating Total_Ratings  \\\n",
       "0          ₹46,990    ₹67,990   30% off         4.3          490    \n",
       "1          ₹97,990  ₹1,11,990   12% off         3.9            7    \n",
       "2          ₹31,990    ₹47,279   32% off         4.3       11,242    \n",
       "3          ₹36,990    ₹61,431   39% off         4.2          879    \n",
       "4          ₹29,990    ₹44,990   33% off         4.3       11,615    \n",
       "\n",
       "   Total_Reviws                                          Processor  \\\n",
       "0           146                 Intel Core i5 Processor (11th Gen)   \n",
       "1           323                 Intel Core i7 Processor (12th Gen)   \n",
       "2           886                 Intel Core i3 Processor (11th Gen)   \n",
       "3           105  Processor: Intel i3-1215U (Base- 0.9 GHz & Tur...   \n",
       "4            48                 Intel Core i3 Processor (11th Gen)   \n",
       "\n",
       "              Ram  \n",
       "0   8 GB DDR4 RAM  \n",
       "1  16 GB DDR4 RAM  \n",
       "2   8 GB DDR4 RAM  \n",
       "3   8 GB DDR4 RAM  \n",
       "4   8 GB DDR4 RAM  "
      ]
     },
     "execution_count": 388,
     "metadata": {},
     "output_type": "execute_result"
    }
   ],
   "source": [
    "df = pd.read_csv('Flipkart_Laptops')\n",
    "df.head()"
   ]
  },
  {
   "cell_type": "code",
   "execution_count": 389,
   "id": "4ded98be",
   "metadata": {},
   "outputs": [],
   "source": [
    "df.drop('Unnamed: 0', axis=1, inplace=True)"
   ]
  },
  {
   "cell_type": "code",
   "execution_count": 390,
   "id": "4f5a344b",
   "metadata": {},
   "outputs": [
    {
     "data": {
      "text/html": [
       "<div>\n",
       "<style scoped>\n",
       "    .dataframe tbody tr th:only-of-type {\n",
       "        vertical-align: middle;\n",
       "    }\n",
       "\n",
       "    .dataframe tbody tr th {\n",
       "        vertical-align: top;\n",
       "    }\n",
       "\n",
       "    .dataframe thead th {\n",
       "        text-align: right;\n",
       "    }\n",
       "</style>\n",
       "<table border=\"1\" class=\"dataframe\">\n",
       "  <thead>\n",
       "    <tr style=\"text-align: right;\">\n",
       "      <th></th>\n",
       "      <th>Laptop_Name</th>\n",
       "      <th>Brand_Name</th>\n",
       "      <th>Discounted_Price</th>\n",
       "      <th>Org_Price</th>\n",
       "      <th>%Discount</th>\n",
       "      <th>Avg_Rating</th>\n",
       "      <th>Total_Ratings</th>\n",
       "      <th>Total_Reviws</th>\n",
       "      <th>Processor</th>\n",
       "      <th>Ram</th>\n",
       "    </tr>\n",
       "  </thead>\n",
       "  <tbody>\n",
       "    <tr>\n",
       "      <th>0</th>\n",
       "      <td>MSI GF63 Intel Core i5 11th Gen 11260H - (8 GB...</td>\n",
       "      <td>MSI</td>\n",
       "      <td>₹46,990</td>\n",
       "      <td>₹67,990</td>\n",
       "      <td>30% off</td>\n",
       "      <td>4.3</td>\n",
       "      <td>490</td>\n",
       "      <td>146</td>\n",
       "      <td>Intel Core i5 Processor (11th Gen)</td>\n",
       "      <td>8 GB DDR4 RAM</td>\n",
       "    </tr>\n",
       "    <tr>\n",
       "      <th>1</th>\n",
       "      <td>MSI GF63 Intel Core i7 12th Gen 12650H - (16 G...</td>\n",
       "      <td>MSI</td>\n",
       "      <td>₹97,990</td>\n",
       "      <td>₹1,11,990</td>\n",
       "      <td>12% off</td>\n",
       "      <td>3.9</td>\n",
       "      <td>7</td>\n",
       "      <td>323</td>\n",
       "      <td>Intel Core i7 Processor (12th Gen)</td>\n",
       "      <td>16 GB DDR4 RAM</td>\n",
       "    </tr>\n",
       "    <tr>\n",
       "      <th>2</th>\n",
       "      <td>HP Intel Intel Core i3 11th Gen 1115G4 - (8 GB...</td>\n",
       "      <td>HP</td>\n",
       "      <td>₹31,990</td>\n",
       "      <td>₹47,279</td>\n",
       "      <td>32% off</td>\n",
       "      <td>4.3</td>\n",
       "      <td>11,242</td>\n",
       "      <td>886</td>\n",
       "      <td>Intel Core i3 Processor (11th Gen)</td>\n",
       "      <td>8 GB DDR4 RAM</td>\n",
       "    </tr>\n",
       "    <tr>\n",
       "      <th>3</th>\n",
       "      <td>DELL Intel Core i3 12th Gen 1215U - (8 GB/512 ...</td>\n",
       "      <td>DELL</td>\n",
       "      <td>₹36,990</td>\n",
       "      <td>₹61,431</td>\n",
       "      <td>39% off</td>\n",
       "      <td>4.2</td>\n",
       "      <td>879</td>\n",
       "      <td>105</td>\n",
       "      <td>Processor: Intel i3-1215U (Base- 0.9 GHz &amp; Tur...</td>\n",
       "      <td>8 GB DDR4 RAM</td>\n",
       "    </tr>\n",
       "    <tr>\n",
       "      <th>4</th>\n",
       "      <td>ASUS Vivobook 15 Intel Core i3 11th Gen 1115G4...</td>\n",
       "      <td>ASUS</td>\n",
       "      <td>₹29,990</td>\n",
       "      <td>₹44,990</td>\n",
       "      <td>33% off</td>\n",
       "      <td>4.3</td>\n",
       "      <td>11,615</td>\n",
       "      <td>48</td>\n",
       "      <td>Intel Core i3 Processor (11th Gen)</td>\n",
       "      <td>8 GB DDR4 RAM</td>\n",
       "    </tr>\n",
       "  </tbody>\n",
       "</table>\n",
       "</div>"
      ],
      "text/plain": [
       "                                         Laptop_Name Brand_Name  \\\n",
       "0  MSI GF63 Intel Core i5 11th Gen 11260H - (8 GB...        MSI   \n",
       "1  MSI GF63 Intel Core i7 12th Gen 12650H - (16 G...        MSI   \n",
       "2  HP Intel Intel Core i3 11th Gen 1115G4 - (8 GB...         HP   \n",
       "3  DELL Intel Core i3 12th Gen 1215U - (8 GB/512 ...       DELL   \n",
       "4  ASUS Vivobook 15 Intel Core i3 11th Gen 1115G4...       ASUS   \n",
       "\n",
       "  Discounted_Price  Org_Price %Discount  Avg_Rating Total_Ratings  \\\n",
       "0          ₹46,990    ₹67,990   30% off         4.3          490    \n",
       "1          ₹97,990  ₹1,11,990   12% off         3.9            7    \n",
       "2          ₹31,990    ₹47,279   32% off         4.3       11,242    \n",
       "3          ₹36,990    ₹61,431   39% off         4.2          879    \n",
       "4          ₹29,990    ₹44,990   33% off         4.3       11,615    \n",
       "\n",
       "   Total_Reviws                                          Processor  \\\n",
       "0           146                 Intel Core i5 Processor (11th Gen)   \n",
       "1           323                 Intel Core i7 Processor (12th Gen)   \n",
       "2           886                 Intel Core i3 Processor (11th Gen)   \n",
       "3           105  Processor: Intel i3-1215U (Base- 0.9 GHz & Tur...   \n",
       "4            48                 Intel Core i3 Processor (11th Gen)   \n",
       "\n",
       "              Ram  \n",
       "0   8 GB DDR4 RAM  \n",
       "1  16 GB DDR4 RAM  \n",
       "2   8 GB DDR4 RAM  \n",
       "3   8 GB DDR4 RAM  \n",
       "4   8 GB DDR4 RAM  "
      ]
     },
     "execution_count": 390,
     "metadata": {},
     "output_type": "execute_result"
    }
   ],
   "source": [
    "df.head()"
   ]
  },
  {
   "cell_type": "code",
   "execution_count": 391,
   "id": "b405d3c4",
   "metadata": {},
   "outputs": [
    {
     "data": {
      "text/plain": [
       "Laptop_Name          object\n",
       "Brand_Name           object\n",
       "Discounted_Price     object\n",
       "Org_Price            object\n",
       "%Discount            object\n",
       "Avg_Rating          float64\n",
       "Total_Ratings        object\n",
       "Total_Reviws          int64\n",
       "Processor            object\n",
       "Ram                  object\n",
       "dtype: object"
      ]
     },
     "execution_count": 391,
     "metadata": {},
     "output_type": "execute_result"
    }
   ],
   "source": [
    "df.dtypes"
   ]
  },
  {
   "cell_type": "code",
   "execution_count": 392,
   "id": "faa7b917",
   "metadata": {},
   "outputs": [
    {
     "data": {
      "text/plain": [
       "0    ₹46,990\n",
       "1    ₹97,990\n",
       "2    ₹31,990\n",
       "3    ₹36,990\n",
       "4    ₹29,990\n",
       "Name: Discounted_Price, dtype: object"
      ]
     },
     "execution_count": 392,
     "metadata": {},
     "output_type": "execute_result"
    }
   ],
   "source": [
    "df['Discounted_Price'].head()"
   ]
  },
  {
   "cell_type": "code",
   "execution_count": 393,
   "id": "b1d41284",
   "metadata": {},
   "outputs": [],
   "source": [
    "df['Discounted_Price'] = df['Discounted_Price'].str.replace('₹', '').str.replace(',','')"
   ]
  },
  {
   "cell_type": "code",
   "execution_count": 394,
   "id": "7a982ba9",
   "metadata": {},
   "outputs": [
    {
     "data": {
      "text/html": [
       "<div>\n",
       "<style scoped>\n",
       "    .dataframe tbody tr th:only-of-type {\n",
       "        vertical-align: middle;\n",
       "    }\n",
       "\n",
       "    .dataframe tbody tr th {\n",
       "        vertical-align: top;\n",
       "    }\n",
       "\n",
       "    .dataframe thead th {\n",
       "        text-align: right;\n",
       "    }\n",
       "</style>\n",
       "<table border=\"1\" class=\"dataframe\">\n",
       "  <thead>\n",
       "    <tr style=\"text-align: right;\">\n",
       "      <th></th>\n",
       "      <th>Laptop_Name</th>\n",
       "      <th>Brand_Name</th>\n",
       "      <th>Discounted_Price</th>\n",
       "      <th>Org_Price</th>\n",
       "      <th>%Discount</th>\n",
       "      <th>Avg_Rating</th>\n",
       "      <th>Total_Ratings</th>\n",
       "      <th>Total_Reviws</th>\n",
       "      <th>Processor</th>\n",
       "      <th>Ram</th>\n",
       "    </tr>\n",
       "  </thead>\n",
       "  <tbody>\n",
       "    <tr>\n",
       "      <th>0</th>\n",
       "      <td>MSI GF63 Intel Core i5 11th Gen 11260H - (8 GB...</td>\n",
       "      <td>MSI</td>\n",
       "      <td>46990</td>\n",
       "      <td>₹67,990</td>\n",
       "      <td>30% off</td>\n",
       "      <td>4.3</td>\n",
       "      <td>490</td>\n",
       "      <td>146</td>\n",
       "      <td>Intel Core i5 Processor (11th Gen)</td>\n",
       "      <td>8 GB DDR4 RAM</td>\n",
       "    </tr>\n",
       "    <tr>\n",
       "      <th>1</th>\n",
       "      <td>MSI GF63 Intel Core i7 12th Gen 12650H - (16 G...</td>\n",
       "      <td>MSI</td>\n",
       "      <td>97990</td>\n",
       "      <td>₹1,11,990</td>\n",
       "      <td>12% off</td>\n",
       "      <td>3.9</td>\n",
       "      <td>7</td>\n",
       "      <td>323</td>\n",
       "      <td>Intel Core i7 Processor (12th Gen)</td>\n",
       "      <td>16 GB DDR4 RAM</td>\n",
       "    </tr>\n",
       "    <tr>\n",
       "      <th>2</th>\n",
       "      <td>HP Intel Intel Core i3 11th Gen 1115G4 - (8 GB...</td>\n",
       "      <td>HP</td>\n",
       "      <td>31990</td>\n",
       "      <td>₹47,279</td>\n",
       "      <td>32% off</td>\n",
       "      <td>4.3</td>\n",
       "      <td>11,242</td>\n",
       "      <td>886</td>\n",
       "      <td>Intel Core i3 Processor (11th Gen)</td>\n",
       "      <td>8 GB DDR4 RAM</td>\n",
       "    </tr>\n",
       "    <tr>\n",
       "      <th>3</th>\n",
       "      <td>DELL Intel Core i3 12th Gen 1215U - (8 GB/512 ...</td>\n",
       "      <td>DELL</td>\n",
       "      <td>36990</td>\n",
       "      <td>₹61,431</td>\n",
       "      <td>39% off</td>\n",
       "      <td>4.2</td>\n",
       "      <td>879</td>\n",
       "      <td>105</td>\n",
       "      <td>Processor: Intel i3-1215U (Base- 0.9 GHz &amp; Tur...</td>\n",
       "      <td>8 GB DDR4 RAM</td>\n",
       "    </tr>\n",
       "    <tr>\n",
       "      <th>4</th>\n",
       "      <td>ASUS Vivobook 15 Intel Core i3 11th Gen 1115G4...</td>\n",
       "      <td>ASUS</td>\n",
       "      <td>29990</td>\n",
       "      <td>₹44,990</td>\n",
       "      <td>33% off</td>\n",
       "      <td>4.3</td>\n",
       "      <td>11,615</td>\n",
       "      <td>48</td>\n",
       "      <td>Intel Core i3 Processor (11th Gen)</td>\n",
       "      <td>8 GB DDR4 RAM</td>\n",
       "    </tr>\n",
       "  </tbody>\n",
       "</table>\n",
       "</div>"
      ],
      "text/plain": [
       "                                         Laptop_Name Brand_Name  \\\n",
       "0  MSI GF63 Intel Core i5 11th Gen 11260H - (8 GB...        MSI   \n",
       "1  MSI GF63 Intel Core i7 12th Gen 12650H - (16 G...        MSI   \n",
       "2  HP Intel Intel Core i3 11th Gen 1115G4 - (8 GB...         HP   \n",
       "3  DELL Intel Core i3 12th Gen 1215U - (8 GB/512 ...       DELL   \n",
       "4  ASUS Vivobook 15 Intel Core i3 11th Gen 1115G4...       ASUS   \n",
       "\n",
       "  Discounted_Price  Org_Price %Discount  Avg_Rating Total_Ratings  \\\n",
       "0            46990    ₹67,990   30% off         4.3          490    \n",
       "1            97990  ₹1,11,990   12% off         3.9            7    \n",
       "2            31990    ₹47,279   32% off         4.3       11,242    \n",
       "3            36990    ₹61,431   39% off         4.2          879    \n",
       "4            29990    ₹44,990   33% off         4.3       11,615    \n",
       "\n",
       "   Total_Reviws                                          Processor  \\\n",
       "0           146                 Intel Core i5 Processor (11th Gen)   \n",
       "1           323                 Intel Core i7 Processor (12th Gen)   \n",
       "2           886                 Intel Core i3 Processor (11th Gen)   \n",
       "3           105  Processor: Intel i3-1215U (Base- 0.9 GHz & Tur...   \n",
       "4            48                 Intel Core i3 Processor (11th Gen)   \n",
       "\n",
       "              Ram  \n",
       "0   8 GB DDR4 RAM  \n",
       "1  16 GB DDR4 RAM  \n",
       "2   8 GB DDR4 RAM  \n",
       "3   8 GB DDR4 RAM  \n",
       "4   8 GB DDR4 RAM  "
      ]
     },
     "execution_count": 394,
     "metadata": {},
     "output_type": "execute_result"
    }
   ],
   "source": [
    "df.head()"
   ]
  },
  {
   "cell_type": "code",
   "execution_count": 395,
   "id": "ae90b778",
   "metadata": {},
   "outputs": [],
   "source": [
    "df['Discounted_Price'] = df['Discounted_Price'].astype(int)"
   ]
  },
  {
   "cell_type": "code",
   "execution_count": 396,
   "id": "77856212",
   "metadata": {},
   "outputs": [
    {
     "data": {
      "text/plain": [
       "dtype('int32')"
      ]
     },
     "execution_count": 396,
     "metadata": {},
     "output_type": "execute_result"
    }
   ],
   "source": [
    "df['Discounted_Price'].dtype"
   ]
  },
  {
   "cell_type": "code",
   "execution_count": 397,
   "id": "76e9a154",
   "metadata": {},
   "outputs": [],
   "source": [
    "df['Org_Price'] = df['Org_Price'].str.replace('₹', '').str.replace(',','')"
   ]
  },
  {
   "cell_type": "code",
   "execution_count": 398,
   "id": "3dba287c",
   "metadata": {},
   "outputs": [],
   "source": [
    "df['%Discount'] = df['%Discount'].str.replace('% off', '')"
   ]
  },
  {
   "cell_type": "code",
   "execution_count": 399,
   "id": "4dc47022",
   "metadata": {},
   "outputs": [],
   "source": [
    "df['Org_Price'] = df['Org_Price'].astype(int)"
   ]
  },
  {
   "cell_type": "code",
   "execution_count": 400,
   "id": "efbc944e",
   "metadata": {},
   "outputs": [
    {
     "data": {
      "text/plain": [
       "Laptop_Name          object\n",
       "Brand_Name           object\n",
       "Discounted_Price      int32\n",
       "Org_Price             int32\n",
       "%Discount            object\n",
       "Avg_Rating          float64\n",
       "Total_Ratings        object\n",
       "Total_Reviws          int64\n",
       "Processor            object\n",
       "Ram                  object\n",
       "dtype: object"
      ]
     },
     "execution_count": 400,
     "metadata": {},
     "output_type": "execute_result"
    }
   ],
   "source": [
    "df.dtypes"
   ]
  },
  {
   "cell_type": "code",
   "execution_count": 401,
   "id": "f554e431",
   "metadata": {},
   "outputs": [],
   "source": [
    "df['Total_Ratings'] = df['Total_Ratings'].str.replace(',', '')"
   ]
  },
  {
   "cell_type": "code",
   "execution_count": 402,
   "id": "6421fefa",
   "metadata": {},
   "outputs": [],
   "source": [
    "cols = ['Org_Price', '%Discount', 'Total_Ratings','Total_Reviws']\n",
    "for i in cols:\n",
    "    df[i] = pd.to_numeric(df[i])"
   ]
  },
  {
   "cell_type": "code",
   "execution_count": 403,
   "id": "f48c6c5e",
   "metadata": {},
   "outputs": [
    {
     "data": {
      "text/plain": [
       "Laptop_Name          object\n",
       "Brand_Name           object\n",
       "Discounted_Price      int32\n",
       "Org_Price             int32\n",
       "%Discount             int64\n",
       "Avg_Rating          float64\n",
       "Total_Ratings         int64\n",
       "Total_Reviws          int64\n",
       "Processor            object\n",
       "Ram                  object\n",
       "dtype: object"
      ]
     },
     "execution_count": 403,
     "metadata": {},
     "output_type": "execute_result"
    }
   ],
   "source": [
    "df.dtypes"
   ]
  },
  {
   "cell_type": "code",
   "execution_count": 404,
   "id": "87d8752b",
   "metadata": {},
   "outputs": [
    {
     "data": {
      "text/plain": [
       "0       8 GB DDR4 RAM\n",
       "1      16 GB DDR4 RAM\n",
       "2       8 GB DDR4 RAM\n",
       "3       8 GB DDR4 RAM\n",
       "4       8 GB DDR4 RAM\n",
       "5     8 GB LPDDR5 RAM\n",
       "6       8 GB DDR4 RAM\n",
       "7      16 GB DDR5 RAM\n",
       "8       8 GB DDR4 RAM\n",
       "9      16 GB DDR4 RAM\n",
       "10     16 GB DDR4 RAM\n",
       "11     16 GB DDR4 RAM\n",
       "12     16 GB DDR4 RAM\n",
       "13      8 GB DDR4 RAM\n",
       "14      8 GB DDR4 RAM\n",
       "15      8 GB DDR4 RAM\n",
       "16     16 GB DDR4 RAM\n",
       "17     16 GB DDR4 RAM\n",
       "18      8 GB DDR4 RAM\n",
       "19      8 GB DDR4 RAM\n",
       "20     16 GB DDR4 RAM\n",
       "21     16 GB DDR4 RAM\n",
       "22     16 GB DDR4 RAM\n",
       "23      8 GB DDR4 RAM\n",
       "Name: Ram, dtype: object"
      ]
     },
     "execution_count": 404,
     "metadata": {},
     "output_type": "execute_result"
    }
   ],
   "source": [
    "df['Ram']"
   ]
  },
  {
   "cell_type": "code",
   "execution_count": 405,
   "id": "a0b70a46",
   "metadata": {},
   "outputs": [
    {
     "data": {
      "text/html": [
       "<div>\n",
       "<style scoped>\n",
       "    .dataframe tbody tr th:only-of-type {\n",
       "        vertical-align: middle;\n",
       "    }\n",
       "\n",
       "    .dataframe tbody tr th {\n",
       "        vertical-align: top;\n",
       "    }\n",
       "\n",
       "    .dataframe thead th {\n",
       "        text-align: right;\n",
       "    }\n",
       "</style>\n",
       "<table border=\"1\" class=\"dataframe\">\n",
       "  <thead>\n",
       "    <tr style=\"text-align: right;\">\n",
       "      <th></th>\n",
       "      <th>Laptop_Name</th>\n",
       "      <th>Brand_Name</th>\n",
       "      <th>Discounted_Price</th>\n",
       "      <th>Org_Price</th>\n",
       "      <th>%Discount</th>\n",
       "      <th>Avg_Rating</th>\n",
       "      <th>Total_Ratings</th>\n",
       "      <th>Total_Reviws</th>\n",
       "      <th>Processor</th>\n",
       "      <th>Ram</th>\n",
       "    </tr>\n",
       "  </thead>\n",
       "  <tbody>\n",
       "    <tr>\n",
       "      <th>0</th>\n",
       "      <td>MSI GF63 Intel Core i5 11th Gen 11260H - (8 GB...</td>\n",
       "      <td>MSI</td>\n",
       "      <td>46990</td>\n",
       "      <td>67990</td>\n",
       "      <td>30</td>\n",
       "      <td>4.3</td>\n",
       "      <td>490</td>\n",
       "      <td>146</td>\n",
       "      <td>Intel Core i5 Processor (11th Gen)</td>\n",
       "      <td>8 GB DDR4 RAM</td>\n",
       "    </tr>\n",
       "    <tr>\n",
       "      <th>1</th>\n",
       "      <td>MSI GF63 Intel Core i7 12th Gen 12650H - (16 G...</td>\n",
       "      <td>MSI</td>\n",
       "      <td>97990</td>\n",
       "      <td>111990</td>\n",
       "      <td>12</td>\n",
       "      <td>3.9</td>\n",
       "      <td>7</td>\n",
       "      <td>323</td>\n",
       "      <td>Intel Core i7 Processor (12th Gen)</td>\n",
       "      <td>16 GB DDR4 RAM</td>\n",
       "    </tr>\n",
       "    <tr>\n",
       "      <th>2</th>\n",
       "      <td>HP Intel Intel Core i3 11th Gen 1115G4 - (8 GB...</td>\n",
       "      <td>HP</td>\n",
       "      <td>31990</td>\n",
       "      <td>47279</td>\n",
       "      <td>32</td>\n",
       "      <td>4.3</td>\n",
       "      <td>11242</td>\n",
       "      <td>886</td>\n",
       "      <td>Intel Core i3 Processor (11th Gen)</td>\n",
       "      <td>8 GB DDR4 RAM</td>\n",
       "    </tr>\n",
       "    <tr>\n",
       "      <th>3</th>\n",
       "      <td>DELL Intel Core i3 12th Gen 1215U - (8 GB/512 ...</td>\n",
       "      <td>DELL</td>\n",
       "      <td>36990</td>\n",
       "      <td>61431</td>\n",
       "      <td>39</td>\n",
       "      <td>4.2</td>\n",
       "      <td>879</td>\n",
       "      <td>105</td>\n",
       "      <td>Processor: Intel i3-1215U (Base- 0.9 GHz &amp; Tur...</td>\n",
       "      <td>8 GB DDR4 RAM</td>\n",
       "    </tr>\n",
       "    <tr>\n",
       "      <th>4</th>\n",
       "      <td>ASUS Vivobook 15 Intel Core i3 11th Gen 1115G4...</td>\n",
       "      <td>ASUS</td>\n",
       "      <td>29990</td>\n",
       "      <td>44990</td>\n",
       "      <td>33</td>\n",
       "      <td>4.3</td>\n",
       "      <td>11615</td>\n",
       "      <td>48</td>\n",
       "      <td>Intel Core i3 Processor (11th Gen)</td>\n",
       "      <td>8 GB DDR4 RAM</td>\n",
       "    </tr>\n",
       "    <tr>\n",
       "      <th>5</th>\n",
       "      <td>Acer Extensa Intel Core i3 N305 - (8 GB/512 GB...</td>\n",
       "      <td>Acer</td>\n",
       "      <td>28990</td>\n",
       "      <td>43999</td>\n",
       "      <td>34</td>\n",
       "      <td>4.2</td>\n",
       "      <td>328</td>\n",
       "      <td>51</td>\n",
       "      <td>Intel Core i3 Processor</td>\n",
       "      <td>8 GB LPDDR5 RAM</td>\n",
       "    </tr>\n",
       "    <tr>\n",
       "      <th>6</th>\n",
       "      <td>MSI Modern 14 Intel Core i3 11th Gen 1115G4 - ...</td>\n",
       "      <td>MSI</td>\n",
       "      <td>28990</td>\n",
       "      <td>52990</td>\n",
       "      <td>45</td>\n",
       "      <td>4.3</td>\n",
       "      <td>2112</td>\n",
       "      <td>60</td>\n",
       "      <td>Intel Core i3 Processor (11th Gen)</td>\n",
       "      <td>8 GB DDR4 RAM</td>\n",
       "    </tr>\n",
       "    <tr>\n",
       "      <th>7</th>\n",
       "      <td>MSI Katana 17 Intel Core i7 12th Gen 12650H - ...</td>\n",
       "      <td>MSI</td>\n",
       "      <td>110990</td>\n",
       "      <td>149990</td>\n",
       "      <td>26</td>\n",
       "      <td>5.0</td>\n",
       "      <td>13</td>\n",
       "      <td>258</td>\n",
       "      <td>Intel Core i7 Processor (12th Gen)</td>\n",
       "      <td>16 GB DDR5 RAM</td>\n",
       "    </tr>\n",
       "    <tr>\n",
       "      <th>8</th>\n",
       "      <td>CHUWI Intel Core i3 10th Gen 1005G1 - (8 GB/51...</td>\n",
       "      <td>CHUWI</td>\n",
       "      <td>24990</td>\n",
       "      <td>49990</td>\n",
       "      <td>50</td>\n",
       "      <td>4.1</td>\n",
       "      <td>803</td>\n",
       "      <td>168</td>\n",
       "      <td>Intel Core i3-1005G1</td>\n",
       "      <td>8 GB DDR4 RAM</td>\n",
       "    </tr>\n",
       "    <tr>\n",
       "      <th>9</th>\n",
       "      <td>Lenovo Intel Core i7 12th Gen 1255U - (16 GB/5...</td>\n",
       "      <td>Lenovo</td>\n",
       "      <td>49990</td>\n",
       "      <td>90000</td>\n",
       "      <td>44</td>\n",
       "      <td>4.0</td>\n",
       "      <td>708</td>\n",
       "      <td>168</td>\n",
       "      <td>Intel Core i7 Processor (12th Gen)</td>\n",
       "      <td>16 GB DDR4 RAM</td>\n",
       "    </tr>\n",
       "  </tbody>\n",
       "</table>\n",
       "</div>"
      ],
      "text/plain": [
       "                                         Laptop_Name Brand_Name  \\\n",
       "0  MSI GF63 Intel Core i5 11th Gen 11260H - (8 GB...        MSI   \n",
       "1  MSI GF63 Intel Core i7 12th Gen 12650H - (16 G...        MSI   \n",
       "2  HP Intel Intel Core i3 11th Gen 1115G4 - (8 GB...         HP   \n",
       "3  DELL Intel Core i3 12th Gen 1215U - (8 GB/512 ...       DELL   \n",
       "4  ASUS Vivobook 15 Intel Core i3 11th Gen 1115G4...       ASUS   \n",
       "5  Acer Extensa Intel Core i3 N305 - (8 GB/512 GB...       Acer   \n",
       "6  MSI Modern 14 Intel Core i3 11th Gen 1115G4 - ...        MSI   \n",
       "7  MSI Katana 17 Intel Core i7 12th Gen 12650H - ...        MSI   \n",
       "8  CHUWI Intel Core i3 10th Gen 1005G1 - (8 GB/51...      CHUWI   \n",
       "9  Lenovo Intel Core i7 12th Gen 1255U - (16 GB/5...     Lenovo   \n",
       "\n",
       "   Discounted_Price  Org_Price  %Discount  Avg_Rating  Total_Ratings  \\\n",
       "0             46990      67990         30         4.3            490   \n",
       "1             97990     111990         12         3.9              7   \n",
       "2             31990      47279         32         4.3          11242   \n",
       "3             36990      61431         39         4.2            879   \n",
       "4             29990      44990         33         4.3          11615   \n",
       "5             28990      43999         34         4.2            328   \n",
       "6             28990      52990         45         4.3           2112   \n",
       "7            110990     149990         26         5.0             13   \n",
       "8             24990      49990         50         4.1            803   \n",
       "9             49990      90000         44         4.0            708   \n",
       "\n",
       "   Total_Reviws                                          Processor  \\\n",
       "0           146                 Intel Core i5 Processor (11th Gen)   \n",
       "1           323                 Intel Core i7 Processor (12th Gen)   \n",
       "2           886                 Intel Core i3 Processor (11th Gen)   \n",
       "3           105  Processor: Intel i3-1215U (Base- 0.9 GHz & Tur...   \n",
       "4            48                 Intel Core i3 Processor (11th Gen)   \n",
       "5            51                            Intel Core i3 Processor   \n",
       "6            60                 Intel Core i3 Processor (11th Gen)   \n",
       "7           258                 Intel Core i7 Processor (12th Gen)   \n",
       "8           168                               Intel Core i3-1005G1   \n",
       "9           168                 Intel Core i7 Processor (12th Gen)   \n",
       "\n",
       "               Ram  \n",
       "0    8 GB DDR4 RAM  \n",
       "1   16 GB DDR4 RAM  \n",
       "2    8 GB DDR4 RAM  \n",
       "3    8 GB DDR4 RAM  \n",
       "4    8 GB DDR4 RAM  \n",
       "5  8 GB LPDDR5 RAM  \n",
       "6    8 GB DDR4 RAM  \n",
       "7   16 GB DDR5 RAM  \n",
       "8    8 GB DDR4 RAM  \n",
       "9   16 GB DDR4 RAM  "
      ]
     },
     "execution_count": 405,
     "metadata": {},
     "output_type": "execute_result"
    }
   ],
   "source": [
    "df.head(10)"
   ]
  },
  {
   "cell_type": "code",
   "execution_count": 406,
   "id": "af9ee205",
   "metadata": {},
   "outputs": [],
   "source": [
    "import regex as re"
   ]
  },
  {
   "cell_type": "code",
   "execution_count": 407,
   "id": "d90519c2",
   "metadata": {},
   "outputs": [
    {
     "data": {
      "text/plain": [
       "['8 GB DDR4 RAM',\n",
       " '16 GB DDR4 RAM',\n",
       " '8 GB DDR4 RAM',\n",
       " '8 GB DDR4 RAM',\n",
       " '8 GB DDR4 RAM',\n",
       " '8 GB LPDDR5 RAM',\n",
       " '8 GB DDR4 RAM',\n",
       " '16 GB DDR5 RAM',\n",
       " '8 GB DDR4 RAM',\n",
       " '16 GB DDR4 RAM',\n",
       " '16 GB DDR4 RAM',\n",
       " '16 GB DDR4 RAM',\n",
       " '16 GB DDR4 RAM',\n",
       " '8 GB DDR4 RAM',\n",
       " '8 GB DDR4 RAM',\n",
       " '8 GB DDR4 RAM',\n",
       " '16 GB DDR4 RAM',\n",
       " '16 GB DDR4 RAM',\n",
       " '8 GB DDR4 RAM',\n",
       " '8 GB DDR4 RAM',\n",
       " '16 GB DDR4 RAM',\n",
       " '16 GB DDR4 RAM',\n",
       " '16 GB DDR4 RAM',\n",
       " '8 GB DDR4 RAM']"
      ]
     },
     "execution_count": 407,
     "metadata": {},
     "output_type": "execute_result"
    }
   ],
   "source": [
    "ram = df['Ram'].values\n",
    "ram = list(ram)\n",
    "ram"
   ]
  },
  {
   "cell_type": "code",
   "execution_count": 408,
   "id": "fe67c412",
   "metadata": {},
   "outputs": [],
   "source": [
    "ram_regex = []\n",
    "pattern = '\\d+\\s*GB'\n",
    "for i in ram:\n",
    "    x = re.findall(pattern,i)[0]\n",
    "    ram_regex.append(x)"
   ]
  },
  {
   "cell_type": "code",
   "execution_count": 409,
   "id": "8a8d4c3a",
   "metadata": {},
   "outputs": [
    {
     "name": "stdout",
     "output_type": "stream",
     "text": [
      "['8 GB', '16 GB', '8 GB', '8 GB', '8 GB', '8 GB', '8 GB', '16 GB', '8 GB', '16 GB', '16 GB', '16 GB', '16 GB', '8 GB', '8 GB', '8 GB', '16 GB', '16 GB', '8 GB', '8 GB', '16 GB', '16 GB', '16 GB', '8 GB']\n"
     ]
    }
   ],
   "source": [
    "print(ram_regex)"
   ]
  },
  {
   "cell_type": "code",
   "execution_count": 410,
   "id": "4eea03b3",
   "metadata": {},
   "outputs": [
    {
     "name": "stdout",
     "output_type": "stream",
     "text": [
      "[8, 16, 8, 8, 8, 8, 8, 16, 8, 16, 16, 16, 16, 8, 8, 8, 16, 16, 8, 8, 16, 16, 16, 8]\n"
     ]
    }
   ],
   "source": [
    "ram_regex1 = [int(i.replace('GB', '')) for i in ram_regex]\n",
    "print(ram_regex1)"
   ]
  },
  {
   "cell_type": "code",
   "execution_count": 411,
   "id": "6544905d",
   "metadata": {},
   "outputs": [],
   "source": [
    "df['Ram(HDD)'] = ram_regex1"
   ]
  },
  {
   "cell_type": "code",
   "execution_count": 412,
   "id": "b62b18b8",
   "metadata": {},
   "outputs": [
    {
     "data": {
      "text/html": [
       "<div>\n",
       "<style scoped>\n",
       "    .dataframe tbody tr th:only-of-type {\n",
       "        vertical-align: middle;\n",
       "    }\n",
       "\n",
       "    .dataframe tbody tr th {\n",
       "        vertical-align: top;\n",
       "    }\n",
       "\n",
       "    .dataframe thead th {\n",
       "        text-align: right;\n",
       "    }\n",
       "</style>\n",
       "<table border=\"1\" class=\"dataframe\">\n",
       "  <thead>\n",
       "    <tr style=\"text-align: right;\">\n",
       "      <th></th>\n",
       "      <th>Laptop_Name</th>\n",
       "      <th>Brand_Name</th>\n",
       "      <th>Discounted_Price</th>\n",
       "      <th>Org_Price</th>\n",
       "      <th>%Discount</th>\n",
       "      <th>Avg_Rating</th>\n",
       "      <th>Total_Ratings</th>\n",
       "      <th>Total_Reviws</th>\n",
       "      <th>Processor</th>\n",
       "      <th>Ram</th>\n",
       "      <th>Ram(HDD)</th>\n",
       "    </tr>\n",
       "  </thead>\n",
       "  <tbody>\n",
       "    <tr>\n",
       "      <th>0</th>\n",
       "      <td>MSI GF63 Intel Core i5 11th Gen 11260H - (8 GB...</td>\n",
       "      <td>MSI</td>\n",
       "      <td>46990</td>\n",
       "      <td>67990</td>\n",
       "      <td>30</td>\n",
       "      <td>4.3</td>\n",
       "      <td>490</td>\n",
       "      <td>146</td>\n",
       "      <td>Intel Core i5 Processor (11th Gen)</td>\n",
       "      <td>8 GB DDR4 RAM</td>\n",
       "      <td>8</td>\n",
       "    </tr>\n",
       "    <tr>\n",
       "      <th>1</th>\n",
       "      <td>MSI GF63 Intel Core i7 12th Gen 12650H - (16 G...</td>\n",
       "      <td>MSI</td>\n",
       "      <td>97990</td>\n",
       "      <td>111990</td>\n",
       "      <td>12</td>\n",
       "      <td>3.9</td>\n",
       "      <td>7</td>\n",
       "      <td>323</td>\n",
       "      <td>Intel Core i7 Processor (12th Gen)</td>\n",
       "      <td>16 GB DDR4 RAM</td>\n",
       "      <td>16</td>\n",
       "    </tr>\n",
       "    <tr>\n",
       "      <th>2</th>\n",
       "      <td>HP Intel Intel Core i3 11th Gen 1115G4 - (8 GB...</td>\n",
       "      <td>HP</td>\n",
       "      <td>31990</td>\n",
       "      <td>47279</td>\n",
       "      <td>32</td>\n",
       "      <td>4.3</td>\n",
       "      <td>11242</td>\n",
       "      <td>886</td>\n",
       "      <td>Intel Core i3 Processor (11th Gen)</td>\n",
       "      <td>8 GB DDR4 RAM</td>\n",
       "      <td>8</td>\n",
       "    </tr>\n",
       "    <tr>\n",
       "      <th>3</th>\n",
       "      <td>DELL Intel Core i3 12th Gen 1215U - (8 GB/512 ...</td>\n",
       "      <td>DELL</td>\n",
       "      <td>36990</td>\n",
       "      <td>61431</td>\n",
       "      <td>39</td>\n",
       "      <td>4.2</td>\n",
       "      <td>879</td>\n",
       "      <td>105</td>\n",
       "      <td>Processor: Intel i3-1215U (Base- 0.9 GHz &amp; Tur...</td>\n",
       "      <td>8 GB DDR4 RAM</td>\n",
       "      <td>8</td>\n",
       "    </tr>\n",
       "    <tr>\n",
       "      <th>4</th>\n",
       "      <td>ASUS Vivobook 15 Intel Core i3 11th Gen 1115G4...</td>\n",
       "      <td>ASUS</td>\n",
       "      <td>29990</td>\n",
       "      <td>44990</td>\n",
       "      <td>33</td>\n",
       "      <td>4.3</td>\n",
       "      <td>11615</td>\n",
       "      <td>48</td>\n",
       "      <td>Intel Core i3 Processor (11th Gen)</td>\n",
       "      <td>8 GB DDR4 RAM</td>\n",
       "      <td>8</td>\n",
       "    </tr>\n",
       "  </tbody>\n",
       "</table>\n",
       "</div>"
      ],
      "text/plain": [
       "                                         Laptop_Name Brand_Name  \\\n",
       "0  MSI GF63 Intel Core i5 11th Gen 11260H - (8 GB...        MSI   \n",
       "1  MSI GF63 Intel Core i7 12th Gen 12650H - (16 G...        MSI   \n",
       "2  HP Intel Intel Core i3 11th Gen 1115G4 - (8 GB...         HP   \n",
       "3  DELL Intel Core i3 12th Gen 1215U - (8 GB/512 ...       DELL   \n",
       "4  ASUS Vivobook 15 Intel Core i3 11th Gen 1115G4...       ASUS   \n",
       "\n",
       "   Discounted_Price  Org_Price  %Discount  Avg_Rating  Total_Ratings  \\\n",
       "0             46990      67990         30         4.3            490   \n",
       "1             97990     111990         12         3.9              7   \n",
       "2             31990      47279         32         4.3          11242   \n",
       "3             36990      61431         39         4.2            879   \n",
       "4             29990      44990         33         4.3          11615   \n",
       "\n",
       "   Total_Reviws                                          Processor  \\\n",
       "0           146                 Intel Core i5 Processor (11th Gen)   \n",
       "1           323                 Intel Core i7 Processor (12th Gen)   \n",
       "2           886                 Intel Core i3 Processor (11th Gen)   \n",
       "3           105  Processor: Intel i3-1215U (Base- 0.9 GHz & Tur...   \n",
       "4            48                 Intel Core i3 Processor (11th Gen)   \n",
       "\n",
       "              Ram  Ram(HDD)  \n",
       "0   8 GB DDR4 RAM         8  \n",
       "1  16 GB DDR4 RAM        16  \n",
       "2   8 GB DDR4 RAM         8  \n",
       "3   8 GB DDR4 RAM         8  \n",
       "4   8 GB DDR4 RAM         8  "
      ]
     },
     "execution_count": 412,
     "metadata": {},
     "output_type": "execute_result"
    }
   ],
   "source": [
    "df.head()"
   ]
  },
  {
   "cell_type": "code",
   "execution_count": 431,
   "id": "64ecd4bd",
   "metadata": {},
   "outputs": [
    {
     "name": "stdout",
     "output_type": "stream",
     "text": [
      "['Intel Core i5 Processor (11th Gen)' 'Intel Core i7 Processor (12th Gen)'\n",
      " 'Intel Core i3 Processor (11th Gen)'\n",
      " 'Processor: Intel i3-1215U (Base- 0.9 GHz & Turbo up to 4.40 GHz) 6 Cores'\n",
      " 'Intel Core i3 Processor (11th Gen)' 'Intel Core i3 Processor'\n",
      " 'Intel Core i3 Processor (11th Gen)' 'Intel Core i7 Processor (12th Gen)'\n",
      " 'Intel Core i3-1005G1' 'Intel Core i7 Processor (12th Gen)'\n",
      " 'Intel Core i7 Processor (11th Gen)' 'Intel Core i7 Processor (12th Gen)'\n",
      " 'Intel Core i5 Processor (12th Gen)' 'Intel Core i5 Processor (12th Gen)'\n",
      " 'Intel Core i3 Processor (12th Gen)' 'AMD Ryzen 5 Quad Core Processor'\n",
      " 'Intel Core i7 Processor (11th Gen)' 'Intel Core i5 Processor (11th Gen)'\n",
      " 'Intel Celeron Dual Core Processor' 'Intel Core i3 Processor (12th Gen)'\n",
      " 'Intel Core i5 Processor (12th Gen)' 'Intel Core i5 Processor (12th Gen)'\n",
      " 'AMD Ryzen 5 Hexa Core Processor' 'Intel Core i5 Processor (12th Gen)']\n"
     ]
    }
   ],
   "source": [
    "proc_details = df['Processor'].values\n",
    "print(proc_details)"
   ]
  },
  {
   "cell_type": "code",
   "execution_count": 432,
   "id": "d8f16d61",
   "metadata": {},
   "outputs": [],
   "source": [
    "proc_names = []\n",
    "pattern = 'Intel|AMD'\n",
    "for i in proc_details:\n",
    "    x1 = re.findall(pattern,i)[0]\n",
    "    proc_names.append(x1)"
   ]
  },
  {
   "cell_type": "code",
   "execution_count": 433,
   "id": "e3ba810d",
   "metadata": {},
   "outputs": [
    {
     "name": "stdout",
     "output_type": "stream",
     "text": [
      "['Intel', 'Intel', 'Intel', 'Intel', 'Intel', 'Intel', 'Intel', 'Intel', 'Intel', 'Intel', 'Intel', 'Intel', 'Intel', 'Intel', 'Intel', 'AMD', 'Intel', 'Intel', 'Intel', 'Intel', 'Intel', 'Intel', 'AMD', 'Intel']\n"
     ]
    }
   ],
   "source": [
    "print(proc_names)"
   ]
  },
  {
   "cell_type": "code",
   "execution_count": null,
   "id": "849ad902",
   "metadata": {},
   "outputs": [],
   "source": []
  },
  {
   "cell_type": "code",
   "execution_count": 434,
   "id": "af848262",
   "metadata": {},
   "outputs": [],
   "source": [
    "df['proc_names'] = proc_names"
   ]
  },
  {
   "cell_type": "code",
   "execution_count": 435,
   "id": "4350df4e",
   "metadata": {},
   "outputs": [
    {
     "data": {
      "text/html": [
       "<div>\n",
       "<style scoped>\n",
       "    .dataframe tbody tr th:only-of-type {\n",
       "        vertical-align: middle;\n",
       "    }\n",
       "\n",
       "    .dataframe tbody tr th {\n",
       "        vertical-align: top;\n",
       "    }\n",
       "\n",
       "    .dataframe thead th {\n",
       "        text-align: right;\n",
       "    }\n",
       "</style>\n",
       "<table border=\"1\" class=\"dataframe\">\n",
       "  <thead>\n",
       "    <tr style=\"text-align: right;\">\n",
       "      <th></th>\n",
       "      <th>Laptop_Name</th>\n",
       "      <th>Brand_Name</th>\n",
       "      <th>Discounted_Price</th>\n",
       "      <th>Org_Price</th>\n",
       "      <th>%Discount</th>\n",
       "      <th>Avg_Rating</th>\n",
       "      <th>Total_Ratings</th>\n",
       "      <th>Total_Reviws</th>\n",
       "      <th>Processor</th>\n",
       "      <th>Ram</th>\n",
       "      <th>Ram(HDD)</th>\n",
       "      <th>proc_names</th>\n",
       "    </tr>\n",
       "  </thead>\n",
       "  <tbody>\n",
       "    <tr>\n",
       "      <th>0</th>\n",
       "      <td>MSI GF63 Intel Core i5 11th Gen 11260H - (8 GB...</td>\n",
       "      <td>MSI</td>\n",
       "      <td>46990</td>\n",
       "      <td>67990</td>\n",
       "      <td>30</td>\n",
       "      <td>4.3</td>\n",
       "      <td>490</td>\n",
       "      <td>146</td>\n",
       "      <td>Intel Core i5 Processor (11th Gen)</td>\n",
       "      <td>8 GB DDR4 RAM</td>\n",
       "      <td>8</td>\n",
       "      <td>Intel</td>\n",
       "    </tr>\n",
       "    <tr>\n",
       "      <th>1</th>\n",
       "      <td>MSI GF63 Intel Core i7 12th Gen 12650H - (16 G...</td>\n",
       "      <td>MSI</td>\n",
       "      <td>97990</td>\n",
       "      <td>111990</td>\n",
       "      <td>12</td>\n",
       "      <td>3.9</td>\n",
       "      <td>7</td>\n",
       "      <td>323</td>\n",
       "      <td>Intel Core i7 Processor (12th Gen)</td>\n",
       "      <td>16 GB DDR4 RAM</td>\n",
       "      <td>16</td>\n",
       "      <td>Intel</td>\n",
       "    </tr>\n",
       "    <tr>\n",
       "      <th>2</th>\n",
       "      <td>HP Intel Intel Core i3 11th Gen 1115G4 - (8 GB...</td>\n",
       "      <td>HP</td>\n",
       "      <td>31990</td>\n",
       "      <td>47279</td>\n",
       "      <td>32</td>\n",
       "      <td>4.3</td>\n",
       "      <td>11242</td>\n",
       "      <td>886</td>\n",
       "      <td>Intel Core i3 Processor (11th Gen)</td>\n",
       "      <td>8 GB DDR4 RAM</td>\n",
       "      <td>8</td>\n",
       "      <td>Intel</td>\n",
       "    </tr>\n",
       "    <tr>\n",
       "      <th>3</th>\n",
       "      <td>DELL Intel Core i3 12th Gen 1215U - (8 GB/512 ...</td>\n",
       "      <td>DELL</td>\n",
       "      <td>36990</td>\n",
       "      <td>61431</td>\n",
       "      <td>39</td>\n",
       "      <td>4.2</td>\n",
       "      <td>879</td>\n",
       "      <td>105</td>\n",
       "      <td>Processor: Intel i3-1215U (Base- 0.9 GHz &amp; Tur...</td>\n",
       "      <td>8 GB DDR4 RAM</td>\n",
       "      <td>8</td>\n",
       "      <td>Intel</td>\n",
       "    </tr>\n",
       "    <tr>\n",
       "      <th>4</th>\n",
       "      <td>ASUS Vivobook 15 Intel Core i3 11th Gen 1115G4...</td>\n",
       "      <td>ASUS</td>\n",
       "      <td>29990</td>\n",
       "      <td>44990</td>\n",
       "      <td>33</td>\n",
       "      <td>4.3</td>\n",
       "      <td>11615</td>\n",
       "      <td>48</td>\n",
       "      <td>Intel Core i3 Processor (11th Gen)</td>\n",
       "      <td>8 GB DDR4 RAM</td>\n",
       "      <td>8</td>\n",
       "      <td>Intel</td>\n",
       "    </tr>\n",
       "  </tbody>\n",
       "</table>\n",
       "</div>"
      ],
      "text/plain": [
       "                                         Laptop_Name Brand_Name  \\\n",
       "0  MSI GF63 Intel Core i5 11th Gen 11260H - (8 GB...        MSI   \n",
       "1  MSI GF63 Intel Core i7 12th Gen 12650H - (16 G...        MSI   \n",
       "2  HP Intel Intel Core i3 11th Gen 1115G4 - (8 GB...         HP   \n",
       "3  DELL Intel Core i3 12th Gen 1215U - (8 GB/512 ...       DELL   \n",
       "4  ASUS Vivobook 15 Intel Core i3 11th Gen 1115G4...       ASUS   \n",
       "\n",
       "   Discounted_Price  Org_Price  %Discount  Avg_Rating  Total_Ratings  \\\n",
       "0             46990      67990         30         4.3            490   \n",
       "1             97990     111990         12         3.9              7   \n",
       "2             31990      47279         32         4.3          11242   \n",
       "3             36990      61431         39         4.2            879   \n",
       "4             29990      44990         33         4.3          11615   \n",
       "\n",
       "   Total_Reviws                                          Processor  \\\n",
       "0           146                 Intel Core i5 Processor (11th Gen)   \n",
       "1           323                 Intel Core i7 Processor (12th Gen)   \n",
       "2           886                 Intel Core i3 Processor (11th Gen)   \n",
       "3           105  Processor: Intel i3-1215U (Base- 0.9 GHz & Tur...   \n",
       "4            48                 Intel Core i3 Processor (11th Gen)   \n",
       "\n",
       "              Ram  Ram(HDD) proc_names  \n",
       "0   8 GB DDR4 RAM         8      Intel  \n",
       "1  16 GB DDR4 RAM        16      Intel  \n",
       "2   8 GB DDR4 RAM         8      Intel  \n",
       "3   8 GB DDR4 RAM         8      Intel  \n",
       "4   8 GB DDR4 RAM         8      Intel  "
      ]
     },
     "execution_count": 435,
     "metadata": {},
     "output_type": "execute_result"
    }
   ],
   "source": [
    "df.head()"
   ]
  },
  {
   "cell_type": "code",
   "execution_count": 436,
   "id": "0b8d0f3a",
   "metadata": {},
   "outputs": [
    {
     "data": {
      "text/plain": [
       "array(['Intel Core i5 Processor (11th Gen)',\n",
       "       'Intel Core i7 Processor (12th Gen)',\n",
       "       'Intel Core i3 Processor (11th Gen)',\n",
       "       'Processor: Intel i3-1215U (Base- 0.9 GHz & Turbo up to 4.40 GHz) 6 Cores',\n",
       "       'Intel Core i3 Processor (11th Gen)', 'Intel Core i3 Processor',\n",
       "       'Intel Core i3 Processor (11th Gen)',\n",
       "       'Intel Core i7 Processor (12th Gen)', 'Intel Core i3-1005G1',\n",
       "       'Intel Core i7 Processor (12th Gen)',\n",
       "       'Intel Core i7 Processor (11th Gen)',\n",
       "       'Intel Core i7 Processor (12th Gen)',\n",
       "       'Intel Core i5 Processor (12th Gen)',\n",
       "       'Intel Core i5 Processor (12th Gen)',\n",
       "       'Intel Core i3 Processor (12th Gen)',\n",
       "       'AMD Ryzen 5 Quad Core Processor',\n",
       "       'Intel Core i7 Processor (11th Gen)',\n",
       "       'Intel Core i5 Processor (11th Gen)',\n",
       "       'Intel Celeron Dual Core Processor',\n",
       "       'Intel Core i3 Processor (12th Gen)',\n",
       "       'Intel Core i5 Processor (12th Gen)',\n",
       "       'Intel Core i5 Processor (12th Gen)',\n",
       "       'AMD Ryzen 5 Hexa Core Processor',\n",
       "       'Intel Core i5 Processor (12th Gen)'], dtype=object)"
      ]
     },
     "execution_count": 436,
     "metadata": {},
     "output_type": "execute_result"
    }
   ],
   "source": [
    "proc_details = df['Processor'].values\n",
    "proc_details"
   ]
  },
  {
   "cell_type": "code",
   "execution_count": null,
   "id": "a63d07bb",
   "metadata": {},
   "outputs": [],
   "source": []
  },
  {
   "cell_type": "code",
   "execution_count": 437,
   "id": "83812bf4",
   "metadata": {},
   "outputs": [],
   "source": [
    "pattern = \"\\w+ Core \\w+ |\\w+ \\w+ \\w+ Core \\w+\"\n",
    "proc_type = []\n",
    "for i in proc_details:\n",
    "    x2 = re.findall(pattern,i)\n",
    "    if len(x2)>=1:\n",
    "        proc_type.append(x2[0])\n",
    "    else:\n",
    "        proc_type.append('i3')"
   ]
  },
  {
   "cell_type": "code",
   "execution_count": 438,
   "id": "604b89c9",
   "metadata": {},
   "outputs": [
    {
     "data": {
      "text/plain": [
       "['Intel Core i5 ',\n",
       " 'Intel Core i7 ',\n",
       " 'Intel Core i3 ',\n",
       " 'i3',\n",
       " 'Intel Core i3 ',\n",
       " 'Intel Core i3 ',\n",
       " 'Intel Core i3 ',\n",
       " 'Intel Core i7 ',\n",
       " 'i3',\n",
       " 'Intel Core i7 ',\n",
       " 'Intel Core i7 ',\n",
       " 'Intel Core i7 ',\n",
       " 'Intel Core i5 ',\n",
       " 'Intel Core i5 ',\n",
       " 'Intel Core i3 ',\n",
       " 'Ryzen 5 Quad Core Processor',\n",
       " 'Intel Core i7 ',\n",
       " 'Intel Core i5 ',\n",
       " 'Intel Celeron Dual Core Processor',\n",
       " 'Intel Core i3 ',\n",
       " 'Intel Core i5 ',\n",
       " 'Intel Core i5 ',\n",
       " 'Ryzen 5 Hexa Core Processor',\n",
       " 'Intel Core i5 ']"
      ]
     },
     "execution_count": 438,
     "metadata": {},
     "output_type": "execute_result"
    }
   ],
   "source": [
    "proc_type"
   ]
  },
  {
   "cell_type": "code",
   "execution_count": 439,
   "id": "3fa2564e",
   "metadata": {},
   "outputs": [],
   "source": [
    "proc_type1 = [i.replace(' Core Processor','') for i in proc_type]"
   ]
  },
  {
   "cell_type": "code",
   "execution_count": 440,
   "id": "98c2e43c",
   "metadata": {},
   "outputs": [
    {
     "data": {
      "text/plain": [
       "['Intel Core i5 ',\n",
       " 'Intel Core i7 ',\n",
       " 'Intel Core i3 ',\n",
       " 'i3',\n",
       " 'Intel Core i3 ',\n",
       " 'Intel Core i3 ',\n",
       " 'Intel Core i3 ',\n",
       " 'Intel Core i7 ',\n",
       " 'i3',\n",
       " 'Intel Core i7 ',\n",
       " 'Intel Core i7 ',\n",
       " 'Intel Core i7 ',\n",
       " 'Intel Core i5 ',\n",
       " 'Intel Core i5 ',\n",
       " 'Intel Core i3 ',\n",
       " 'Ryzen 5 Quad',\n",
       " 'Intel Core i7 ',\n",
       " 'Intel Core i5 ',\n",
       " 'Intel Celeron Dual',\n",
       " 'Intel Core i3 ',\n",
       " 'Intel Core i5 ',\n",
       " 'Intel Core i5 ',\n",
       " 'Ryzen 5 Hexa',\n",
       " 'Intel Core i5 ']"
      ]
     },
     "execution_count": 440,
     "metadata": {},
     "output_type": "execute_result"
    }
   ],
   "source": [
    "proc_type1"
   ]
  },
  {
   "cell_type": "code",
   "execution_count": 442,
   "id": "85d612ea",
   "metadata": {},
   "outputs": [
    {
     "data": {
      "text/plain": [
       "['i5',\n",
       " 'i7',\n",
       " 'i3',\n",
       " 'i3',\n",
       " 'i3',\n",
       " 'i3',\n",
       " 'i3',\n",
       " 'i7',\n",
       " 'i3',\n",
       " 'i7',\n",
       " 'i7',\n",
       " 'i7',\n",
       " 'i5',\n",
       " 'i5',\n",
       " 'i3',\n",
       " 'Ryzen 5 Quad',\n",
       " 'i7',\n",
       " 'i5',\n",
       " 'Celeron Dual',\n",
       " 'i3',\n",
       " 'i5',\n",
       " 'i5',\n",
       " 'Ryzen 5 Hexa',\n",
       " 'i5']"
      ]
     },
     "execution_count": 442,
     "metadata": {},
     "output_type": "execute_result"
    }
   ],
   "source": [
    "proc_type2 = [i.replace('Intel ','').replace('AMD ', '').replace('Core ', '').strip() for i in proc_type1]\n",
    "proc_type2"
   ]
  },
  {
   "cell_type": "code",
   "execution_count": 444,
   "id": "71e967bd",
   "metadata": {},
   "outputs": [
    {
     "data": {
      "text/html": [
       "<div>\n",
       "<style scoped>\n",
       "    .dataframe tbody tr th:only-of-type {\n",
       "        vertical-align: middle;\n",
       "    }\n",
       "\n",
       "    .dataframe tbody tr th {\n",
       "        vertical-align: top;\n",
       "    }\n",
       "\n",
       "    .dataframe thead th {\n",
       "        text-align: right;\n",
       "    }\n",
       "</style>\n",
       "<table border=\"1\" class=\"dataframe\">\n",
       "  <thead>\n",
       "    <tr style=\"text-align: right;\">\n",
       "      <th></th>\n",
       "      <th>Laptop_Name</th>\n",
       "      <th>Brand_Name</th>\n",
       "      <th>Discounted_Price</th>\n",
       "      <th>Org_Price</th>\n",
       "      <th>%Discount</th>\n",
       "      <th>Avg_Rating</th>\n",
       "      <th>Total_Ratings</th>\n",
       "      <th>Total_Reviws</th>\n",
       "      <th>Processor</th>\n",
       "      <th>Ram</th>\n",
       "      <th>Ram(HDD)</th>\n",
       "      <th>proc_names</th>\n",
       "      <th>Proc_Type</th>\n",
       "    </tr>\n",
       "  </thead>\n",
       "  <tbody>\n",
       "    <tr>\n",
       "      <th>0</th>\n",
       "      <td>MSI GF63 Intel Core i5 11th Gen 11260H - (8 GB...</td>\n",
       "      <td>MSI</td>\n",
       "      <td>46990</td>\n",
       "      <td>67990</td>\n",
       "      <td>30</td>\n",
       "      <td>4.3</td>\n",
       "      <td>490</td>\n",
       "      <td>146</td>\n",
       "      <td>Intel Core i5 Processor (11th Gen)</td>\n",
       "      <td>8 GB DDR4 RAM</td>\n",
       "      <td>8</td>\n",
       "      <td>Intel</td>\n",
       "      <td>i5</td>\n",
       "    </tr>\n",
       "    <tr>\n",
       "      <th>1</th>\n",
       "      <td>MSI GF63 Intel Core i7 12th Gen 12650H - (16 G...</td>\n",
       "      <td>MSI</td>\n",
       "      <td>97990</td>\n",
       "      <td>111990</td>\n",
       "      <td>12</td>\n",
       "      <td>3.9</td>\n",
       "      <td>7</td>\n",
       "      <td>323</td>\n",
       "      <td>Intel Core i7 Processor (12th Gen)</td>\n",
       "      <td>16 GB DDR4 RAM</td>\n",
       "      <td>16</td>\n",
       "      <td>Intel</td>\n",
       "      <td>i7</td>\n",
       "    </tr>\n",
       "    <tr>\n",
       "      <th>2</th>\n",
       "      <td>HP Intel Intel Core i3 11th Gen 1115G4 - (8 GB...</td>\n",
       "      <td>HP</td>\n",
       "      <td>31990</td>\n",
       "      <td>47279</td>\n",
       "      <td>32</td>\n",
       "      <td>4.3</td>\n",
       "      <td>11242</td>\n",
       "      <td>886</td>\n",
       "      <td>Intel Core i3 Processor (11th Gen)</td>\n",
       "      <td>8 GB DDR4 RAM</td>\n",
       "      <td>8</td>\n",
       "      <td>Intel</td>\n",
       "      <td>i3</td>\n",
       "    </tr>\n",
       "    <tr>\n",
       "      <th>3</th>\n",
       "      <td>DELL Intel Core i3 12th Gen 1215U - (8 GB/512 ...</td>\n",
       "      <td>DELL</td>\n",
       "      <td>36990</td>\n",
       "      <td>61431</td>\n",
       "      <td>39</td>\n",
       "      <td>4.2</td>\n",
       "      <td>879</td>\n",
       "      <td>105</td>\n",
       "      <td>Processor: Intel i3-1215U (Base- 0.9 GHz &amp; Tur...</td>\n",
       "      <td>8 GB DDR4 RAM</td>\n",
       "      <td>8</td>\n",
       "      <td>Intel</td>\n",
       "      <td>i3</td>\n",
       "    </tr>\n",
       "    <tr>\n",
       "      <th>4</th>\n",
       "      <td>ASUS Vivobook 15 Intel Core i3 11th Gen 1115G4...</td>\n",
       "      <td>ASUS</td>\n",
       "      <td>29990</td>\n",
       "      <td>44990</td>\n",
       "      <td>33</td>\n",
       "      <td>4.3</td>\n",
       "      <td>11615</td>\n",
       "      <td>48</td>\n",
       "      <td>Intel Core i3 Processor (11th Gen)</td>\n",
       "      <td>8 GB DDR4 RAM</td>\n",
       "      <td>8</td>\n",
       "      <td>Intel</td>\n",
       "      <td>i3</td>\n",
       "    </tr>\n",
       "    <tr>\n",
       "      <th>5</th>\n",
       "      <td>Acer Extensa Intel Core i3 N305 - (8 GB/512 GB...</td>\n",
       "      <td>Acer</td>\n",
       "      <td>28990</td>\n",
       "      <td>43999</td>\n",
       "      <td>34</td>\n",
       "      <td>4.2</td>\n",
       "      <td>328</td>\n",
       "      <td>51</td>\n",
       "      <td>Intel Core i3 Processor</td>\n",
       "      <td>8 GB LPDDR5 RAM</td>\n",
       "      <td>8</td>\n",
       "      <td>Intel</td>\n",
       "      <td>i3</td>\n",
       "    </tr>\n",
       "    <tr>\n",
       "      <th>6</th>\n",
       "      <td>MSI Modern 14 Intel Core i3 11th Gen 1115G4 - ...</td>\n",
       "      <td>MSI</td>\n",
       "      <td>28990</td>\n",
       "      <td>52990</td>\n",
       "      <td>45</td>\n",
       "      <td>4.3</td>\n",
       "      <td>2112</td>\n",
       "      <td>60</td>\n",
       "      <td>Intel Core i3 Processor (11th Gen)</td>\n",
       "      <td>8 GB DDR4 RAM</td>\n",
       "      <td>8</td>\n",
       "      <td>Intel</td>\n",
       "      <td>i3</td>\n",
       "    </tr>\n",
       "    <tr>\n",
       "      <th>7</th>\n",
       "      <td>MSI Katana 17 Intel Core i7 12th Gen 12650H - ...</td>\n",
       "      <td>MSI</td>\n",
       "      <td>110990</td>\n",
       "      <td>149990</td>\n",
       "      <td>26</td>\n",
       "      <td>5.0</td>\n",
       "      <td>13</td>\n",
       "      <td>258</td>\n",
       "      <td>Intel Core i7 Processor (12th Gen)</td>\n",
       "      <td>16 GB DDR5 RAM</td>\n",
       "      <td>16</td>\n",
       "      <td>Intel</td>\n",
       "      <td>i7</td>\n",
       "    </tr>\n",
       "    <tr>\n",
       "      <th>8</th>\n",
       "      <td>CHUWI Intel Core i3 10th Gen 1005G1 - (8 GB/51...</td>\n",
       "      <td>CHUWI</td>\n",
       "      <td>24990</td>\n",
       "      <td>49990</td>\n",
       "      <td>50</td>\n",
       "      <td>4.1</td>\n",
       "      <td>803</td>\n",
       "      <td>168</td>\n",
       "      <td>Intel Core i3-1005G1</td>\n",
       "      <td>8 GB DDR4 RAM</td>\n",
       "      <td>8</td>\n",
       "      <td>Intel</td>\n",
       "      <td>i3</td>\n",
       "    </tr>\n",
       "    <tr>\n",
       "      <th>9</th>\n",
       "      <td>Lenovo Intel Core i7 12th Gen 1255U - (16 GB/5...</td>\n",
       "      <td>Lenovo</td>\n",
       "      <td>49990</td>\n",
       "      <td>90000</td>\n",
       "      <td>44</td>\n",
       "      <td>4.0</td>\n",
       "      <td>708</td>\n",
       "      <td>168</td>\n",
       "      <td>Intel Core i7 Processor (12th Gen)</td>\n",
       "      <td>16 GB DDR4 RAM</td>\n",
       "      <td>16</td>\n",
       "      <td>Intel</td>\n",
       "      <td>i7</td>\n",
       "    </tr>\n",
       "    <tr>\n",
       "      <th>10</th>\n",
       "      <td>MSI GF63 Intel Core i7 11th Gen 11800H - (16 G...</td>\n",
       "      <td>MSI</td>\n",
       "      <td>66890</td>\n",
       "      <td>82990</td>\n",
       "      <td>19</td>\n",
       "      <td>4.3</td>\n",
       "      <td>842</td>\n",
       "      <td>353</td>\n",
       "      <td>Intel Core i7 Processor (11th Gen)</td>\n",
       "      <td>16 GB DDR4 RAM</td>\n",
       "      <td>16</td>\n",
       "      <td>Intel</td>\n",
       "      <td>i7</td>\n",
       "    </tr>\n",
       "    <tr>\n",
       "      <th>11</th>\n",
       "      <td>MSI GF63 Intel Core i7 12th Gen 12650H - (16 G...</td>\n",
       "      <td>MSI</td>\n",
       "      <td>87990</td>\n",
       "      <td>115990</td>\n",
       "      <td>24</td>\n",
       "      <td>4.3</td>\n",
       "      <td>52</td>\n",
       "      <td>46</td>\n",
       "      <td>Intel Core i7 Processor (12th Gen)</td>\n",
       "      <td>16 GB DDR4 RAM</td>\n",
       "      <td>16</td>\n",
       "      <td>Intel</td>\n",
       "      <td>i7</td>\n",
       "    </tr>\n",
       "    <tr>\n",
       "      <th>12</th>\n",
       "      <td>SAMSUNG Galaxy Book 2 Intel Core i5 12th Gen 1...</td>\n",
       "      <td>SAMSUNG</td>\n",
       "      <td>48990</td>\n",
       "      <td>85990</td>\n",
       "      <td>43</td>\n",
       "      <td>4.3</td>\n",
       "      <td>1677</td>\n",
       "      <td>237</td>\n",
       "      <td>Intel Core i5 Processor (12th Gen)</td>\n",
       "      <td>16 GB DDR4 RAM</td>\n",
       "      <td>16</td>\n",
       "      <td>Intel</td>\n",
       "      <td>i5</td>\n",
       "    </tr>\n",
       "    <tr>\n",
       "      <th>13</th>\n",
       "      <td>SAMSUNG Galaxy Book 2 Intel Core i5 12th Gen 1...</td>\n",
       "      <td>SAMSUNG</td>\n",
       "      <td>44990</td>\n",
       "      <td>82990</td>\n",
       "      <td>45</td>\n",
       "      <td>4.3</td>\n",
       "      <td>1677</td>\n",
       "      <td>5</td>\n",
       "      <td>Intel Core i5 Processor (12th Gen)</td>\n",
       "      <td>8 GB DDR4 RAM</td>\n",
       "      <td>8</td>\n",
       "      <td>Intel</td>\n",
       "      <td>i5</td>\n",
       "    </tr>\n",
       "    <tr>\n",
       "      <th>14</th>\n",
       "      <td>Lenovo V15 Intel Intel Core i3 12th Gen 1215U ...</td>\n",
       "      <td>Lenovo</td>\n",
       "      <td>34500</td>\n",
       "      <td>59000</td>\n",
       "      <td>41</td>\n",
       "      <td>4.2</td>\n",
       "      <td>101</td>\n",
       "      <td>30</td>\n",
       "      <td>Intel Core i3 Processor (12th Gen)</td>\n",
       "      <td>8 GB DDR4 RAM</td>\n",
       "      <td>8</td>\n",
       "      <td>Intel</td>\n",
       "      <td>i3</td>\n",
       "    </tr>\n",
       "    <tr>\n",
       "      <th>15</th>\n",
       "      <td>HP AMD Ryzen 5 Quad Core R5 5500 - (8 GB/512 G...</td>\n",
       "      <td>HP</td>\n",
       "      <td>28990</td>\n",
       "      <td>48146</td>\n",
       "      <td>39</td>\n",
       "      <td>3.3</td>\n",
       "      <td>15</td>\n",
       "      <td>1</td>\n",
       "      <td>AMD Ryzen 5 Quad Core Processor</td>\n",
       "      <td>8 GB DDR4 RAM</td>\n",
       "      <td>8</td>\n",
       "      <td>AMD</td>\n",
       "      <td>Ryzen 5 Quad</td>\n",
       "    </tr>\n",
       "    <tr>\n",
       "      <th>16</th>\n",
       "      <td>MSI GF63 Intel Core i7 11th Gen 11800H - (16 G...</td>\n",
       "      <td>MSI</td>\n",
       "      <td>59990</td>\n",
       "      <td>81990</td>\n",
       "      <td>26</td>\n",
       "      <td>4.3</td>\n",
       "      <td>150</td>\n",
       "      <td>2</td>\n",
       "      <td>Intel Core i7 Processor (11th Gen)</td>\n",
       "      <td>16 GB DDR4 RAM</td>\n",
       "      <td>16</td>\n",
       "      <td>Intel</td>\n",
       "      <td>i7</td>\n",
       "    </tr>\n",
       "    <tr>\n",
       "      <th>17</th>\n",
       "      <td>MSI GF63 Intel Core i5 11th Gen 11260H - (16 G...</td>\n",
       "      <td>MSI</td>\n",
       "      <td>57990</td>\n",
       "      <td>84990</td>\n",
       "      <td>31</td>\n",
       "      <td>4.3</td>\n",
       "      <td>273</td>\n",
       "      <td>186</td>\n",
       "      <td>Intel Core i5 Processor (11th Gen)</td>\n",
       "      <td>16 GB DDR4 RAM</td>\n",
       "      <td>16</td>\n",
       "      <td>Intel</td>\n",
       "      <td>i5</td>\n",
       "    </tr>\n",
       "    <tr>\n",
       "      <th>18</th>\n",
       "      <td>ASUS Vivobook Go 14 Intel Celeron Dual Core N4...</td>\n",
       "      <td>ASUS</td>\n",
       "      <td>23990</td>\n",
       "      <td>36990</td>\n",
       "      <td>35</td>\n",
       "      <td>4.3</td>\n",
       "      <td>75</td>\n",
       "      <td>84</td>\n",
       "      <td>Intel Celeron Dual Core Processor</td>\n",
       "      <td>8 GB DDR4 RAM</td>\n",
       "      <td>8</td>\n",
       "      <td>Intel</td>\n",
       "      <td>Celeron Dual</td>\n",
       "    </tr>\n",
       "    <tr>\n",
       "      <th>19</th>\n",
       "      <td>DELL Intel Core i3 12th Gen 1215U - (8 GB/512 ...</td>\n",
       "      <td>DELL</td>\n",
       "      <td>38480</td>\n",
       "      <td>62561</td>\n",
       "      <td>38</td>\n",
       "      <td>4.2</td>\n",
       "      <td>318</td>\n",
       "      <td>206</td>\n",
       "      <td>Intel Core i3 Processor (12th Gen)</td>\n",
       "      <td>8 GB DDR4 RAM</td>\n",
       "      <td>8</td>\n",
       "      <td>Intel</td>\n",
       "      <td>i3</td>\n",
       "    </tr>\n",
       "    <tr>\n",
       "      <th>20</th>\n",
       "      <td>MSI GF63 Intel Core i5 12th Gen 12450H - (16 G...</td>\n",
       "      <td>MSI</td>\n",
       "      <td>86990</td>\n",
       "      <td>111990</td>\n",
       "      <td>22</td>\n",
       "      <td>4.3</td>\n",
       "      <td>55</td>\n",
       "      <td>17</td>\n",
       "      <td>Intel Core i5 Processor (12th Gen)</td>\n",
       "      <td>16 GB DDR4 RAM</td>\n",
       "      <td>16</td>\n",
       "      <td>Intel</td>\n",
       "      <td>i5</td>\n",
       "    </tr>\n",
       "    <tr>\n",
       "      <th>21</th>\n",
       "      <td>MSI Intel Core i5 12th Gen 12450H - (16 GB/512...</td>\n",
       "      <td>MSI</td>\n",
       "      <td>69990</td>\n",
       "      <td>114990</td>\n",
       "      <td>39</td>\n",
       "      <td>3.6</td>\n",
       "      <td>5</td>\n",
       "      <td>108</td>\n",
       "      <td>Intel Core i5 Processor (12th Gen)</td>\n",
       "      <td>16 GB DDR4 RAM</td>\n",
       "      <td>16</td>\n",
       "      <td>Intel</td>\n",
       "      <td>i5</td>\n",
       "    </tr>\n",
       "    <tr>\n",
       "      <th>22</th>\n",
       "      <td>HP AMD Ryzen 5 Hexa Core 5500U - (16 GB/512 GB...</td>\n",
       "      <td>HP</td>\n",
       "      <td>46490</td>\n",
       "      <td>59109</td>\n",
       "      <td>21</td>\n",
       "      <td>4.3</td>\n",
       "      <td>2391</td>\n",
       "      <td>6</td>\n",
       "      <td>AMD Ryzen 5 Hexa Core Processor</td>\n",
       "      <td>16 GB DDR4 RAM</td>\n",
       "      <td>16</td>\n",
       "      <td>AMD</td>\n",
       "      <td>Ryzen 5 Hexa</td>\n",
       "    </tr>\n",
       "    <tr>\n",
       "      <th>23</th>\n",
       "      <td>Acer Nitro 5 Intel Core i5 12th Gen 12450H - (...</td>\n",
       "      <td>Acer</td>\n",
       "      <td>62990</td>\n",
       "      <td>96999</td>\n",
       "      <td>35</td>\n",
       "      <td>4.3</td>\n",
       "      <td>493</td>\n",
       "      <td>111</td>\n",
       "      <td>Intel Core i5 Processor (12th Gen)</td>\n",
       "      <td>8 GB DDR4 RAM</td>\n",
       "      <td>8</td>\n",
       "      <td>Intel</td>\n",
       "      <td>i5</td>\n",
       "    </tr>\n",
       "  </tbody>\n",
       "</table>\n",
       "</div>"
      ],
      "text/plain": [
       "                                          Laptop_Name Brand_Name  \\\n",
       "0   MSI GF63 Intel Core i5 11th Gen 11260H - (8 GB...        MSI   \n",
       "1   MSI GF63 Intel Core i7 12th Gen 12650H - (16 G...        MSI   \n",
       "2   HP Intel Intel Core i3 11th Gen 1115G4 - (8 GB...         HP   \n",
       "3   DELL Intel Core i3 12th Gen 1215U - (8 GB/512 ...       DELL   \n",
       "4   ASUS Vivobook 15 Intel Core i3 11th Gen 1115G4...       ASUS   \n",
       "5   Acer Extensa Intel Core i3 N305 - (8 GB/512 GB...       Acer   \n",
       "6   MSI Modern 14 Intel Core i3 11th Gen 1115G4 - ...        MSI   \n",
       "7   MSI Katana 17 Intel Core i7 12th Gen 12650H - ...        MSI   \n",
       "8   CHUWI Intel Core i3 10th Gen 1005G1 - (8 GB/51...      CHUWI   \n",
       "9   Lenovo Intel Core i7 12th Gen 1255U - (16 GB/5...     Lenovo   \n",
       "10  MSI GF63 Intel Core i7 11th Gen 11800H - (16 G...        MSI   \n",
       "11  MSI GF63 Intel Core i7 12th Gen 12650H - (16 G...        MSI   \n",
       "12  SAMSUNG Galaxy Book 2 Intel Core i5 12th Gen 1...    SAMSUNG   \n",
       "13  SAMSUNG Galaxy Book 2 Intel Core i5 12th Gen 1...    SAMSUNG   \n",
       "14  Lenovo V15 Intel Intel Core i3 12th Gen 1215U ...     Lenovo   \n",
       "15  HP AMD Ryzen 5 Quad Core R5 5500 - (8 GB/512 G...         HP   \n",
       "16  MSI GF63 Intel Core i7 11th Gen 11800H - (16 G...        MSI   \n",
       "17  MSI GF63 Intel Core i5 11th Gen 11260H - (16 G...        MSI   \n",
       "18  ASUS Vivobook Go 14 Intel Celeron Dual Core N4...       ASUS   \n",
       "19  DELL Intel Core i3 12th Gen 1215U - (8 GB/512 ...       DELL   \n",
       "20  MSI GF63 Intel Core i5 12th Gen 12450H - (16 G...        MSI   \n",
       "21  MSI Intel Core i5 12th Gen 12450H - (16 GB/512...        MSI   \n",
       "22  HP AMD Ryzen 5 Hexa Core 5500U - (16 GB/512 GB...         HP   \n",
       "23  Acer Nitro 5 Intel Core i5 12th Gen 12450H - (...       Acer   \n",
       "\n",
       "    Discounted_Price  Org_Price  %Discount  Avg_Rating  Total_Ratings  \\\n",
       "0              46990      67990         30         4.3            490   \n",
       "1              97990     111990         12         3.9              7   \n",
       "2              31990      47279         32         4.3          11242   \n",
       "3              36990      61431         39         4.2            879   \n",
       "4              29990      44990         33         4.3          11615   \n",
       "5              28990      43999         34         4.2            328   \n",
       "6              28990      52990         45         4.3           2112   \n",
       "7             110990     149990         26         5.0             13   \n",
       "8              24990      49990         50         4.1            803   \n",
       "9              49990      90000         44         4.0            708   \n",
       "10             66890      82990         19         4.3            842   \n",
       "11             87990     115990         24         4.3             52   \n",
       "12             48990      85990         43         4.3           1677   \n",
       "13             44990      82990         45         4.3           1677   \n",
       "14             34500      59000         41         4.2            101   \n",
       "15             28990      48146         39         3.3             15   \n",
       "16             59990      81990         26         4.3            150   \n",
       "17             57990      84990         31         4.3            273   \n",
       "18             23990      36990         35         4.3             75   \n",
       "19             38480      62561         38         4.2            318   \n",
       "20             86990     111990         22         4.3             55   \n",
       "21             69990     114990         39         3.6              5   \n",
       "22             46490      59109         21         4.3           2391   \n",
       "23             62990      96999         35         4.3            493   \n",
       "\n",
       "    Total_Reviws                                          Processor  \\\n",
       "0            146                 Intel Core i5 Processor (11th Gen)   \n",
       "1            323                 Intel Core i7 Processor (12th Gen)   \n",
       "2            886                 Intel Core i3 Processor (11th Gen)   \n",
       "3            105  Processor: Intel i3-1215U (Base- 0.9 GHz & Tur...   \n",
       "4             48                 Intel Core i3 Processor (11th Gen)   \n",
       "5             51                            Intel Core i3 Processor   \n",
       "6             60                 Intel Core i3 Processor (11th Gen)   \n",
       "7            258                 Intel Core i7 Processor (12th Gen)   \n",
       "8            168                               Intel Core i3-1005G1   \n",
       "9            168                 Intel Core i7 Processor (12th Gen)   \n",
       "10           353                 Intel Core i7 Processor (11th Gen)   \n",
       "11            46                 Intel Core i7 Processor (12th Gen)   \n",
       "12           237                 Intel Core i5 Processor (12th Gen)   \n",
       "13             5                 Intel Core i5 Processor (12th Gen)   \n",
       "14            30                 Intel Core i3 Processor (12th Gen)   \n",
       "15             1                    AMD Ryzen 5 Quad Core Processor   \n",
       "16             2                 Intel Core i7 Processor (11th Gen)   \n",
       "17           186                 Intel Core i5 Processor (11th Gen)   \n",
       "18            84                  Intel Celeron Dual Core Processor   \n",
       "19           206                 Intel Core i3 Processor (12th Gen)   \n",
       "20            17                 Intel Core i5 Processor (12th Gen)   \n",
       "21           108                 Intel Core i5 Processor (12th Gen)   \n",
       "22             6                    AMD Ryzen 5 Hexa Core Processor   \n",
       "23           111                 Intel Core i5 Processor (12th Gen)   \n",
       "\n",
       "                Ram  Ram(HDD) proc_names     Proc_Type  \n",
       "0     8 GB DDR4 RAM         8      Intel            i5  \n",
       "1    16 GB DDR4 RAM        16      Intel            i7  \n",
       "2     8 GB DDR4 RAM         8      Intel            i3  \n",
       "3     8 GB DDR4 RAM         8      Intel            i3  \n",
       "4     8 GB DDR4 RAM         8      Intel            i3  \n",
       "5   8 GB LPDDR5 RAM         8      Intel            i3  \n",
       "6     8 GB DDR4 RAM         8      Intel            i3  \n",
       "7    16 GB DDR5 RAM        16      Intel            i7  \n",
       "8     8 GB DDR4 RAM         8      Intel            i3  \n",
       "9    16 GB DDR4 RAM        16      Intel            i7  \n",
       "10   16 GB DDR4 RAM        16      Intel            i7  \n",
       "11   16 GB DDR4 RAM        16      Intel            i7  \n",
       "12   16 GB DDR4 RAM        16      Intel            i5  \n",
       "13    8 GB DDR4 RAM         8      Intel            i5  \n",
       "14    8 GB DDR4 RAM         8      Intel            i3  \n",
       "15    8 GB DDR4 RAM         8        AMD  Ryzen 5 Quad  \n",
       "16   16 GB DDR4 RAM        16      Intel            i7  \n",
       "17   16 GB DDR4 RAM        16      Intel            i5  \n",
       "18    8 GB DDR4 RAM         8      Intel  Celeron Dual  \n",
       "19    8 GB DDR4 RAM         8      Intel            i3  \n",
       "20   16 GB DDR4 RAM        16      Intel            i5  \n",
       "21   16 GB DDR4 RAM        16      Intel            i5  \n",
       "22   16 GB DDR4 RAM        16        AMD  Ryzen 5 Hexa  \n",
       "23    8 GB DDR4 RAM         8      Intel            i5  "
      ]
     },
     "execution_count": 444,
     "metadata": {},
     "output_type": "execute_result"
    }
   ],
   "source": [
    "df['Proc_Type'] = proc_type2\n",
    "df"
   ]
  },
  {
   "cell_type": "code",
   "execution_count": 445,
   "id": "18cf1203",
   "metadata": {},
   "outputs": [
    {
     "data": {
      "text/plain": [
       "array(['Intel Core i5 Processor (11th Gen)',\n",
       "       'Intel Core i7 Processor (12th Gen)',\n",
       "       'Intel Core i3 Processor (11th Gen)',\n",
       "       'Processor: Intel i3-1215U (Base- 0.9 GHz & Turbo up to 4.40 GHz) 6 Cores',\n",
       "       'Intel Core i3 Processor (11th Gen)', 'Intel Core i3 Processor',\n",
       "       'Intel Core i3 Processor (11th Gen)',\n",
       "       'Intel Core i7 Processor (12th Gen)', 'Intel Core i3-1005G1',\n",
       "       'Intel Core i7 Processor (12th Gen)',\n",
       "       'Intel Core i7 Processor (11th Gen)',\n",
       "       'Intel Core i7 Processor (12th Gen)',\n",
       "       'Intel Core i5 Processor (12th Gen)',\n",
       "       'Intel Core i5 Processor (12th Gen)',\n",
       "       'Intel Core i3 Processor (12th Gen)',\n",
       "       'AMD Ryzen 5 Quad Core Processor',\n",
       "       'Intel Core i7 Processor (11th Gen)',\n",
       "       'Intel Core i5 Processor (11th Gen)',\n",
       "       'Intel Celeron Dual Core Processor',\n",
       "       'Intel Core i3 Processor (12th Gen)',\n",
       "       'Intel Core i5 Processor (12th Gen)',\n",
       "       'Intel Core i5 Processor (12th Gen)',\n",
       "       'AMD Ryzen 5 Hexa Core Processor',\n",
       "       'Intel Core i5 Processor (12th Gen)'], dtype=object)"
      ]
     },
     "execution_count": 445,
     "metadata": {},
     "output_type": "execute_result"
    }
   ],
   "source": [
    "proc_details"
   ]
  },
  {
   "cell_type": "code",
   "execution_count": 449,
   "id": "38d0183a",
   "metadata": {},
   "outputs": [],
   "source": [
    "proc_gen = []\n",
    "pattern = '\\d+th Gen'\n",
    "for i in proc_details:\n",
    "    x3 = re.findall(pattern,i)\n",
    "    if len(x3) >= 1:\n",
    "        proc_gen.append(x3[0])\n",
    "    else:\n",
    "        proc_gen.append('Unknown')"
   ]
  },
  {
   "cell_type": "code",
   "execution_count": 451,
   "id": "fc00dc72",
   "metadata": {},
   "outputs": [
    {
     "name": "stdout",
     "output_type": "stream",
     "text": [
      "['11th Gen', '12th Gen', '11th Gen', 'Unknown', '11th Gen', 'Unknown', '11th Gen', '12th Gen', 'Unknown', '12th Gen', '11th Gen', '12th Gen', '12th Gen', '12th Gen', '12th Gen', 'Unknown', '11th Gen', '11th Gen', 'Unknown', '12th Gen', '12th Gen', '12th Gen', 'Unknown', '12th Gen']\n"
     ]
    }
   ],
   "source": [
    "print(proc_gen)"
   ]
  },
  {
   "cell_type": "code",
   "execution_count": 452,
   "id": "bc0a2123",
   "metadata": {},
   "outputs": [
    {
     "data": {
      "text/html": [
       "<div>\n",
       "<style scoped>\n",
       "    .dataframe tbody tr th:only-of-type {\n",
       "        vertical-align: middle;\n",
       "    }\n",
       "\n",
       "    .dataframe tbody tr th {\n",
       "        vertical-align: top;\n",
       "    }\n",
       "\n",
       "    .dataframe thead th {\n",
       "        text-align: right;\n",
       "    }\n",
       "</style>\n",
       "<table border=\"1\" class=\"dataframe\">\n",
       "  <thead>\n",
       "    <tr style=\"text-align: right;\">\n",
       "      <th></th>\n",
       "      <th>Laptop_Name</th>\n",
       "      <th>Brand_Name</th>\n",
       "      <th>Discounted_Price</th>\n",
       "      <th>Org_Price</th>\n",
       "      <th>%Discount</th>\n",
       "      <th>Avg_Rating</th>\n",
       "      <th>Total_Ratings</th>\n",
       "      <th>Total_Reviws</th>\n",
       "      <th>Processor</th>\n",
       "      <th>Ram</th>\n",
       "      <th>Ram(HDD)</th>\n",
       "      <th>proc_names</th>\n",
       "      <th>Proc_Type</th>\n",
       "      <th>Proc_Gen</th>\n",
       "    </tr>\n",
       "  </thead>\n",
       "  <tbody>\n",
       "    <tr>\n",
       "      <th>0</th>\n",
       "      <td>MSI GF63 Intel Core i5 11th Gen 11260H - (8 GB...</td>\n",
       "      <td>MSI</td>\n",
       "      <td>46990</td>\n",
       "      <td>67990</td>\n",
       "      <td>30</td>\n",
       "      <td>4.3</td>\n",
       "      <td>490</td>\n",
       "      <td>146</td>\n",
       "      <td>Intel Core i5 Processor (11th Gen)</td>\n",
       "      <td>8 GB DDR4 RAM</td>\n",
       "      <td>8</td>\n",
       "      <td>Intel</td>\n",
       "      <td>i5</td>\n",
       "      <td>11th Gen</td>\n",
       "    </tr>\n",
       "    <tr>\n",
       "      <th>1</th>\n",
       "      <td>MSI GF63 Intel Core i7 12th Gen 12650H - (16 G...</td>\n",
       "      <td>MSI</td>\n",
       "      <td>97990</td>\n",
       "      <td>111990</td>\n",
       "      <td>12</td>\n",
       "      <td>3.9</td>\n",
       "      <td>7</td>\n",
       "      <td>323</td>\n",
       "      <td>Intel Core i7 Processor (12th Gen)</td>\n",
       "      <td>16 GB DDR4 RAM</td>\n",
       "      <td>16</td>\n",
       "      <td>Intel</td>\n",
       "      <td>i7</td>\n",
       "      <td>12th Gen</td>\n",
       "    </tr>\n",
       "    <tr>\n",
       "      <th>2</th>\n",
       "      <td>HP Intel Intel Core i3 11th Gen 1115G4 - (8 GB...</td>\n",
       "      <td>HP</td>\n",
       "      <td>31990</td>\n",
       "      <td>47279</td>\n",
       "      <td>32</td>\n",
       "      <td>4.3</td>\n",
       "      <td>11242</td>\n",
       "      <td>886</td>\n",
       "      <td>Intel Core i3 Processor (11th Gen)</td>\n",
       "      <td>8 GB DDR4 RAM</td>\n",
       "      <td>8</td>\n",
       "      <td>Intel</td>\n",
       "      <td>i3</td>\n",
       "      <td>11th Gen</td>\n",
       "    </tr>\n",
       "    <tr>\n",
       "      <th>3</th>\n",
       "      <td>DELL Intel Core i3 12th Gen 1215U - (8 GB/512 ...</td>\n",
       "      <td>DELL</td>\n",
       "      <td>36990</td>\n",
       "      <td>61431</td>\n",
       "      <td>39</td>\n",
       "      <td>4.2</td>\n",
       "      <td>879</td>\n",
       "      <td>105</td>\n",
       "      <td>Processor: Intel i3-1215U (Base- 0.9 GHz &amp; Tur...</td>\n",
       "      <td>8 GB DDR4 RAM</td>\n",
       "      <td>8</td>\n",
       "      <td>Intel</td>\n",
       "      <td>i3</td>\n",
       "      <td>Unknown</td>\n",
       "    </tr>\n",
       "    <tr>\n",
       "      <th>4</th>\n",
       "      <td>ASUS Vivobook 15 Intel Core i3 11th Gen 1115G4...</td>\n",
       "      <td>ASUS</td>\n",
       "      <td>29990</td>\n",
       "      <td>44990</td>\n",
       "      <td>33</td>\n",
       "      <td>4.3</td>\n",
       "      <td>11615</td>\n",
       "      <td>48</td>\n",
       "      <td>Intel Core i3 Processor (11th Gen)</td>\n",
       "      <td>8 GB DDR4 RAM</td>\n",
       "      <td>8</td>\n",
       "      <td>Intel</td>\n",
       "      <td>i3</td>\n",
       "      <td>11th Gen</td>\n",
       "    </tr>\n",
       "  </tbody>\n",
       "</table>\n",
       "</div>"
      ],
      "text/plain": [
       "                                         Laptop_Name Brand_Name  \\\n",
       "0  MSI GF63 Intel Core i5 11th Gen 11260H - (8 GB...        MSI   \n",
       "1  MSI GF63 Intel Core i7 12th Gen 12650H - (16 G...        MSI   \n",
       "2  HP Intel Intel Core i3 11th Gen 1115G4 - (8 GB...         HP   \n",
       "3  DELL Intel Core i3 12th Gen 1215U - (8 GB/512 ...       DELL   \n",
       "4  ASUS Vivobook 15 Intel Core i3 11th Gen 1115G4...       ASUS   \n",
       "\n",
       "   Discounted_Price  Org_Price  %Discount  Avg_Rating  Total_Ratings  \\\n",
       "0             46990      67990         30         4.3            490   \n",
       "1             97990     111990         12         3.9              7   \n",
       "2             31990      47279         32         4.3          11242   \n",
       "3             36990      61431         39         4.2            879   \n",
       "4             29990      44990         33         4.3          11615   \n",
       "\n",
       "   Total_Reviws                                          Processor  \\\n",
       "0           146                 Intel Core i5 Processor (11th Gen)   \n",
       "1           323                 Intel Core i7 Processor (12th Gen)   \n",
       "2           886                 Intel Core i3 Processor (11th Gen)   \n",
       "3           105  Processor: Intel i3-1215U (Base- 0.9 GHz & Tur...   \n",
       "4            48                 Intel Core i3 Processor (11th Gen)   \n",
       "\n",
       "              Ram  Ram(HDD) proc_names Proc_Type  Proc_Gen  \n",
       "0   8 GB DDR4 RAM         8      Intel        i5  11th Gen  \n",
       "1  16 GB DDR4 RAM        16      Intel        i7  12th Gen  \n",
       "2   8 GB DDR4 RAM         8      Intel        i3  11th Gen  \n",
       "3   8 GB DDR4 RAM         8      Intel        i3   Unknown  \n",
       "4   8 GB DDR4 RAM         8      Intel        i3  11th Gen  "
      ]
     },
     "execution_count": 452,
     "metadata": {},
     "output_type": "execute_result"
    }
   ],
   "source": [
    "df['Proc_Gen'] = proc_gen\n",
    "df.head()"
   ]
  },
  {
   "cell_type": "code",
   "execution_count": 463,
   "id": "a3ac8c5b",
   "metadata": {},
   "outputs": [
    {
     "name": "stdout",
     "output_type": "stream",
     "text": [
      "['MSI GF63 Intel', 'MSI GF63 Intel', 'HP Intel Intel', 'DELL Intel Core', 'ASUS Vivobook 15', 'Acer Extensa Intel', 'MSI Modern 14', 'MSI Katana 17', 'CHUWI Intel Core', 'Lenovo Intel Core', 'MSI GF63 Intel', 'MSI GF63 Intel', 'SAMSUNG Galaxy Book', 'SAMSUNG Galaxy Book', 'Lenovo V15 Intel', 'HP AMD Ryzen', 'MSI GF63 Intel', 'MSI GF63 Intel', 'ASUS Vivobook Go', 'DELL Intel Core', 'MSI GF63 Intel', 'MSI Intel Core', 'HP AMD Ryzen', 'Acer Nitro 5']\n"
     ]
    }
   ],
   "source": [
    "lnames = df['Laptop_Name'].values\n",
    "lnames = [' '.join(i.split()[:3]) for i in lnames]\n",
    "print(lnames)"
   ]
  },
  {
   "cell_type": "code",
   "execution_count": 464,
   "id": "7c5482d3",
   "metadata": {},
   "outputs": [],
   "source": [
    "df['Laptop_Name_Proper'] = lnames"
   ]
  },
  {
   "cell_type": "code",
   "execution_count": 465,
   "id": "cd09c8e1",
   "metadata": {},
   "outputs": [],
   "source": [
    "df.to_csv('Flipkart_Laptops_New.csv', index=False)"
   ]
  },
  {
   "cell_type": "markdown",
   "id": "9b6683d1",
   "metadata": {},
   "source": [
    "### EDA\n",
    "Count of Differnt laptops by BrandName.<br>\n",
    "Top N most pricey(dis_price) laptops.<br>\n",
    "Top N Laptops with highest discount.<br>\n",
    "Top N Brand wise highest sum of ratings.<br>"
   ]
  },
  {
   "cell_type": "markdown",
   "id": "17d4fc5f",
   "metadata": {},
   "source": [
    "#### Count of Differnt laptops by BrandName."
   ]
  },
  {
   "cell_type": "code",
   "execution_count": 466,
   "id": "1738f84f",
   "metadata": {},
   "outputs": [
    {
     "data": {
      "image/png": "[encoded data removed]",
      "text/plain": [
       "<Figure size 640x480 with 1 Axes>"
      ]
     },
     "metadata": {},
     "output_type": "display_data"
    }
   ],
   "source": [
    "ax = sns.countplot(x=df['Brand_Name'])\n",
    "ax.bar_label(ax.containers[0])\n",
    "plt.show()"
   ]
  },
  {
   "cell_type": "markdown",
   "id": "908387d6",
   "metadata": {},
   "source": [
    "#### Top N most pricey(dis_price) laptops."
   ]
  },
  {
   "cell_type": "code",
   "execution_count": 470,
   "id": "1d26bbf6",
   "metadata": {},
   "outputs": [
    {
     "data": {
      "text/plain": [
       "Index(['Laptop_Name', 'Brand_Name', 'Discounted_Price', 'Org_Price',\n",
       "       '%Discount', 'Avg_Rating', 'Total_Ratings', 'Total_Reviws', 'Processor',\n",
       "       'Ram', 'Ram(HDD)', 'proc_names', 'Proc_Type', 'Proc_Gen',\n",
       "       'Laptop_Name_Proper'],\n",
       "      dtype='object')"
      ]
     },
     "execution_count": 470,
     "metadata": {},
     "output_type": "execute_result"
    }
   ],
   "source": [
    "df.columns"
   ]
  },
  {
   "cell_type": "code",
   "execution_count": 507,
   "id": "71b157a1",
   "metadata": {},
   "outputs": [],
   "source": [
    "def top_N(feat,N):\n",
    "    plt.figure(figsize=(12,7))\n",
    "    res = df[['Laptop_Name_Proper',feat]].sort_values(feat, ascending=False).head(N)\n",
    "    ax = sns.barplot(y=res['Laptop_Name_Proper'], x=df[feat], ci=0)\n",
    "    plt.title(f'Top {N} Laptop with highest {feat}')\n",
    "    ax.bar_label(ax.containers[0])\n",
    "    plt.tight_layout()\n",
    "    plt.show()"
   ]
  },
  {
   "cell_type": "code",
   "execution_count": 513,
   "id": "d8053de8",
   "metadata": {},
   "outputs": [
    {
     "data": {
      "image/png": "[encoded data removed]",
      "text/plain": [
       "<Figure size 1200x700 with 1 Axes>"
      ]
     },
     "metadata": {},
     "output_type": "display_data"
    }
   ],
   "source": [
    "top_N('Discounted_Price',10)"
   ]
  },
  {
   "cell_type": "code",
   "execution_count": 514,
   "id": "2db8a837",
   "metadata": {},
   "outputs": [
    {
     "name": "stdout",
     "output_type": "stream",
     "text": [
      "Laptop_Name_Proper    10\n",
      "Discounted_Price      10\n",
      "dtype: int64\n"
     ]
    },
    {
     "data": {
      "text/html": [
       "<div>\n",
       "<style scoped>\n",
       "    .dataframe tbody tr th:only-of-type {\n",
       "        vertical-align: middle;\n",
       "    }\n",
       "\n",
       "    .dataframe tbody tr th {\n",
       "        vertical-align: top;\n",
       "    }\n",
       "\n",
       "    .dataframe thead th {\n",
       "        text-align: right;\n",
       "    }\n",
       "</style>\n",
       "<table border=\"1\" class=\"dataframe\">\n",
       "  <thead>\n",
       "    <tr style=\"text-align: right;\">\n",
       "      <th></th>\n",
       "      <th>Laptop_Name_Proper</th>\n",
       "      <th>Discounted_Price</th>\n",
       "    </tr>\n",
       "  </thead>\n",
       "  <tbody>\n",
       "    <tr>\n",
       "      <th>7</th>\n",
       "      <td>MSI Katana 17</td>\n",
       "      <td>110990</td>\n",
       "    </tr>\n",
       "    <tr>\n",
       "      <th>1</th>\n",
       "      <td>MSI GF63 Intel</td>\n",
       "      <td>97990</td>\n",
       "    </tr>\n",
       "    <tr>\n",
       "      <th>11</th>\n",
       "      <td>MSI GF63 Intel</td>\n",
       "      <td>87990</td>\n",
       "    </tr>\n",
       "    <tr>\n",
       "      <th>20</th>\n",
       "      <td>MSI GF63 Intel</td>\n",
       "      <td>86990</td>\n",
       "    </tr>\n",
       "    <tr>\n",
       "      <th>21</th>\n",
       "      <td>MSI Intel Core</td>\n",
       "      <td>69990</td>\n",
       "    </tr>\n",
       "    <tr>\n",
       "      <th>10</th>\n",
       "      <td>MSI GF63 Intel</td>\n",
       "      <td>66890</td>\n",
       "    </tr>\n",
       "    <tr>\n",
       "      <th>23</th>\n",
       "      <td>Acer Nitro 5</td>\n",
       "      <td>62990</td>\n",
       "    </tr>\n",
       "    <tr>\n",
       "      <th>16</th>\n",
       "      <td>MSI GF63 Intel</td>\n",
       "      <td>59990</td>\n",
       "    </tr>\n",
       "    <tr>\n",
       "      <th>17</th>\n",
       "      <td>MSI GF63 Intel</td>\n",
       "      <td>57990</td>\n",
       "    </tr>\n",
       "    <tr>\n",
       "      <th>9</th>\n",
       "      <td>Lenovo Intel Core</td>\n",
       "      <td>49990</td>\n",
       "    </tr>\n",
       "  </tbody>\n",
       "</table>\n",
       "</div>"
      ],
      "text/plain": [
       "   Laptop_Name_Proper  Discounted_Price\n",
       "7       MSI Katana 17            110990\n",
       "1      MSI GF63 Intel             97990\n",
       "11     MSI GF63 Intel             87990\n",
       "20     MSI GF63 Intel             86990\n",
       "21     MSI Intel Core             69990\n",
       "10     MSI GF63 Intel             66890\n",
       "23       Acer Nitro 5             62990\n",
       "16     MSI GF63 Intel             59990\n",
       "17     MSI GF63 Intel             57990\n",
       "9   Lenovo Intel Core             49990"
      ]
     },
     "execution_count": 514,
     "metadata": {},
     "output_type": "execute_result"
    }
   ],
   "source": [
    "res = df[['Laptop_Name_Proper','Discounted_Price']].sort_values('Discounted_Price', ascending=False).head(10)\n",
    "print(res.count())\n",
    "res"
   ]
  },
  {
   "cell_type": "markdown",
   "id": "c9feb0cf",
   "metadata": {},
   "source": [
    "#### Top N Laptops with highest discount."
   ]
  },
  {
   "cell_type": "code",
   "execution_count": 516,
   "id": "b43b6117",
   "metadata": {},
   "outputs": [
    {
     "data": {
      "image/png": "[encoded data removed]",
      "text/plain": [
       "<Figure size 1200x700 with 1 Axes>"
      ]
     },
     "metadata": {},
     "output_type": "display_data"
    }
   ],
   "source": [
    "top_N('%Discount',10)"
   ]
  },
  {
   "cell_type": "code",
   "execution_count": 517,
   "id": "03da5d86",
   "metadata": {},
   "outputs": [
    {
     "data": {
      "image/png": "[encoded data removed]",
      "text/plain": [
       "<Figure size 1200x700 with 1 Axes>"
      ]
     },
     "metadata": {},
     "output_type": "display_data"
    }
   ],
   "source": [
    "top_N('Org_Price',10)"
   ]
  },
  {
   "cell_type": "code",
   "execution_count": 518,
   "id": "a18a143f",
   "metadata": {},
   "outputs": [
    {
     "name": "stdout",
     "output_type": "stream",
     "text": [
      "Laptop_Name_Proper    10\n",
      "Org_Price             10\n",
      "dtype: int64\n"
     ]
    },
    {
     "data": {
      "text/html": [
       "<div>\n",
       "<style scoped>\n",
       "    .dataframe tbody tr th:only-of-type {\n",
       "        vertical-align: middle;\n",
       "    }\n",
       "\n",
       "    .dataframe tbody tr th {\n",
       "        vertical-align: top;\n",
       "    }\n",
       "\n",
       "    .dataframe thead th {\n",
       "        text-align: right;\n",
       "    }\n",
       "</style>\n",
       "<table border=\"1\" class=\"dataframe\">\n",
       "  <thead>\n",
       "    <tr style=\"text-align: right;\">\n",
       "      <th></th>\n",
       "      <th>Laptop_Name_Proper</th>\n",
       "      <th>Org_Price</th>\n",
       "    </tr>\n",
       "  </thead>\n",
       "  <tbody>\n",
       "    <tr>\n",
       "      <th>7</th>\n",
       "      <td>MSI Katana 17</td>\n",
       "      <td>149990</td>\n",
       "    </tr>\n",
       "    <tr>\n",
       "      <th>11</th>\n",
       "      <td>MSI GF63 Intel</td>\n",
       "      <td>115990</td>\n",
       "    </tr>\n",
       "    <tr>\n",
       "      <th>21</th>\n",
       "      <td>MSI Intel Core</td>\n",
       "      <td>114990</td>\n",
       "    </tr>\n",
       "    <tr>\n",
       "      <th>20</th>\n",
       "      <td>MSI GF63 Intel</td>\n",
       "      <td>111990</td>\n",
       "    </tr>\n",
       "    <tr>\n",
       "      <th>1</th>\n",
       "      <td>MSI GF63 Intel</td>\n",
       "      <td>111990</td>\n",
       "    </tr>\n",
       "    <tr>\n",
       "      <th>23</th>\n",
       "      <td>Acer Nitro 5</td>\n",
       "      <td>96999</td>\n",
       "    </tr>\n",
       "    <tr>\n",
       "      <th>9</th>\n",
       "      <td>Lenovo Intel Core</td>\n",
       "      <td>90000</td>\n",
       "    </tr>\n",
       "    <tr>\n",
       "      <th>12</th>\n",
       "      <td>SAMSUNG Galaxy Book</td>\n",
       "      <td>85990</td>\n",
       "    </tr>\n",
       "    <tr>\n",
       "      <th>17</th>\n",
       "      <td>MSI GF63 Intel</td>\n",
       "      <td>84990</td>\n",
       "    </tr>\n",
       "    <tr>\n",
       "      <th>10</th>\n",
       "      <td>MSI GF63 Intel</td>\n",
       "      <td>82990</td>\n",
       "    </tr>\n",
       "  </tbody>\n",
       "</table>\n",
       "</div>"
      ],
      "text/plain": [
       "     Laptop_Name_Proper  Org_Price\n",
       "7         MSI Katana 17     149990\n",
       "11       MSI GF63 Intel     115990\n",
       "21       MSI Intel Core     114990\n",
       "20       MSI GF63 Intel     111990\n",
       "1        MSI GF63 Intel     111990\n",
       "23         Acer Nitro 5      96999\n",
       "9     Lenovo Intel Core      90000\n",
       "12  SAMSUNG Galaxy Book      85990\n",
       "17       MSI GF63 Intel      84990\n",
       "10       MSI GF63 Intel      82990"
      ]
     },
     "execution_count": 518,
     "metadata": {},
     "output_type": "execute_result"
    }
   ],
   "source": [
    "res = df[['Laptop_Name_Proper','Org_Price']].sort_values('Org_Price', ascending=False).head(10)\n",
    "print(res.count())\n",
    "res"
   ]
  },
  {
   "cell_type": "markdown",
   "id": "e4ed7ab5",
   "metadata": {},
   "source": [
    "#### Top N Brand wise highest sum of total ratings."
   ]
  },
  {
   "cell_type": "code",
   "execution_count": 519,
   "id": "49007e7a",
   "metadata": {},
   "outputs": [
    {
     "data": {
      "text/plain": [
       "Index(['Laptop_Name', 'Brand_Name', 'Discounted_Price', 'Org_Price',\n",
       "       '%Discount', 'Avg_Rating', 'Total_Ratings', 'Total_Reviws', 'Processor',\n",
       "       'Ram', 'Ram(HDD)', 'proc_names', 'Proc_Type', 'Proc_Gen',\n",
       "       'Laptop_Name_Proper'],\n",
       "      dtype='object')"
      ]
     },
     "execution_count": 519,
     "metadata": {},
     "output_type": "execute_result"
    }
   ],
   "source": [
    "df.columns"
   ]
  },
  {
   "cell_type": "code",
   "execution_count": 530,
   "id": "9a98fa61",
   "metadata": {},
   "outputs": [
    {
     "data": {
      "image/png": "[encoded data removed]",
      "text/plain": [
       "<Figure size 640x480 with 1 Axes>"
      ]
     },
     "metadata": {},
     "output_type": "display_data"
    }
   ],
   "source": [
    "r1 = df.groupby('Brand_Name')['Total_Ratings'].sum().sort_values(ascending=False).reset_index()\n",
    "N=6\n",
    "r1 = r1.head(6)\n",
    "ax=sns.barplot(y=r1['Total_Ratings'],x=r1['Brand_Name'])\n",
    "ax.bar_label(ax.containers[0])\n",
    "plt.title(f'Top {N} Brand wise highest sum of total ratings')\n",
    "plt.show()"
   ]
  },
  {
   "cell_type": "code",
   "execution_count": null,
   "id": "f7bfadd9",
   "metadata": {},
   "outputs": [],
   "source": []
  }
 ],
 "metadata": {
  "kernelspec": {
   "display_name": "Python 3 (ipykernel)",
   "language": "python",
   "name": "python3"
  },
  "language_info": {
   "codemirror_mode": {
    "name": "ipython",
    "version": 3
   },
   "file_extension": ".py",
   "mimetype": "text/x-python",
   "name": "python",
   "nbconvert_exporter": "python",
   "pygments_lexer": "ipython3",
   "version": "3.11.7"
  }
 },
 "nbformat": 4,
 "nbformat_minor": 5
}
